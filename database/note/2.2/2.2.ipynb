{
 "cells": [
  {
   "cell_type": "code",
   "execution_count": 11,
   "metadata": {},
   "outputs": [],
   "source": [
    "def read_lines(fn):\n",
    "    # return open(fn, 'r').readlines() # ['coffee', 100, '/n']\n",
    "    return [line.strip() for line in open(fn, 'r').readlines()]\n",
    "\n",
    "def parse_data(data, parser):\n",
    "    return [parser(line) for line in data]\n",
    "\n",
    "def extract_col(parsed_data, idx):\n",
    "    return [row[idx] for row in parsed_data]\n",
    "\n",
    "def my_filter(col, f): # tranform function, filter function\n",
    "    return [val for val in col if f(val)]\n",
    "\n",
    "def my_map(col, f):\n",
    "    return [f(val) for val in col]\n",
    "\n",
    "# create lists each time, waste mem to copy"
   ]
  },
  {
   "cell_type": "code",
   "execution_count": 16,
   "metadata": {},
   "outputs": [
    {
     "ename": "ValueError",
     "evalue": "max() arg is an empty sequence",
     "output_type": "error",
     "traceback": [
      "\u001b[1;31m---------------------------------------------------------------------------\u001b[0m",
      "\u001b[1;31mValueError\u001b[0m                                Traceback (most recent call last)",
      "\u001b[1;32m~\\AppData\\Local\\Temp/ipykernel_12756/757627945.py\u001b[0m in \u001b[0;36m<module>\u001b[1;34m\u001b[0m\n\u001b[0;32m      7\u001b[0m \u001b[0mints\u001b[0m \u001b[1;33m=\u001b[0m \u001b[0mmy_map\u001b[0m\u001b[1;33m(\u001b[0m\u001b[0mnums\u001b[0m\u001b[1;33m,\u001b[0m \u001b[0mint\u001b[0m\u001b[1;33m)\u001b[0m\u001b[1;33m\u001b[0m\u001b[1;33m\u001b[0m\u001b[0m\n\u001b[0;32m      8\u001b[0m \u001b[1;31m# print(ints)\u001b[0m\u001b[1;33m\u001b[0m\u001b[1;33m\u001b[0m\u001b[0m\n\u001b[1;32m----> 9\u001b[1;33m \u001b[0mmax\u001b[0m\u001b[1;33m(\u001b[0m\u001b[0mints\u001b[0m\u001b[1;33m)\u001b[0m\u001b[1;33m\u001b[0m\u001b[1;33m\u001b[0m\u001b[0m\n\u001b[0m",
      "\u001b[1;31mValueError\u001b[0m: max() arg is an empty sequence"
     ]
    }
   ],
   "source": [
    "path = \"starbucks.csv\"\n",
    "data = read_lines(path)\n",
    "parsed_data = parse_data(data, lambda line: line.split(','))\n",
    "# print(parsed_data)\n",
    "col = extract_col(parsed_data, 1)\n",
    "nums = my_filter(col, lambda v: v.isnumeric())\n",
    "ints = my_map(nums, int)\n",
    "# print(ints)\n",
    "max(ints)"
   ]
  },
  {
   "cell_type": "markdown",
   "metadata": {},
   "source": [
    "* generator is a function that you can pause and then resume\n",
    "* a generator function will give an object that implements the \"iterator\" protocol\n",
    "* obj will implement __iter__ and __next__\n",
    "* there is no return in generator function\n",
    "* automatically gives back an iterator\n",
    "* yield -- gives back a value for next\n",
    "\n",
    "\n"
   ]
  },
  {
   "cell_type": "code",
   "execution_count": 25,
   "metadata": {},
   "outputs": [],
   "source": [
    "def my_gen():\n",
    "    print(\"before yield 1\")\n",
    "    yield 1\n",
    "    print(2)\n",
    "    yield 2\n",
    "    print(3)\n",
    "    yield 3\n",
    "it = my_gen()"
   ]
  },
  {
   "cell_type": "code",
   "execution_count": 20,
   "metadata": {},
   "outputs": [
    {
     "name": "stdout",
     "output_type": "stream",
     "text": [
      "before yielf 1\n"
     ]
    },
    {
     "data": {
      "text/plain": [
       "1"
      ]
     },
     "execution_count": 20,
     "metadata": {},
     "output_type": "execute_result"
    }
   ],
   "source": [
    "next(it)"
   ]
  },
  {
   "cell_type": "code",
   "execution_count": 21,
   "metadata": {},
   "outputs": [
    {
     "name": "stdout",
     "output_type": "stream",
     "text": [
      "2\n"
     ]
    },
    {
     "data": {
      "text/plain": [
       "2"
      ]
     },
     "execution_count": 21,
     "metadata": {},
     "output_type": "execute_result"
    }
   ],
   "source": [
    "next(it)"
   ]
  },
  {
   "cell_type": "code",
   "execution_count": 22,
   "metadata": {},
   "outputs": [
    {
     "name": "stdout",
     "output_type": "stream",
     "text": [
      "3\n"
     ]
    },
    {
     "data": {
      "text/plain": [
       "3"
      ]
     },
     "execution_count": 22,
     "metadata": {},
     "output_type": "execute_result"
    }
   ],
   "source": [
    "next(it)"
   ]
  },
  {
   "cell_type": "code",
   "execution_count": 23,
   "metadata": {},
   "outputs": [
    {
     "ename": "StopIteration",
     "evalue": "",
     "output_type": "error",
     "traceback": [
      "\u001b[1;31m---------------------------------------------------------------------------\u001b[0m",
      "\u001b[1;31mStopIteration\u001b[0m                             Traceback (most recent call last)",
      "\u001b[1;32m~\\AppData\\Local\\Temp/ipykernel_12756/600241529.py\u001b[0m in \u001b[0;36m<module>\u001b[1;34m\u001b[0m\n\u001b[1;32m----> 1\u001b[1;33m \u001b[0mnext\u001b[0m\u001b[1;33m(\u001b[0m\u001b[0mit\u001b[0m\u001b[1;33m)\u001b[0m\u001b[1;33m\u001b[0m\u001b[1;33m\u001b[0m\u001b[0m\n\u001b[0m",
      "\u001b[1;31mStopIteration\u001b[0m: "
     ]
    }
   ],
   "source": [
    "next(it)"
   ]
  },
  {
   "cell_type": "code",
   "execution_count": 26,
   "metadata": {},
   "outputs": [
    {
     "name": "stdout",
     "output_type": "stream",
     "text": [
      "before yield 1\n",
      "1\n",
      "2\n",
      "2\n",
      "3\n",
      "3\n"
     ]
    }
   ],
   "source": [
    "for n in my_gen():\n",
    "    print(n)"
   ]
  },
  {
   "cell_type": "code",
   "execution_count": 29,
   "metadata": {},
   "outputs": [],
   "source": [
    "# don't define a class, just make a function\n",
    "def infinite_abc():\n",
    "    code_point = 65\n",
    "    while True:\n",
    "        yield chr(code_point)\n",
    "        code_point += 1\n",
    "        if code_point > 67:\n",
    "            code_point = 65\n",
    "it = infinite_abc()\n"
   ]
  },
  {
   "cell_type": "code",
   "execution_count": 34,
   "metadata": {},
   "outputs": [
    {
     "name": "stdout",
     "output_type": "stream",
     "text": [
      "C\n",
      "A\n",
      "B\n",
      "C\n"
     ]
    }
   ],
   "source": [
    "print(next(it))\n",
    "print(next(it))\n",
    "print(next(it))\n",
    "print(next(it))"
   ]
  },
  {
   "cell_type": "code",
   "execution_count": 36,
   "metadata": {},
   "outputs": [
    {
     "name": "stdout",
     "output_type": "stream",
     "text": [
      "8856\n",
      "Help on built-in function getsizeof in module sys:\n",
      "\n",
      "getsizeof(...)\n",
      "    getsizeof(object [, default]) -> int\n",
      "    \n",
      "    Return the size of object in bytes.\n",
      "\n",
      "None\n"
     ]
    }
   ],
   "source": [
    "import sys\n",
    "res = [i ** 2 for i in range(1000)]\n",
    "print(sys.getsizeof(res))\n",
    "print(help(sys.getsizeof))"
   ]
  },
  {
   "cell_type": "code",
   "execution_count": 38,
   "metadata": {},
   "outputs": [
    {
     "data": {
      "text/plain": [
       "112"
      ]
     },
     "execution_count": 38,
     "metadata": {},
     "output_type": "execute_result"
    }
   ],
   "source": [
    "res = (i ** 2 for i in range(1000)) # parenthesis give generator expression\n",
    "sys.getsizeof(res)\n",
    "# use less mem"
   ]
  },
  {
   "cell_type": "code",
   "execution_count": 40,
   "metadata": {},
   "outputs": [
    {
     "name": "stdout",
     "output_type": "stream",
     "text": [
      "{'Beverage_category': 'Coffee', 'Beverage': 'Brewed Coffee', 'Beverage_prep': 'Short', 'Calories': '3', ' Total Fat (g)': '0.1', 'Trans Fat (g) ': '0', 'Saturated Fat (g)': '0', ' Sodium (mg)': '0', ' Total Carbohydrates (g) ': '5', 'Cholesterol (mg)': '0', ' Dietary Fibre (g)': '0', ' Sugars (g)': '0', ' Protein (g) ': '0.3', 'Vitamin A (% DV) ': '0%', 'Vitamin C (% DV)': '0%', ' Calcium (% DV) ': '0%', 'Iron (% DV) ': '0%', 'Caffeine (mg)': '175'}\n",
      "{'Beverage_category': 'Coffee', 'Beverage': 'Brewed Coffee', 'Beverage_prep': 'Tall', 'Calories': '4', ' Total Fat (g)': '0.1', 'Trans Fat (g) ': '0', 'Saturated Fat (g)': '0', ' Sodium (mg)': '0', ' Total Carbohydrates (g) ': '10', 'Cholesterol (mg)': '0', ' Dietary Fibre (g)': '0', ' Sugars (g)': '0', ' Protein (g) ': '0.5', 'Vitamin A (% DV) ': '0%', 'Vitamin C (% DV)': '0%', ' Calcium (% DV) ': '0%', 'Iron (% DV) ': '0%', 'Caffeine (mg)': '260'}\n",
      "{'Beverage_category': 'Coffee', 'Beverage': 'Brewed Coffee', 'Beverage_prep': 'Grande', 'Calories': '5', ' Total Fat (g)': '0.1', 'Trans Fat (g) ': '0', 'Saturated Fat (g)': '0', ' Sodium (mg)': '0', ' Total Carbohydrates (g) ': '10', 'Cholesterol (mg)': '0', ' Dietary Fibre (g)': '0', ' Sugars (g)': '0', ' Protein (g) ': '1', 'Vitamin A (% DV) ': '0%', 'Vitamin C (% DV)': '0%', ' Calcium (% DV) ': '0%', 'Iron (% DV) ': '0%', 'Caffeine (mg)': '330'}\n",
      "{'Beverage_category': 'Coffee', 'Beverage': 'Brewed Coffee', 'Beverage_prep': 'Venti', 'Calories': '5', ' Total Fat (g)': '0.1', 'Trans Fat (g) ': '0', 'Saturated Fat (g)': '0', ' Sodium (mg)': '0', ' Total Carbohydrates (g) ': '10', 'Cholesterol (mg)': '0', ' Dietary Fibre (g)': '0', ' Sugars (g)': '0', ' Protein (g) ': '1', 'Vitamin A (% DV) ': '0%', 'Vitamin C (% DV)': '0%', ' Calcium (% DV) ': '2%', 'Iron (% DV) ': '0%', 'Caffeine (mg)': '410'}\n",
      "{'Beverage_category': 'Classic Espresso Drinks', 'Beverage': 'Caff猫 Latte', 'Beverage_prep': 'Short Nonfat Milk', 'Calories': '70', ' Total Fat (g)': '0.1', 'Trans Fat (g) ': '0.1', 'Saturated Fat (g)': '0', ' Sodium (mg)': '5', ' Total Carbohydrates (g) ': '75', 'Cholesterol (mg)': '10', ' Dietary Fibre (g)': '0', ' Sugars (g)': '9', ' Protein (g) ': '6', 'Vitamin A (% DV) ': '10%', 'Vitamin C (% DV)': '0%', ' Calcium (% DV) ': '20%', 'Iron (% DV) ': '0%', 'Caffeine (mg)': '75'}\n",
      "{'Beverage_category': 'Classic Espresso Drinks', 'Beverage': 'Caff猫 Latte', 'Beverage_prep': '2% Milk', 'Calories': '100', ' Total Fat (g)': '3.5', 'Trans Fat (g) ': '2', 'Saturated Fat (g)': '0.1', ' Sodium (mg)': '15', ' Total Carbohydrates (g) ': '85', 'Cholesterol (mg)': '10', ' Dietary Fibre (g)': '0', ' Sugars (g)': '9', ' Protein (g) ': '6', 'Vitamin A (% DV) ': '10%', 'Vitamin C (% DV)': '0%', ' Calcium (% DV) ': '20%', 'Iron (% DV) ': '0%', 'Caffeine (mg)': '75'}\n",
      "{'Beverage_category': 'Classic Espresso Drinks', 'Beverage': 'Caff猫 Latte', 'Beverage_prep': 'Soymilk', 'Calories': '70', ' Total Fat (g)': '2.5', 'Trans Fat (g) ': '0.4', 'Saturated Fat (g)': '0', ' Sodium (mg)': '0', ' Total Carbohydrates (g) ': '65', 'Cholesterol (mg)': '6', ' Dietary Fibre (g)': '1', ' Sugars (g)': '4', ' Protein (g) ': '5', 'Vitamin A (% DV) ': '6%', 'Vitamin C (% DV)': '0%', ' Calcium (% DV) ': '20%', 'Iron (% DV) ': '8%', 'Caffeine (mg)': '75'}\n",
      "{'Beverage_category': 'Classic Espresso Drinks', 'Beverage': 'Caff猫 Latte', 'Beverage_prep': 'Tall Nonfat Milk', 'Calories': '100', ' Total Fat (g)': '0.2', 'Trans Fat (g) ': '0.2', 'Saturated Fat (g)': '0', ' Sodium (mg)': '5', ' Total Carbohydrates (g) ': '120', 'Cholesterol (mg)': '15', ' Dietary Fibre (g)': '0', ' Sugars (g)': '14', ' Protein (g) ': '10', 'Vitamin A (% DV) ': '15%', 'Vitamin C (% DV)': '0%', ' Calcium (% DV) ': '30%', 'Iron (% DV) ': '0%', 'Caffeine (mg)': '75'}\n",
      "{'Beverage_category': 'Classic Espresso Drinks', 'Beverage': 'Caff猫 Latte', 'Beverage_prep': '2% Milk', 'Calories': '150', ' Total Fat (g)': '6', 'Trans Fat (g) ': '3', 'Saturated Fat (g)': '0.2', ' Sodium (mg)': '25', ' Total Carbohydrates (g) ': '135', 'Cholesterol (mg)': '15', ' Dietary Fibre (g)': '0', ' Sugars (g)': '14', ' Protein (g) ': '10', 'Vitamin A (% DV) ': '15%', 'Vitamin C (% DV)': '0%', ' Calcium (% DV) ': '30%', 'Iron (% DV) ': '0%', 'Caffeine (mg)': '75'}\n",
      "{'Beverage_category': 'Classic Espresso Drinks', 'Beverage': 'Caff猫 Latte', 'Beverage_prep': 'Soymilk', 'Calories': '110', ' Total Fat (g)': '4.5', 'Trans Fat (g) ': '0.5', 'Saturated Fat (g)': '0', ' Sodium (mg)': '0', ' Total Carbohydrates (g) ': '105', 'Cholesterol (mg)': '10', ' Dietary Fibre (g)': '1', ' Sugars (g)': '6', ' Protein (g) ': '8', 'Vitamin A (% DV) ': '10%', 'Vitamin C (% DV)': '0%', ' Calcium (% DV) ': '30%', 'Iron (% DV) ': '15%', 'Caffeine (mg)': '75'}\n",
      "{'Beverage_category': 'Classic Espresso Drinks', 'Beverage': 'Caff猫 Latte', 'Beverage_prep': 'Grande Nonfat Milk', 'Calories': '130', ' Total Fat (g)': '0.3', 'Trans Fat (g) ': '0.2', 'Saturated Fat (g)': '0', ' Sodium (mg)': '5', ' Total Carbohydrates (g) ': '150', 'Cholesterol (mg)': '19', ' Dietary Fibre (g)': '0', ' Sugars (g)': '18', ' Protein (g) ': '13', 'Vitamin A (% DV) ': '20%', 'Vitamin C (% DV)': '0%', ' Calcium (% DV) ': '40%', 'Iron (% DV) ': '0%', 'Caffeine (mg)': '150'}\n",
      "{'Beverage_category': 'Classic Espresso Drinks', 'Beverage': 'Caff猫 Latte', 'Beverage_prep': '2% Milk', 'Calories': '190', ' Total Fat (g)': '7', 'Trans Fat (g) ': '3.5', 'Saturated Fat (g)': '0.2', ' Sodium (mg)': '30', ' Total Carbohydrates (g) ': '170', 'Cholesterol (mg)': '19', ' Dietary Fibre (g)': '0', ' Sugars (g)': '17', ' Protein (g) ': '12', 'Vitamin A (% DV) ': '20%', 'Vitamin C (% DV)': '2%', ' Calcium (% DV) ': '40%', 'Iron (% DV) ': '0%', 'Caffeine (mg)': '150'}\n",
      "{'Beverage_category': 'Classic Espresso Drinks', 'Beverage': 'Caff猫 Latte', 'Beverage_prep': 'Soymilk', 'Calories': '150', ' Total Fat (g)': '5', 'Trans Fat (g) ': '0.5', 'Saturated Fat (g)': '0', ' Sodium (mg)': '0', ' Total Carbohydrates (g) ': '130', 'Cholesterol (mg)': '13', ' Dietary Fibre (g)': '1', ' Sugars (g)': '8', ' Protein (g) ': '10', 'Vitamin A (% DV) ': '15%', 'Vitamin C (% DV)': '0%', ' Calcium (% DV) ': '40%', 'Iron (% DV) ': '15%', 'Caffeine (mg)': '150'}\n",
      "{'Beverage_category': 'Classic Espresso Drinks', 'Beverage': 'Caff猫 Latte', 'Beverage_prep': 'Venti Nonfat Milk', 'Calories': '170', ' Total Fat (g)': '0.4', 'Trans Fat (g) ': '0.3', 'Saturated Fat (g)': '0', ' Sodium (mg)': '10', ' Total Carbohydrates (g) ': '190', 'Cholesterol (mg)': '25', ' Dietary Fibre (g)': '0', ' Sugars (g)': '23', ' Protein (g) ': '16', 'Vitamin A (% DV) ': '30%', 'Vitamin C (% DV)': '0%', ' Calcium (% DV) ': '50%', 'Iron (% DV) ': '0%', 'Caffeine (mg)': '150'}\n",
      "{'Beverage_category': 'Classic Espresso Drinks', 'Beverage': 'Caff猫 Latte', 'Beverage_prep': '2% Milk', 'Calories': '240', ' Total Fat (g)': '9', 'Trans Fat (g) ': '4.5', 'Saturated Fat (g)': '0.3', ' Sodium (mg)': '35', ' Total Carbohydrates (g) ': '220', 'Cholesterol (mg)': '24', ' Dietary Fibre (g)': '0', ' Sugars (g)': '22', ' Protein (g) ': '16', 'Vitamin A (% DV) ': '25%', 'Vitamin C (% DV)': '2%', ' Calcium (% DV) ': '50%', 'Iron (% DV) ': '0%', 'Caffeine (mg)': '150'}\n",
      "{'Beverage_category': 'Classic Espresso Drinks', 'Beverage': 'Caff猫 Latte', 'Beverage_prep': 'Soymilk', 'Calories': '190', ' Total Fat (g)': '7', 'Trans Fat (g) ': '1', 'Saturated Fat (g)': '0', ' Sodium (mg)': '0', ' Total Carbohydrates (g) ': '170', 'Cholesterol (mg)': '16', ' Dietary Fibre (g)': '2', ' Sugars (g)': '11', ' Protein (g) ': '13', 'Vitamin A (% DV) ': '20%', 'Vitamin C (% DV)': '0%', ' Calcium (% DV) ': '50%', 'Iron (% DV) ': '25%', 'Caffeine (mg)': '150'}\n",
      "{'Beverage_category': 'Classic Espresso Drinks', 'Beverage': 'Caff猫 Mocha (Without Whipped Cream)', 'Beverage_prep': 'Short Nonfat Milk', 'Calories': '110', ' Total Fat (g)': '1.5', 'Trans Fat (g) ': '1', 'Saturated Fat (g)': '0', ' Sodium (mg)': '5', ' Total Carbohydrates (g) ': '60', 'Cholesterol (mg)': '21', ' Dietary Fibre (g)': '1', ' Sugars (g)': '17', ' Protein (g) ': '7', 'Vitamin A (% DV) ': '8%', 'Vitamin C (% DV)': '0%', ' Calcium (% DV) ': '15%', 'Iron (% DV) ': '10%', 'Caffeine (mg)': '85'}\n",
      "{'Beverage_category': 'Classic Espresso Drinks', 'Beverage': 'Caff猫 Mocha (Without Whipped Cream)', 'Beverage_prep': '2% Milk', 'Calories': '130', ' Total Fat (g)': '4', 'Trans Fat (g) ': '2', 'Saturated Fat (g)': '0.1', ' Sodium (mg)': '10', ' Total Carbohydrates (g) ': '70', 'Cholesterol (mg)': '21', ' Dietary Fibre (g)': '1', ' Sugars (g)': '17', ' Protein (g) ': '6', 'Vitamin A (% DV) ': '8%', 'Vitamin C (% DV)': '0%', ' Calcium (% DV) ': '15%', 'Iron (% DV) ': '10%', 'Caffeine (mg)': '85'}\n",
      "{'Beverage_category': 'Classic Espresso Drinks', 'Beverage': 'Caff猫 Mocha (Without Whipped Cream)', 'Beverage_prep': 'Soymilk', 'Calories': '110', ' Total Fat (g)': '3.5', 'Trans Fat (g) ': '1', 'Saturated Fat (g)': '0', ' Sodium (mg)': '0', ' Total Carbohydrates (g) ': '55', 'Cholesterol (mg)': '19', ' Dietary Fibre (g)': '2', ' Sugars (g)': '13', ' Protein (g) ': '6', 'Vitamin A (% DV) ': '6%', 'Vitamin C (% DV)': '0%', ' Calcium (% DV) ': '15%', 'Iron (% DV) ': '20%', 'Caffeine (mg)': '85'}\n",
      "{'Beverage_category': 'Classic Espresso Drinks', 'Beverage': 'Caff猫 Mocha (Without Whipped Cream)', 'Beverage_prep': 'Tall Nonfat Milk', 'Calories': '170', ' Total Fat (g)': '2', 'Trans Fat (g) ': '1', 'Saturated Fat (g)': '0', ' Sodium (mg)': '5', ' Total Carbohydrates (g) ': '100', 'Cholesterol (mg)': '32', ' Dietary Fibre (g)': '1', ' Sugars (g)': '27', ' Protein (g) ': '10', 'Vitamin A (% DV) ': '15%', 'Vitamin C (% DV)': '0%', ' Calcium (% DV) ': '25%', 'Iron (% DV) ': '20%', 'Caffeine (mg)': '95'}\n",
      "{'Beverage_category': 'Classic Espresso Drinks', 'Beverage': 'Caff猫 Mocha (Without Whipped Cream)', 'Beverage_prep': '2% Milk', 'Calories': '200', ' Total Fat (g)': '6', 'Trans Fat (g) ': '3.5', 'Saturated Fat (g)': '0.1', ' Sodium (mg)': '20', ' Total Carbohydrates (g) ': '115', 'Cholesterol (mg)': '32', ' Dietary Fibre (g)': '1', ' Sugars (g)': '26', ' Protein (g) ': '10', 'Vitamin A (% DV) ': '15%', 'Vitamin C (% DV)': '0%', ' Calcium (% DV) ': '25%', 'Iron (% DV) ': '20%', 'Caffeine (mg)': '95'}\n",
      "{'Beverage_category': 'Classic Espresso Drinks', 'Beverage': 'Caff猫 Mocha (Without Whipped Cream)', 'Beverage_prep': 'Soymilk', 'Calories': '180', ' Total Fat (g)': '5', 'Trans Fat (g) ': '1.5', 'Saturated Fat (g)': '0', ' Sodium (mg)': '0', ' Total Carbohydrates (g) ': '85', 'Cholesterol (mg)': '28', ' Dietary Fibre (g)': '2', ' Sugars (g)': '20', ' Protein (g) ': '9', 'Vitamin A (% DV) ': '10%', 'Vitamin C (% DV)': '0%', ' Calcium (% DV) ': '25%', 'Iron (% DV) ': '30%', 'Caffeine (mg)': '95'}\n",
      "{'Beverage_category': 'Classic Espresso Drinks', 'Beverage': 'Caff猫 Mocha (Without Whipped Cream)', 'Beverage_prep': 'Grande Nonfat Milk', 'Calories': '220', ' Total Fat (g)': '2.5', 'Trans Fat (g) ': '1.5', 'Saturated Fat (g)': '0', ' Sodium (mg)': '5', ' Total Carbohydrates (g) ': '125', 'Cholesterol (mg)': '43', ' Dietary Fibre (g)': '2', ' Sugars (g)': '34', ' Protein (g) ': '13', 'Vitamin A (% DV) ': '20%', 'Vitamin C (% DV)': '0%', ' Calcium (% DV) ': '35%', 'Iron (% DV) ': '25%', 'Caffeine (mg)': '175'}\n",
      "{'Beverage_category': 'Classic Espresso Drinks', 'Beverage': 'Caff猫 Mocha (Without Whipped Cream)', 'Beverage_prep': '2% Milk', 'Calories': '260', ' Total Fat (g)': '8', 'Trans Fat (g) ': '4.5', 'Saturated Fat (g)': '0.2', ' Sodium (mg)': '25', ' Total Carbohydrates (g) ': '140', 'Cholesterol (mg)': '42', ' Dietary Fibre (g)': '2', ' Sugars (g)': '34', ' Protein (g) ': '13', 'Vitamin A (% DV) ': '15%', 'Vitamin C (% DV)': '2%', ' Calcium (% DV) ': '35%', 'Iron (% DV) ': '25%', 'Caffeine (mg)': '175'}\n",
      "{'Beverage_category': 'Classic Espresso Drinks', 'Beverage': 'Caff猫 Mocha (Without Whipped Cream)', 'Beverage_prep': 'Soymilk', 'Calories': '230', ' Total Fat (g)': '7', 'Trans Fat (g) ': '2', 'Saturated Fat (g)': '0', ' Sodium (mg)': '0', ' Total Carbohydrates (g) ': '105', 'Cholesterol (mg)': '37', ' Dietary Fibre (g)': '3', ' Sugars (g)': '26', ' Protein (g) ': '11', 'Vitamin A (% DV) ': '10%', 'Vitamin C (% DV)': '0%', ' Calcium (% DV) ': '35%', 'Iron (% DV) ': '40%', 'Caffeine (mg)': '175'}\n",
      "{'Beverage_category': 'Classic Espresso Drinks', 'Beverage': 'Caff猫 Mocha (Without Whipped Cream)', 'Beverage_prep': 'Venti Nonfat Milk', 'Calories': '280', ' Total Fat (g)': '3', 'Trans Fat (g) ': '2', 'Saturated Fat (g)': '0', ' Sodium (mg)': '10', ' Total Carbohydrates (g) ': '160', 'Cholesterol (mg)': '54', ' Dietary Fibre (g)': '2', ' Sugars (g)': '44', ' Protein (g) ': '17', 'Vitamin A (% DV) ': '25%', 'Vitamin C (% DV)': '0%', ' Calcium (% DV) ': '45%', 'Iron (% DV) ': '30%', 'Caffeine (mg)': '180'}\n",
      "{'Beverage_category': 'Classic Espresso Drinks', 'Beverage': 'Caff猫 Mocha (Without Whipped Cream)', 'Beverage_prep': '2% Milk', 'Calories': '340', ' Total Fat (g)': '11', 'Trans Fat (g) ': '6', 'Saturated Fat (g)': '0.2', ' Sodium (mg)': '30', ' Total Carbohydrates (g) ': '180', 'Cholesterol (mg)': '53', ' Dietary Fibre (g)': '2', ' Sugars (g)': '43', ' Protein (g) ': '17', 'Vitamin A (% DV) ': '20%', 'Vitamin C (% DV)': '2%', ' Calcium (% DV) ': '45%', 'Iron (% DV) ': '30%', 'Caffeine (mg)': '180'}\n",
      "{'Beverage_category': 'Classic Espresso Drinks', 'Beverage': 'Caff猫 Mocha (Without Whipped Cream)', 'Beverage_prep': 'Soymilk', 'Calories': '290', ' Total Fat (g)': '9', 'Trans Fat (g) ': '2.5', 'Saturated Fat (g)': '0', ' Sodium (mg)': '0', ' Total Carbohydrates (g) ': '140', 'Cholesterol (mg)': '47', ' Dietary Fibre (g)': '4', ' Sugars (g)': '33', ' Protein (g) ': '14', 'Vitamin A (% DV) ': '15%', 'Vitamin C (% DV)': '0%', ' Calcium (% DV) ': '45%', 'Iron (% DV) ': '50%', 'Caffeine (mg)': '180'}\n",
      "{'Beverage_category': 'Classic Espresso Drinks', 'Beverage': 'Vanilla Latte (Or Other Flavoured Latte)', 'Beverage_prep': 'Short Nonfat Milk', 'Calories': '100', ' Total Fat (g)': '0.1', 'Trans Fat (g) ': '0.1', 'Saturated Fat (g)': '0', ' Sodium (mg)': '5', ' Total Carbohydrates (g) ': '70', 'Cholesterol (mg)': '19', ' Dietary Fibre (g)': '0', ' Sugars (g)': '18', ' Protein (g) ': '6', 'Vitamin A (% DV) ': '10%', 'Vitamin C (% DV)': '0%', ' Calcium (% DV) ': '20%', 'Iron (% DV) ': '0%', 'Caffeine (mg)': '75'}\n",
      "{'Beverage_category': 'Classic Espresso Drinks', 'Beverage': 'Vanilla Latte (Or Other Flavoured Latte)', 'Beverage_prep': '2% Milk', 'Calories': '130', ' Total Fat (g)': '3.5', 'Trans Fat (g) ': '1.5', 'Saturated Fat (g)': '0.1', ' Sodium (mg)': '15', ' Total Carbohydrates (g) ': '80', 'Cholesterol (mg)': '18', ' Dietary Fibre (g)': '0', ' Sugars (g)': '17', ' Protein (g) ': '6', 'Vitamin A (% DV) ': '10%', 'Vitamin C (% DV)': '0%', ' Calcium (% DV) ': '20%', 'Iron (% DV) ': '0%', 'Caffeine (mg)': '75'}\n",
      "{'Beverage_category': 'Classic Espresso Drinks', 'Beverage': 'Vanilla Latte (Or Other Flavoured Latte)', 'Beverage_prep': 'Soymilk', 'Calories': '110', ' Total Fat (g)': '2.5', 'Trans Fat (g) ': '0.3', 'Saturated Fat (g)': '0', ' Sodium (mg)': '0', ' Total Carbohydrates (g) ': '60', 'Cholesterol (mg)': '16', ' Dietary Fibre (g)': '1', ' Sugars (g)': '13', ' Protein (g) ': '5', 'Vitamin A (% DV) ': '6%', 'Vitamin C (% DV)': '0%', ' Calcium (% DV) ': '20%', 'Iron (% DV) ': '8%', 'Caffeine (mg)': '75'}\n",
      "{'Beverage_category': 'Classic Espresso Drinks', 'Beverage': 'Vanilla Latte (Or Other Flavoured Latte)', 'Beverage_prep': 'Tall Nonfat Milk', 'Calories': '150', ' Total Fat (g)': '0.2', 'Trans Fat (g) ': '0.1', 'Saturated Fat (g)': '0', ' Sodium (mg)': '5', ' Total Carbohydrates (g) ': '110', 'Cholesterol (mg)': '28', ' Dietary Fibre (g)': '0', ' Sugars (g)': '27', ' Protein (g) ': '9', 'Vitamin A (% DV) ': '15%', 'Vitamin C (% DV)': '0%', ' Calcium (% DV) ': '30%', 'Iron (% DV) ': '0%', 'Caffeine (mg)': '75'}\n",
      "{'Beverage_category': 'Classic Espresso Drinks', 'Beverage': 'Vanilla Latte (Or Other Flavoured Latte)', 'Beverage_prep': '2% Milk', 'Calories': '200', ' Total Fat (g)': '5', 'Trans Fat (g) ': '2.5', 'Saturated Fat (g)': '0.2', ' Sodium (mg)': '20', ' Total Carbohydrates (g) ': '125', 'Cholesterol (mg)': '28', ' Dietary Fibre (g)': '0', ' Sugars (g)': '27', ' Protein (g) ': '9', 'Vitamin A (% DV) ': '15%', 'Vitamin C (% DV)': '0%', ' Calcium (% DV) ': '30%', 'Iron (% DV) ': '0%', 'Caffeine (mg)': '75'}\n",
      "{'Beverage_category': 'Classic Espresso Drinks', 'Beverage': 'Vanilla Latte (Or Other Flavoured Latte)', 'Beverage_prep': 'Soymilk', 'Calories': '160', ' Total Fat (g)': '4', 'Trans Fat (g) ': '0.5', 'Saturated Fat (g)': '0', ' Sodium (mg)': '0', ' Total Carbohydrates (g) ': '95', 'Cholesterol (mg)': '23', ' Dietary Fibre (g)': '1', ' Sugars (g)': '20', ' Protein (g) ': '7', 'Vitamin A (% DV) ': '10%', 'Vitamin C (% DV)': '0%', ' Calcium (% DV) ': '30%', 'Iron (% DV) ': '15%', 'Caffeine (mg)': '75'}\n",
      "{'Beverage_category': 'Classic Espresso Drinks', 'Beverage': 'Vanilla Latte (Or Other Flavoured Latte)', 'Beverage_prep': 'Grande Nonfat Milk', 'Calories': '200', ' Total Fat (g)': '0.3', 'Trans Fat (g) ': '0.2', 'Saturated Fat (g)': '0', ' Sodium (mg)': '5', ' Total Carbohydrates (g) ': '140', 'Cholesterol (mg)': '37', ' Dietary Fibre (g)': '0', ' Sugars (g)': '35', ' Protein (g) ': '12', 'Vitamin A (% DV) ': '20%', 'Vitamin C (% DV)': '0%', ' Calcium (% DV) ': '35%', 'Iron (% DV) ': '0%', 'Caffeine (mg)': '150'}\n",
      "{'Beverage_category': 'Classic Espresso Drinks', 'Beverage': 'Vanilla Latte (Or Other Flavoured Latte)', 'Beverage_prep': '2% Milk', 'Calories': '250', ' Total Fat (g)': '6', 'Trans Fat (g) ': '3.5', 'Saturated Fat (g)': '0.2', ' Sodium (mg)': '25', ' Total Carbohydrates (g) ': '150', 'Cholesterol (mg)': '37', ' Dietary Fibre (g)': '0', ' Sugars (g)': '35', ' Protein (g) ': '12', 'Vitamin A (% DV) ': '20%', 'Vitamin C (% DV)': '2%', ' Calcium (% DV) ': '35%', 'Iron (% DV) ': '0%', 'Caffeine (mg)': '150'}\n",
      "{'Beverage_category': 'Classic Espresso Drinks', 'Beverage': 'Vanilla Latte (Or Other Flavoured Latte)', 'Beverage_prep': 'Soymilk', 'Calories': '210', ' Total Fat (g)': '5', 'Trans Fat (g) ': '0.5', 'Saturated Fat (g)': '0', ' Sodium (mg)': '0', ' Total Carbohydrates (g) ': '120', 'Cholesterol (mg)': '31', ' Dietary Fibre (g)': '1', ' Sugars (g)': '26', ' Protein (g) ': '9', 'Vitamin A (% DV) ': '10%', 'Vitamin C (% DV)': '0%', ' Calcium (% DV) ': '35%', 'Iron (% DV) ': '15%', 'Caffeine (mg)': '150'}\n",
      "{'Beverage_category': 'Classic Espresso Drinks', 'Beverage': 'Vanilla Latte (Or Other Flavoured Latte)', 'Beverage_prep': 'Venti Nonfat Milk', 'Calories': '250', ' Total Fat (g)': '0.3', 'Trans Fat (g) ': '0.2', 'Saturated Fat (g)': '0', ' Sodium (mg)': '10', ' Total Carbohydrates (g) ': '180', 'Cholesterol (mg)': '47', ' Dietary Fibre (g)': '0', ' Sugars (g)': '45', ' Protein (g) ': '15', 'Vitamin A (% DV) ': '25%', 'Vitamin C (% DV)': '0%', ' Calcium (% DV) ': '50%', 'Iron (% DV) ': '0%', 'Caffeine (mg)': '150'}\n",
      "{'Beverage_category': 'Classic Espresso Drinks', 'Beverage': 'Vanilla Latte (Or Other Flavoured Latte)', 'Beverage_prep': '2% Milk', 'Calories': '320', ' Total Fat (g)': '9', 'Trans Fat (g) ': '4.5', 'Saturated Fat (g)': '0.3', ' Sodium (mg)': '35', ' Total Carbohydrates (g) ': '200', 'Cholesterol (mg)': '46', ' Dietary Fibre (g)': '0', ' Sugars (g)': '44', ' Protein (g) ': '15', 'Vitamin A (% DV) ': '25%', 'Vitamin C (% DV)': '2%', ' Calcium (% DV) ': '45%', 'Iron (% DV) ': '0%', 'Caffeine (mg)': '150'}\n",
      "{'Beverage_category': 'Classic Espresso Drinks', 'Beverage': 'Vanilla Latte (Or Other Flavoured Latte)', 'Beverage_prep': 'Soymilk', 'Calories': '270', ' Total Fat (g)': '7', 'Trans Fat (g) ': '1', 'Saturated Fat (g)': '0', ' Sodium (mg)': '0', ' Total Carbohydrates (g) ': '160', 'Cholesterol (mg)': '39', ' Dietary Fibre (g)': '2', ' Sugars (g)': '33', ' Protein (g) ': '12', 'Vitamin A (% DV) ': '15%', 'Vitamin C (% DV)': '0%', ' Calcium (% DV) ': '45%', 'Iron (% DV) ': '20%', 'Caffeine (mg)': '150'}\n",
      "{'Beverage_category': 'Classic Espresso Drinks', 'Beverage': 'Caff猫 Americano', 'Beverage_prep': 'Short', 'Calories': '5', ' Total Fat (g)': '0', 'Trans Fat (g) ': '0', 'Saturated Fat (g)': '0', ' Sodium (mg)': '0', ' Total Carbohydrates (g) ': '5', 'Cholesterol (mg)': '1', ' Dietary Fibre (g)': '0', ' Sugars (g)': '0', ' Protein (g) ': '0.4', 'Vitamin A (% DV) ': '0%', 'Vitamin C (% DV)': '0%', ' Calcium (% DV) ': '0%', 'Iron (% DV) ': '0%', 'Caffeine (mg)': '75'}\n",
      "{'Beverage_category': 'Classic Espresso Drinks', 'Beverage': 'Caff猫 Americano', 'Beverage_prep': 'Tall', 'Calories': '10', ' Total Fat (g)': '0', 'Trans Fat (g) ': '0', 'Saturated Fat (g)': '0', ' Sodium (mg)': '0', ' Total Carbohydrates (g) ': '10', 'Cholesterol (mg)': '2', ' Dietary Fibre (g)': '0', ' Sugars (g)': '0', ' Protein (g) ': '1', 'Vitamin A (% DV) ': '0%', 'Vitamin C (% DV)': '0%', ' Calcium (% DV) ': '2%', 'Iron (% DV) ': '0%', 'Caffeine (mg)': '150'}\n",
      "{'Beverage_category': 'Classic Espresso Drinks', 'Beverage': 'Caff猫 Americano', 'Beverage_prep': 'Grande', 'Calories': '15', ' Total Fat (g)': '0', 'Trans Fat (g) ': '0', 'Saturated Fat (g)': '0', ' Sodium (mg)': '0', ' Total Carbohydrates (g) ': '15', 'Cholesterol (mg)': '3', ' Dietary Fibre (g)': '0', ' Sugars (g)': '0', ' Protein (g) ': '1', 'Vitamin A (% DV) ': '0%', 'Vitamin C (% DV)': '0%', ' Calcium (% DV) ': '2%', 'Iron (% DV) ': '0%', 'Caffeine (mg)': '225'}\n",
      "{'Beverage_category': 'Classic Espresso Drinks', 'Beverage': 'Caff猫 Americano', 'Beverage_prep': 'Venti', 'Calories': '25', ' Total Fat (g)': '0', 'Trans Fat (g) ': '0', 'Saturated Fat (g)': '0', ' Sodium (mg)': '0', ' Total Carbohydrates (g) ': '15', 'Cholesterol (mg)': '4', ' Dietary Fibre (g)': '0', ' Sugars (g)': '0', ' Protein (g) ': '1', 'Vitamin A (% DV) ': '0%', 'Vitamin C (% DV)': '0%', ' Calcium (% DV) ': '2%', 'Iron (% DV) ': '0%', 'Caffeine (mg)': '300'}\n",
      "{'Beverage_category': 'Classic Espresso Drinks', 'Beverage': 'Cappuccino', 'Beverage_prep': 'Short Nonfat Milk', 'Calories': '50', ' Total Fat (g)': '0.1', 'Trans Fat (g) ': '0.1', 'Saturated Fat (g)': '0', ' Sodium (mg)': '5', ' Total Carbohydrates (g) ': '60', 'Cholesterol (mg)': '8', ' Dietary Fibre (g)': '0', ' Sugars (g)': '7', ' Protein (g) ': '5', 'Vitamin A (% DV) ': '8%', 'Vitamin C (% DV)': '0%', ' Calcium (% DV) ': '15%', 'Iron (% DV) ': '0%', 'Caffeine (mg)': '75'}\n",
      "{'Beverage_category': 'Classic Espresso Drinks', 'Beverage': 'Cappuccino', 'Beverage_prep': '2% Milk', 'Calories': '80', ' Total Fat (g)': '3', 'Trans Fat (g) ': '1.5', 'Saturated Fat (g)': '0.1', ' Sodium (mg)': '10', ' Total Carbohydrates (g) ': '70', 'Cholesterol (mg)': '8', ' Dietary Fibre (g)': '0', ' Sugars (g)': '7', ' Protein (g) ': '5', 'Vitamin A (% DV) ': '8%', 'Vitamin C (% DV)': '0%', ' Calcium (% DV) ': '15%', 'Iron (% DV) ': '0%', 'Caffeine (mg)': '75'}\n",
      "{'Beverage_category': 'Classic Espresso Drinks', 'Beverage': 'Cappuccino', 'Beverage_prep': 'Soymilk', 'Calories': '50', ' Total Fat (g)': '1.5', 'Trans Fat (g) ': '0.2', 'Saturated Fat (g)': '0', ' Sodium (mg)': '0', ' Total Carbohydrates (g) ': '40', 'Cholesterol (mg)': '4', ' Dietary Fibre (g)': '0', ' Sugars (g)': '3', ' Protein (g) ': '3', 'Vitamin A (% DV) ': '4%', 'Vitamin C (% DV)': '0%', ' Calcium (% DV) ': '10%', 'Iron (% DV) ': '6%', 'Caffeine (mg)': '75'}\n",
      "{'Beverage_category': 'Classic Espresso Drinks', 'Beverage': 'Cappuccino', 'Beverage_prep': 'Tall Nonfat Milk', 'Calories': '60', ' Total Fat (g)': '0.1', 'Trans Fat (g) ': '0.1', 'Saturated Fat (g)': '0', ' Sodium (mg)': '5', ' Total Carbohydrates (g) ': '70', 'Cholesterol (mg)': '9', ' Dietary Fibre (g)': '0', ' Sugars (g)': '8', ' Protein (g) ': '6', 'Vitamin A (% DV) ': '10%', 'Vitamin C (% DV)': '0%', ' Calcium (% DV) ': '20%', 'Iron (% DV) ': '0%', 'Caffeine (mg)': '75'}\n",
      "{'Beverage_category': 'Classic Espresso Drinks', 'Beverage': 'Cappuccino', 'Beverage_prep': '2% Milk', 'Calories': '90', ' Total Fat (g)': '3.5', 'Trans Fat (g) ': '1.5', 'Saturated Fat (g)': '0.1', ' Sodium (mg)': '15', ' Total Carbohydrates (g) ': '80', 'Cholesterol (mg)': '9', ' Dietary Fibre (g)': '0', ' Sugars (g)': '8', ' Protein (g) ': '6', 'Vitamin A (% DV) ': '10%', 'Vitamin C (% DV)': '0%', ' Calcium (% DV) ': '20%', 'Iron (% DV) ': '0%', 'Caffeine (mg)': '75'}\n",
      "{'Beverage_category': 'Classic Espresso Drinks', 'Beverage': 'Cappuccino', 'Beverage_prep': 'Soymilk', 'Calories': '70', ' Total Fat (g)': '3', 'Trans Fat (g) ': '0.4', 'Saturated Fat (g)': '0', ' Sodium (mg)': '0', ' Total Carbohydrates (g) ': '65', 'Cholesterol (mg)': '7', ' Dietary Fibre (g)': '1', ' Sugars (g)': '4', ' Protein (g) ': '5', 'Vitamin A (% DV) ': '6%', 'Vitamin C (% DV)': '0%', ' Calcium (% DV) ': '20%', 'Iron (% DV) ': '8%', 'Caffeine (mg)': '75'}\n",
      "{'Beverage_category': 'Classic Espresso Drinks', 'Beverage': 'Cappuccino', 'Beverage_prep': 'Grande Nonfat Milk', 'Calories': '80', ' Total Fat (g)': '0.2', 'Trans Fat (g) ': '0.1', 'Saturated Fat (g)': '0', ' Sodium (mg)': '5', ' Total Carbohydrates (g) ': '90', 'Cholesterol (mg)': '12', ' Dietary Fibre (g)': '0', ' Sugars (g)': '10', ' Protein (g) ': '8', 'Vitamin A (% DV) ': '15%', 'Vitamin C (% DV)': '0%', ' Calcium (% DV) ': '25%', 'Iron (% DV) ': '0%', 'Caffeine (mg)': '150'}\n",
      "{'Beverage_category': 'Classic Espresso Drinks', 'Beverage': 'Cappuccino', 'Beverage_prep': '2% Milk', 'Calories': '120', ' Total Fat (g)': '4', 'Trans Fat (g) ': '2', 'Saturated Fat (g)': '0.1', ' Sodium (mg)': '15', ' Total Carbohydrates (g) ': '100', 'Cholesterol (mg)': '12', ' Dietary Fibre (g)': '0', ' Sugars (g)': '10', ' Protein (g) ': '8', 'Vitamin A (% DV) ': '10%', 'Vitamin C (% DV)': '0%', ' Calcium (% DV) ': '25%', 'Iron (% DV) ': '0%', 'Caffeine (mg)': '150'}\n",
      "{'Beverage_category': 'Classic Espresso Drinks', 'Beverage': 'Cappuccino', 'Beverage_prep': 'Soymilk', 'Calories': '100', ' Total Fat (g)': '3.5', 'Trans Fat (g) ': '0.4', 'Saturated Fat (g)': '0', ' Sodium (mg)': '0', ' Total Carbohydrates (g) ': '80', 'Cholesterol (mg)': '9', ' Dietary Fibre (g)': '1', ' Sugars (g)': '5', ' Protein (g) ': '7', 'Vitamin A (% DV) ': '8%', 'Vitamin C (% DV)': '0%', ' Calcium (% DV) ': '25%', 'Iron (% DV) ': '10%', 'Caffeine (mg)': '150'}\n",
      "{'Beverage_category': 'Classic Espresso Drinks', 'Beverage': 'Cappuccino', 'Beverage_prep': 'Venti Nonfat Milk', 'Calories': '110', ' Total Fat (g)': '0.2', 'Trans Fat (g) ': '0.2', 'Saturated Fat (g)': '0', ' Sodium (mg)': '5', ' Total Carbohydrates (g) ': '120', 'Cholesterol (mg)': '16', ' Dietary Fibre (g)': '0', ' Sugars (g)': '14', ' Protein (g) ': '10', 'Vitamin A (% DV) ': '20%', 'Vitamin C (% DV)': '0%', ' Calcium (% DV) ': '30%', 'Iron (% DV) ': '0%', 'Caffeine (mg)': '150'}\n",
      "{'Beverage_category': 'Classic Espresso Drinks', 'Beverage': 'Cappuccino', 'Beverage_prep': '2% Milk', 'Calories': '150', ' Total Fat (g)': '6', 'Trans Fat (g) ': '3', 'Saturated Fat (g)': '0.2', ' Sodium (mg)': '25', ' Total Carbohydrates (g) ': '135', 'Cholesterol (mg)': '16', ' Dietary Fibre (g)': '0', ' Sugars (g)': '14', ' Protein (g) ': '10', 'Vitamin A (% DV) ': '15%', 'Vitamin C (% DV)': '0%', ' Calcium (% DV) ': '30%', 'Iron (% DV) ': '0%', 'Caffeine (mg)': '150'}\n",
      "{'Beverage_category': 'Classic Espresso Drinks', 'Beverage': 'Cappuccino', 'Beverage_prep': 'Soymilk', 'Calories': '120', ' Total Fat (g)': '4.5', 'Trans Fat (g) ': '0.5', 'Saturated Fat (g)': '0', ' Sodium (mg)': '0', ' Total Carbohydrates (g) ': '110', 'Cholesterol (mg)': '11', ' Dietary Fibre (g)': '1', ' Sugars (g)': '7', ' Protein (g) ': '9', 'Vitamin A (% DV) ': '10%', 'Vitamin C (% DV)': '0%', ' Calcium (% DV) ': '35%', 'Iron (% DV) ': '15%', 'Caffeine (mg)': '150'}\n",
      "{'Beverage_category': 'Classic Espresso Drinks', 'Beverage': 'Espresso', 'Beverage_prep': 'Solo', 'Calories': '5', ' Total Fat (g)': '0', 'Trans Fat (g) ': '0', 'Saturated Fat (g)': '0', ' Sodium (mg)': '0', ' Total Carbohydrates (g) ': '0', 'Cholesterol (mg)': '1', ' Dietary Fibre (g)': '0', ' Sugars (g)': '0', ' Protein (g) ': '0.4', 'Vitamin A (% DV) ': '0%', 'Vitamin C (% DV)': '0%', ' Calcium (% DV) ': '0%', 'Iron (% DV) ': '0%', 'Caffeine (mg)': '75'}\n",
      "{'Beverage_category': 'Classic Espresso Drinks', 'Beverage': 'Espresso', 'Beverage_prep': 'Doppio', 'Calories': '10', ' Total Fat (g)': '0', 'Trans Fat (g) ': '0', 'Saturated Fat (g)': '0', ' Sodium (mg)': '0', ' Total Carbohydrates (g) ': '1', 'Cholesterol (mg)': '2', ' Dietary Fibre (g)': '0', ' Sugars (g)': '0', ' Protein (g) ': '1', 'Vitamin A (% DV) ': '0%', 'Vitamin C (% DV)': '0%', ' Calcium (% DV) ': '0%', 'Iron (% DV) ': '0%', 'Caffeine (mg)': '150'}\n",
      "{'Beverage_category': 'Classic Espresso Drinks', 'Beverage': 'Skinny Latte (Any Flavour)', 'Beverage_prep': 'Short Nonfat Milk', 'Calories': '60', ' Total Fat (g)': '0.1', 'Trans Fat (g) ': '0.1', 'Saturated Fat (g)': '0', ' Sodium (mg)': '5', ' Total Carbohydrates (g) ': '80', 'Cholesterol (mg)': '9', ' Dietary Fibre (g)': '0', ' Sugars (g)': '8', ' Protein (g) ': '6', 'Vitamin A (% DV) ': '10%', 'Vitamin C (% DV)': '0%', ' Calcium (% DV) ': '20%', 'Iron (% DV) ': '0%', 'Caffeine (mg)': '75'}\n",
      "{'Beverage_category': 'Classic Espresso Drinks', 'Beverage': 'Skinny Latte (Any Flavour)', 'Beverage_prep': 'Tall Nonfat Milk', 'Calories': '100', ' Total Fat (g)': '0.2', 'Trans Fat (g) ': '0.1', 'Saturated Fat (g)': '0', ' Sodium (mg)': '5', ' Total Carbohydrates (g) ': '125', 'Cholesterol (mg)': '14', ' Dietary Fibre (g)': '0', ' Sugars (g)': '13', ' Protein (g) ': '9', 'Vitamin A (% DV) ': '15%', 'Vitamin C (% DV)': '0%', ' Calcium (% DV) ': '30%', 'Iron (% DV) ': '0%', 'Caffeine (mg)': '75'}\n",
      "{'Beverage_category': 'Classic Espresso Drinks', 'Beverage': 'Skinny Latte (Any Flavour)', 'Beverage_prep': 'Grande Nonfat Milk', 'Calories': '120', ' Total Fat (g)': '0.3', 'Trans Fat (g) ': '0.2', 'Saturated Fat (g)': '0', ' Sodium (mg)': '5', ' Total Carbohydrates (g) ': '160', 'Cholesterol (mg)': '18', ' Dietary Fibre (g)': '0', ' Sugars (g)': '16', ' Protein (g) ': '12', 'Vitamin A (% DV) ': '20%', 'Vitamin C (% DV)': '0%', ' Calcium (% DV) ': '35%', 'Iron (% DV) ': '0%', 'Caffeine (mg)': '150'}\n",
      "{'Beverage_category': 'Classic Espresso Drinks', 'Beverage': 'Skinny Latte (Any Flavour)', 'Beverage_prep': 'Venti Nonfat Milk', 'Calories': '160', ' Total Fat (g)': '0.3', 'Trans Fat (g) ': '0.2', 'Saturated Fat (g)': '0', ' Sodium (mg)': '10', ' Total Carbohydrates (g) ': '200', 'Cholesterol (mg)': '24', ' Dietary Fibre (g)': '0', ' Sugars (g)': '21', ' Protein (g) ': '15', 'Vitamin A (% DV) ': '25%', 'Vitamin C (% DV)': '0%', ' Calcium (% DV) ': '50%', 'Iron (% DV) ': '0%', 'Caffeine (mg)': '150'}\n",
      "{'Beverage_category': 'Signature Espresso Drinks', 'Beverage': 'Caramel Macchiato', 'Beverage_prep': 'Short Nonfat Milk', 'Calories': '100', ' Total Fat (g)': '1', 'Trans Fat (g) ': '0.5', 'Saturated Fat (g)': '0', ' Sodium (mg)': '5', ' Total Carbohydrates (g) ': '70', 'Cholesterol (mg)': '17', ' Dietary Fibre (g)': '0', ' Sugars (g)': '15', ' Protein (g) ': '6', 'Vitamin A (% DV) ': '10%', 'Vitamin C (% DV)': '0%', ' Calcium (% DV) ': '15%', 'Iron (% DV) ': '0%', 'Caffeine (mg)': '75'}\n",
      "{'Beverage_category': 'Signature Espresso Drinks', 'Beverage': 'Caramel Macchiato', 'Beverage_prep': '2% Milk', 'Calories': '120', ' Total Fat (g)': '4', 'Trans Fat (g) ': '2', 'Saturated Fat (g)': '0.1', ' Sodium (mg)': '15', ' Total Carbohydrates (g) ': '80', 'Cholesterol (mg)': '16', ' Dietary Fibre (g)': '0', ' Sugars (g)': '15', ' Protein (g) ': '5', 'Vitamin A (% DV) ': '10%', 'Vitamin C (% DV)': '0%', ' Calcium (% DV) ': '15%', 'Iron (% DV) ': '0%', 'Caffeine (mg)': '75'}\n",
      "{'Beverage_category': 'Signature Espresso Drinks', 'Beverage': 'Caramel Macchiato', 'Beverage_prep': 'Soymilk', 'Calories': '100', ' Total Fat (g)': '3', 'Trans Fat (g) ': '1', 'Saturated Fat (g)': '0', ' Sodium (mg)': '0', ' Total Carbohydrates (g) ': '60', 'Cholesterol (mg)': '14', ' Dietary Fibre (g)': '1', ' Sugars (g)': '11', ' Protein (g) ': '4', 'Vitamin A (% DV) ': '6%', 'Vitamin C (% DV)': '0%', ' Calcium (% DV) ': '15%', 'Iron (% DV) ': '8%', 'Caffeine (mg)': '75'}\n",
      "{'Beverage_category': 'Signature Espresso Drinks', 'Beverage': 'Caramel Macchiato', 'Beverage_prep': 'Tall Nonfat Milk', 'Calories': '140', ' Total Fat (g)': '1', 'Trans Fat (g) ': '0.5', 'Saturated Fat (g)': '0', ' Sodium (mg)': '5', ' Total Carbohydrates (g) ': '105', 'Cholesterol (mg)': '25', ' Dietary Fibre (g)': '0', ' Sugars (g)': '24', ' Protein (g) ': '8', 'Vitamin A (% DV) ': '15%', 'Vitamin C (% DV)': '0%', ' Calcium (% DV) ': '25%', 'Iron (% DV) ': '0%', 'Caffeine (mg)': '75'}\n",
      "{'Beverage_category': 'Signature Espresso Drinks', 'Beverage': 'Caramel Macchiato', 'Beverage_prep': '2% Milk', 'Calories': '180', ' Total Fat (g)': '5', 'Trans Fat (g) ': '3', 'Saturated Fat (g)': '0.1', ' Sodium (mg)': '20', ' Total Carbohydrates (g) ': '115', 'Cholesterol (mg)': '25', ' Dietary Fibre (g)': '0', ' Sugars (g)': '23', ' Protein (g) ': '8', 'Vitamin A (% DV) ': '15%', 'Vitamin C (% DV)': '0%', ' Calcium (% DV) ': '25%', 'Iron (% DV) ': '0%', 'Caffeine (mg)': '75'}\n",
      "{'Beverage_category': 'Signature Espresso Drinks', 'Beverage': 'Caramel Macchiato', 'Beverage_prep': 'Soymilk', 'Calories': '150', ' Total Fat (g)': '4.5', 'Trans Fat (g) ': '1', 'Saturated Fat (g)': '0', ' Sodium (mg)': '0', ' Total Carbohydrates (g) ': '90', 'Cholesterol (mg)': '21', ' Dietary Fibre (g)': '1', ' Sugars (g)': '17', ' Protein (g) ': '7', 'Vitamin A (% DV) ': '10%', 'Vitamin C (% DV)': '0%', ' Calcium (% DV) ': '25%', 'Iron (% DV) ': '10%', 'Caffeine (mg)': '75'}\n",
      "{'Beverage_category': 'Signature Espresso Drinks', 'Beverage': 'Caramel Macchiato', 'Beverage_prep': 'Grande Nonfat Milk', 'Calories': '190', ' Total Fat (g)': '1', 'Trans Fat (g) ': '1', 'Saturated Fat (g)': '0', ' Sodium (mg)': '10', ' Total Carbohydrates (g) ': '130', 'Cholesterol (mg)': '35', ' Dietary Fibre (g)': '0', ' Sugars (g)': '32', ' Protein (g) ': '11', 'Vitamin A (% DV) ': '20%', 'Vitamin C (% DV)': '0%', ' Calcium (% DV) ': '35%', 'Iron (% DV) ': '0%', 'Caffeine (mg)': '150'}\n",
      "{'Beverage_category': 'Signature Espresso Drinks', 'Beverage': 'Caramel Macchiato', 'Beverage_prep': '2% Milk', 'Calories': '240', ' Total Fat (g)': '7', 'Trans Fat (g) ': '3.5', 'Saturated Fat (g)': '0.2', ' Sodium (mg)': '25', ' Total Carbohydrates (g) ': '150', 'Cholesterol (mg)': '34', ' Dietary Fibre (g)': '0', ' Sugars (g)': '32', ' Protein (g) ': '10', 'Vitamin A (% DV) ': '15%', 'Vitamin C (% DV)': '2%', ' Calcium (% DV) ': '30%', 'Iron (% DV) ': '0%', 'Caffeine (mg)': '150'}\n",
      "{'Beverage_category': 'Signature Espresso Drinks', 'Beverage': 'Caramel Macchiato', 'Beverage_prep': 'Soymilk', 'Calories': '200', ' Total Fat (g)': '5', 'Trans Fat (g) ': '1', 'Saturated Fat (g)': '0', ' Sodium (mg)': '5', ' Total Carbohydrates (g) ': '115', 'Cholesterol (mg)': '29', ' Dietary Fibre (g)': '1', ' Sugars (g)': '24', ' Protein (g) ': '9', 'Vitamin A (% DV) ': '10%', 'Vitamin C (% DV)': '0%', ' Calcium (% DV) ': '35%', 'Iron (% DV) ': '15%', 'Caffeine (mg)': '150'}\n",
      "{'Beverage_category': 'Signature Espresso Drinks', 'Beverage': 'Caramel Macchiato', 'Beverage_prep': 'Venti Nonfat Milk', 'Calories': '240', ' Total Fat (g)': '1', 'Trans Fat (g) ': '1', 'Saturated Fat (g)': '0', ' Sodium (mg)': '10', ' Total Carbohydrates (g) ': '170', 'Cholesterol (mg)': '43', ' Dietary Fibre (g)': '0', ' Sugars (g)': '41', ' Protein (g) ': '13', 'Vitamin A (% DV) ': '25%', 'Vitamin C (% DV)': '0%', ' Calcium (% DV) ': '40%', 'Iron (% DV) ': '0%', 'Caffeine (mg)': '150'}\n",
      "{'Beverage_category': 'Signature Espresso Drinks', 'Beverage': 'Caramel Macchiato', 'Beverage_prep': '2% Milk', 'Calories': '300', ' Total Fat (g)': '8', 'Trans Fat (g) ': '4.5', 'Saturated Fat (g)': '0.2', ' Sodium (mg)': '35', ' Total Carbohydrates (g) ': '180', 'Cholesterol (mg)': '43', ' Dietary Fibre (g)': '0', ' Sugars (g)': '40', ' Protein (g) ': '13', 'Vitamin A (% DV) ': '20%', 'Vitamin C (% DV)': '2%', ' Calcium (% DV) ': '40%', 'Iron (% DV) ': '0%', 'Caffeine (mg)': '150'}\n",
      "{'Beverage_category': 'Signature Espresso Drinks', 'Beverage': 'Caramel Macchiato', 'Beverage_prep': 'Soymilk', 'Calories': '250', ' Total Fat (g)': '7', 'Trans Fat (g) ': '1.5', 'Saturated Fat (g)': '0', ' Sodium (mg)': '5', ' Total Carbohydrates (g) ': '140', 'Cholesterol (mg)': '36', ' Dietary Fibre (g)': '1', ' Sugars (g)': '31', ' Protein (g) ': '11', 'Vitamin A (% DV) ': '15%', 'Vitamin C (% DV)': '0%', ' Calcium (% DV) ': '40%', 'Iron (% DV) ': '20%', 'Caffeine (mg)': '150'}\n",
      "{'Beverage_category': 'Signature Espresso Drinks', 'Beverage': 'White Chocolate Mocha (Without Whipped Cream)', 'Beverage_prep': 'Short Nonfat Milk', 'Calories': '180', ' Total Fat (g)': '3', 'Trans Fat (g) ': '2', 'Saturated Fat (g)': '0', ' Sodium (mg)': '5', ' Total Carbohydrates (g) ': '120', 'Cholesterol (mg)': '31', ' Dietary Fibre (g)': '0', ' Sugars (g)': '29', ' Protein (g) ': '7', 'Vitamin A (% DV) ': '10%', 'Vitamin C (% DV)': '0%', ' Calcium (% DV) ': '25%', 'Iron (% DV) ': '0%', 'Caffeine (mg)': '75'}\n",
      "{'Beverage_category': 'Signature Espresso Drinks', 'Beverage': 'White Chocolate Mocha (Without Whipped Cream)', 'Beverage_prep': '2% Milk', 'Calories': '200', ' Total Fat (g)': '6', 'Trans Fat (g) ': '3.5', 'Saturated Fat (g)': '0.1', ' Sodium (mg)': '15', ' Total Carbohydrates (g) ': '125', 'Cholesterol (mg)': '31', ' Dietary Fibre (g)': '0', ' Sugars (g)': '29', ' Protein (g) ': '7', 'Vitamin A (% DV) ': '8%', 'Vitamin C (% DV)': '2%', ' Calcium (% DV) ': '25%', 'Iron (% DV) ': '0%', 'Caffeine (mg)': '75'}\n",
      "{'Beverage_category': 'Signature Espresso Drinks', 'Beverage': 'White Chocolate Mocha (Without Whipped Cream)', 'Beverage_prep': 'Soymilk', 'Calories': '180', ' Total Fat (g)': '5', 'Trans Fat (g) ': '2.5', 'Saturated Fat (g)': '0', ' Sodium (mg)': '0', ' Total Carbohydrates (g) ': '110', 'Cholesterol (mg)': '28', ' Dietary Fibre (g)': '1', ' Sugars (g)': '25', ' Protein (g) ': '6', 'Vitamin A (% DV) ': '6%', 'Vitamin C (% DV)': '0%', ' Calcium (% DV) ': '25%', 'Iron (% DV) ': '8%', 'Caffeine (mg)': '75'}\n",
      "{'Beverage_category': 'Signature Espresso Drinks', 'Beverage': 'White Chocolate Mocha (Without Whipped Cream)', 'Beverage_prep': 'Tall Nonfat Milk', 'Calories': '270', ' Total Fat (g)': '4.5', 'Trans Fat (g) ': '3.5', 'Saturated Fat (g)': '0', ' Sodium (mg)': '5', ' Total Carbohydrates (g) ': '190', 'Cholesterol (mg)': '47', ' Dietary Fibre (g)': '0', ' Sugars (g)': '45', ' Protein (g) ': '12', 'Vitamin A (% DV) ': '15%', 'Vitamin C (% DV)': '2%', ' Calcium (% DV) ': '35%', 'Iron (% DV) ': '0%', 'Caffeine (mg)': '75'}\n",
      "{'Beverage_category': 'Signature Espresso Drinks', 'Beverage': 'White Chocolate Mocha (Without Whipped Cream)', 'Beverage_prep': '2% Milk', 'Calories': '310', ' Total Fat (g)': '9', 'Trans Fat (g) ': '6', 'Saturated Fat (g)': '0.1', ' Sodium (mg)': '20', ' Total Carbohydrates (g) ': '200', 'Cholesterol (mg)': '46', ' Dietary Fibre (g)': '0', ' Sugars (g)': '44', ' Protein (g) ': '11', 'Vitamin A (% DV) ': '15%', 'Vitamin C (% DV)': '2%', ' Calcium (% DV) ': '35%', 'Iron (% DV) ': '0%', 'Caffeine (mg)': '75'}\n",
      "{'Beverage_category': 'Signature Espresso Drinks', 'Beverage': 'White Chocolate Mocha (Without Whipped Cream)', 'Beverage_prep': 'Soymilk', 'Calories': '280', ' Total Fat (g)': '8', 'Trans Fat (g) ': '3.5', 'Saturated Fat (g)': '0', ' Sodium (mg)': '0', ' Total Carbohydrates (g) ': '170', 'Cholesterol (mg)': '42', ' Dietary Fibre (g)': '1', ' Sugars (g)': '39', ' Protein (g) ': '10', 'Vitamin A (% DV) ': '10%', 'Vitamin C (% DV)': '2%', ' Calcium (% DV) ': '35%', 'Iron (% DV) ': '10%', 'Caffeine (mg)': '75'}\n",
      "{'Beverage_category': 'Signature Espresso Drinks', 'Beverage': 'White Chocolate Mocha (Without Whipped Cream)', 'Beverage_prep': 'Grande Nonfat Milk', 'Calories': '350', ' Total Fat (g)': '6', 'Trans Fat (g) ': '4.5', 'Saturated Fat (g)': '0', ' Sodium (mg)': '10', ' Total Carbohydrates (g) ': '240', 'Cholesterol (mg)': '61', ' Dietary Fibre (g)': '0', ' Sugars (g)': '58', ' Protein (g) ': '15', 'Vitamin A (% DV) ': '20%', 'Vitamin C (% DV)': '2%', ' Calcium (% DV) ': '45%', 'Iron (% DV) ': '2%', 'Caffeine (mg)': '150'}\n",
      "{'Beverage_category': 'Signature Espresso Drinks', 'Beverage': 'White Chocolate Mocha (Without Whipped Cream)', 'Beverage_prep': '2% Milk', 'Calories': '400', ' Total Fat (g)': '11', 'Trans Fat (g) ': '7', 'Saturated Fat (g)': '0.2', ' Sodium (mg)': '25', ' Total Carbohydrates (g) ': '250', 'Cholesterol (mg)': '61', ' Dietary Fibre (g)': '0', ' Sugars (g)': '58', ' Protein (g) ': '15', 'Vitamin A (% DV) ': '15%', 'Vitamin C (% DV)': '2%', ' Calcium (% DV) ': '45%', 'Iron (% DV) ': '0%', 'Caffeine (mg)': '150'}\n",
      "{'Beverage_category': 'Signature Espresso Drinks', 'Beverage': 'White Chocolate Mocha (Without Whipped Cream)', 'Beverage_prep': 'Soymilk', 'Calories': '370', ' Total Fat (g)': '10', 'Trans Fat (g) ': '5', 'Saturated Fat (g)': '0', ' Sodium (mg)': '0', ' Total Carbohydrates (g) ': '220', 'Cholesterol (mg)': '56', ' Dietary Fibre (g)': '1', ' Sugars (g)': '51', ' Protein (g) ': '13', 'Vitamin A (% DV) ': '10%', 'Vitamin C (% DV)': '2%', ' Calcium (% DV) ': '45%', 'Iron (% DV) ': '15%', 'Caffeine (mg)': '150'}\n",
      "{'Beverage_category': 'Signature Espresso Drinks', 'Beverage': 'White Chocolate Mocha (Without Whipped Cream)', 'Beverage_prep': 'Venti Nonfat Milk', 'Calories': '450', ' Total Fat (g)': '7', 'Trans Fat (g) ': '6', 'Saturated Fat (g)': '0', ' Sodium (mg)': '10', ' Total Carbohydrates (g) ': '310', 'Cholesterol (mg)': '78', ' Dietary Fibre (g)': '0', ' Sugars (g)': '74', ' Protein (g) ': '19', 'Vitamin A (% DV) ': '25%', 'Vitamin C (% DV)': '2%', ' Calcium (% DV) ': '60%', 'Iron (% DV) ': '2%', 'Caffeine (mg)': '150'}\n",
      "{'Beverage_category': 'Signature Espresso Drinks', 'Beverage': 'White Chocolate Mocha (Without Whipped Cream)', 'Beverage_prep': '2% Milk', 'Calories': '510', ' Total Fat (g)': '15', 'Trans Fat (g) ': '9', 'Saturated Fat (g)': '0.2', ' Sodium (mg)': '35', ' Total Carbohydrates (g) ': '330', 'Cholesterol (mg)': '77', ' Dietary Fibre (g)': '0', ' Sugars (g)': '74', ' Protein (g) ': '19', 'Vitamin A (% DV) ': '20%', 'Vitamin C (% DV)': '4%', ' Calcium (% DV) ': '60%', 'Iron (% DV) ': '2%', 'Caffeine (mg)': '150'}\n",
      "{'Beverage_category': 'Signature Espresso Drinks', 'Beverage': 'White Chocolate Mocha (Without Whipped Cream)', 'Beverage_prep': 'Soymilk', 'Calories': '460', ' Total Fat (g)': '13', 'Trans Fat (g) ': '6', 'Saturated Fat (g)': '0', ' Sodium (mg)': '5', ' Total Carbohydrates (g) ': '290', 'Cholesterol (mg)': '70', ' Dietary Fibre (g)': '1', ' Sugars (g)': '64', ' Protein (g) ': '16', 'Vitamin A (% DV) ': '15%', 'Vitamin C (% DV)': '2%', ' Calcium (% DV) ': '60%', 'Iron (% DV) ': '20%', 'Caffeine (mg)': '150'}\n",
      "{'Beverage_category': 'Signature Espresso Drinks', 'Beverage': 'Hot Chocolate (Without Whipped Cream)', 'Beverage_prep': 'Short Nonfat Milk', 'Calories': '130', ' Total Fat (g)': '1.5', 'Trans Fat (g) ': '1', 'Saturated Fat (g)': '0', ' Sodium (mg)': '5', ' Total Carbohydrates (g) ': '70', 'Cholesterol (mg)': '26', ' Dietary Fibre (g)': '1', ' Sugars (g)': '23', ' Protein (g) ': '7', 'Vitamin A (% DV) ': '10%', 'Vitamin C (% DV)': '0%', ' Calcium (% DV) ': '20%', 'Iron (% DV) ': '10%', 'Caffeine (mg)': '10'}\n",
      "{'Beverage_category': 'Signature Espresso Drinks', 'Beverage': 'Hot Chocolate (Without Whipped Cream)', 'Beverage_prep': '2% Milk', 'Calories': '150', ' Total Fat (g)': '4.5', 'Trans Fat (g) ': '2.5', 'Saturated Fat (g)': '0.1', ' Sodium (mg)': '15', ' Total Carbohydrates (g) ': '80', 'Cholesterol (mg)': '26', ' Dietary Fibre (g)': '1', ' Sugars (g)': '22', ' Protein (g) ': '7', 'Vitamin A (% DV) ': '10%', 'Vitamin C (% DV)': '0%', ' Calcium (% DV) ': '20%', 'Iron (% DV) ': '10%', 'Caffeine (mg)': '10'}\n",
      "{'Beverage_category': 'Signature Espresso Drinks', 'Beverage': 'Hot Chocolate (Without Whipped Cream)', 'Beverage_prep': 'Soymilk', 'Calories': '130', ' Total Fat (g)': '3.5', 'Trans Fat (g) ': '1', 'Saturated Fat (g)': '0', ' Sodium (mg)': '0', ' Total Carbohydrates (g) ': '60', 'Cholesterol (mg)': '23', ' Dietary Fibre (g)': '2', ' Sugars (g)': '18', ' Protein (g) ': '6', 'Vitamin A (% DV) ': '6%', 'Vitamin C (% DV)': '0%', ' Calcium (% DV) ': '20%', 'Iron (% DV) ': '20%', 'Caffeine (mg)': '10'}\n",
      "{'Beverage_category': 'Signature Espresso Drinks', 'Beverage': 'Hot Chocolate (Without Whipped Cream)', 'Beverage_prep': 'Tall Nonfat Milk', 'Calories': '190', ' Total Fat (g)': '2', 'Trans Fat (g) ': '1', 'Saturated Fat (g)': '0', ' Sodium (mg)': '5', ' Total Carbohydrates (g) ': '110', 'Cholesterol (mg)': '37', ' Dietary Fibre (g)': '1', ' Sugars (g)': '32', ' Protein (g) ': '11', 'Vitamin A (% DV) ': '15%', 'Vitamin C (% DV)': '0%', ' Calcium (% DV) ': '30%', 'Iron (% DV) ': '20%', 'Caffeine (mg)': '20'}\n",
      "{'Beverage_category': 'Signature Espresso Drinks', 'Beverage': 'Hot Chocolate (Without Whipped Cream)', 'Beverage_prep': '2% Milk', 'Calories': '230', ' Total Fat (g)': '7', 'Trans Fat (g) ': '3.5', 'Saturated Fat (g)': '0.2', ' Sodium (mg)': '20', ' Total Carbohydrates (g) ': '120', 'Cholesterol (mg)': '37', ' Dietary Fibre (g)': '1', ' Sugars (g)': '32', ' Protein (g) ': '10', 'Vitamin A (% DV) ': '15%', 'Vitamin C (% DV)': '0%', ' Calcium (% DV) ': '30%', 'Iron (% DV) ': '20%', 'Caffeine (mg)': '20'}\n",
      "{'Beverage_category': 'Signature Espresso Drinks', 'Beverage': 'Hot Chocolate (Without Whipped Cream)', 'Beverage_prep': 'Soymilk', 'Calories': '200', ' Total Fat (g)': '6', 'Trans Fat (g) ': '1.5', 'Saturated Fat (g)': '0', ' Sodium (mg)': '0', ' Total Carbohydrates (g) ': '95', 'Cholesterol (mg)': '32', ' Dietary Fibre (g)': '2', ' Sugars (g)': '25', ' Protein (g) ': '9', 'Vitamin A (% DV) ': '10%', 'Vitamin C (% DV)': '0%', ' Calcium (% DV) ': '30%', 'Iron (% DV) ': '30%', 'Caffeine (mg)': '20'}\n",
      "{'Beverage_category': 'Signature Espresso Drinks', 'Beverage': 'Hot Chocolate (Without Whipped Cream)', 'Beverage_prep': 'Grande Nonfat Milk', 'Calories': '240', ' Total Fat (g)': '2.5', 'Trans Fat (g) ': '1.5', 'Saturated Fat (g)': '0', ' Sodium (mg)': '5', ' Total Carbohydrates (g) ': '140', 'Cholesterol (mg)': '48', ' Dietary Fibre (g)': '2', ' Sugars (g)': '41', ' Protein (g) ': '14', 'Vitamin A (% DV) ': '20%', 'Vitamin C (% DV)': '0%', ' Calcium (% DV) ': '40%', 'Iron (% DV) ': '25%', 'Caffeine (mg)': '25'}\n",
      "{'Beverage_category': 'Signature Espresso Drinks', 'Beverage': 'Hot Chocolate (Without Whipped Cream)', 'Beverage_prep': '2% Milk', 'Calories': '290', ' Total Fat (g)': '9', 'Trans Fat (g) ': '5', 'Saturated Fat (g)': '0.2', ' Sodium (mg)': '25', ' Total Carbohydrates (g) ': '160', 'Cholesterol (mg)': '47', ' Dietary Fibre (g)': '2', ' Sugars (g)': '41', ' Protein (g) ': '14', 'Vitamin A (% DV) ': '20%', 'Vitamin C (% DV)': '2%', ' Calcium (% DV) ': '40%', 'Iron (% DV) ': '25%', 'Caffeine (mg)': '25'}\n",
      "{'Beverage_category': 'Signature Espresso Drinks', 'Beverage': 'Hot Chocolate (Without Whipped Cream)', 'Beverage_prep': 'Soymilk', 'Calories': '250', ' Total Fat (g)': '7', 'Trans Fat (g) ': '2', 'Saturated Fat (g)': '0', ' Sodium (mg)': '0', ' Total Carbohydrates (g) ': '125', 'Cholesterol (mg)': '41', ' Dietary Fibre (g)': '3', ' Sugars (g)': '32', ' Protein (g) ': '12', 'Vitamin A (% DV) ': '15%', 'Vitamin C (% DV)': '0%', ' Calcium (% DV) ': '40%', 'Iron (% DV) ': '40%', 'Caffeine (mg)': '25'}\n",
      "{'Beverage_category': 'Signature Espresso Drinks', 'Beverage': 'Hot Chocolate (Without Whipped Cream)', 'Beverage_prep': 'Venti Nonfat Milk', 'Calories': '320', ' Total Fat (g)': '3', 'Trans Fat (g) ': '2', 'Saturated Fat (g)': '0', ' Sodium (mg)': '10', ' Total Carbohydrates (g) ': '180', 'Cholesterol (mg)': '63', ' Dietary Fibre (g)': '2', ' Sugars (g)': '55', ' Protein (g) ': '18', 'Vitamin A (% DV) ': '25%', 'Vitamin C (% DV)': '0%', ' Calcium (% DV) ': '50%', 'Iron (% DV) ': '30%', 'Caffeine (mg)': '30'}\n",
      "{'Beverage_category': 'Signature Espresso Drinks', 'Beverage': 'Hot Chocolate (Without Whipped Cream)', 'Beverage_prep': '2% Milk', 'Calories': '380', ' Total Fat (g)': '11', 'Trans Fat (g) ': '6', 'Saturated Fat (g)': '0.3', ' Sodium (mg)': '35', ' Total Carbohydrates (g) ': '200', 'Cholesterol (mg)': '63', ' Dietary Fibre (g)': '2', ' Sugars (g)': '54', ' Protein (g) ': '17', 'Vitamin A (% DV) ': '25%', 'Vitamin C (% DV)': '2%', ' Calcium (% DV) ': '50%', 'Iron (% DV) ': '30%', 'Caffeine (mg)': '30'}\n",
      "{'Beverage_category': 'Signature Espresso Drinks', 'Beverage': 'Hot Chocolate (Without Whipped Cream)', 'Beverage_prep': 'Soymilk', 'Calories': '330', ' Total Fat (g)': '9', 'Trans Fat (g) ': '2.5', 'Saturated Fat (g)': '0', ' Sodium (mg)': '0', ' Total Carbohydrates (g) ': '160', 'Cholesterol (mg)': '55', ' Dietary Fibre (g)': '4', ' Sugars (g)': '44', ' Protein (g) ': '15', 'Vitamin A (% DV) ': '15%', 'Vitamin C (% DV)': '0%', ' Calcium (% DV) ': '50%', 'Iron (% DV) ': '50%', 'Caffeine (mg)': '30'}\n",
      "{'Beverage_category': 'Signature Espresso Drinks', 'Beverage': 'Caramel Apple Spice (Without Whipped Cream)', 'Beverage_prep': 'Short', 'Calories': '140', ' Total Fat (g)': '0', 'Trans Fat (g) ': '0', 'Saturated Fat (g)': '0', ' Sodium (mg)': '0', ' Total Carbohydrates (g) ': '10', 'Cholesterol (mg)': '35', ' Dietary Fibre (g)': '0', ' Sugars (g)': '33', ' Protein (g) ': '0', 'Vitamin A (% DV) ': '0%', 'Vitamin C (% DV)': '0%', ' Calcium (% DV) ': '0%', 'Iron (% DV) ': '0%', 'Caffeine (mg)': '0'}\n",
      "{'Beverage_category': 'Signature Espresso Drinks', 'Beverage': 'Caramel Apple Spice (Without Whipped Cream)', 'Beverage_prep': 'Tall', 'Calories': '210', ' Total Fat (g)': '0', 'Trans Fat (g) ': '0', 'Saturated Fat (g)': '0', ' Sodium (mg)': '0', ' Total Carbohydrates (g) ': '15', 'Cholesterol (mg)': '53', ' Dietary Fibre (g)': '0', ' Sugars (g)': '49', ' Protein (g) ': '0', 'Vitamin A (% DV) ': '0%', 'Vitamin C (% DV)': '0%', ' Calcium (% DV) ': '0%', 'Iron (% DV) ': '0%', 'Caffeine (mg)': '0'}\n",
      "{'Beverage_category': 'Signature Espresso Drinks', 'Beverage': 'Caramel Apple Spice (Without Whipped Cream)', 'Beverage_prep': 'Grande', 'Calories': '280', ' Total Fat (g)': '0', 'Trans Fat (g) ': '0', 'Saturated Fat (g)': '0', ' Sodium (mg)': '0', ' Total Carbohydrates (g) ': '20', 'Cholesterol (mg)': '70', ' Dietary Fibre (g)': '0', ' Sugars (g)': '65', ' Protein (g) ': '0', 'Vitamin A (% DV) ': '0%', 'Vitamin C (% DV)': '0%', ' Calcium (% DV) ': '0%', 'Iron (% DV) ': '0%', 'Caffeine (mg)': '0'}\n",
      "{'Beverage_category': 'Signature Espresso Drinks', 'Beverage': 'Caramel Apple Spice (Without Whipped Cream)', 'Beverage_prep': 'Venti', 'Calories': '360', ' Total Fat (g)': '0', 'Trans Fat (g) ': '0', 'Saturated Fat (g)': '0', ' Sodium (mg)': '0', ' Total Carbohydrates (g) ': '25', 'Cholesterol (mg)': '89', ' Dietary Fibre (g)': '0', ' Sugars (g)': '83', ' Protein (g) ': '0', 'Vitamin A (% DV) ': '0%', 'Vitamin C (% DV)': '0%', ' Calcium (% DV) ': '0%', 'Iron (% DV) ': '0%', 'Caffeine (mg)': '0'}\n",
      "{'Beverage_category': 'Tazo庐 Tea Drinks', 'Beverage': 'Tazo庐 Tea', 'Beverage_prep': 'Short', 'Calories': '0', ' Total Fat (g)': '0', 'Trans Fat (g) ': '0', 'Saturated Fat (g)': '0', ' Sodium (mg)': '0', ' Total Carbohydrates (g) ': '0', 'Cholesterol (mg)': '0', ' Dietary Fibre (g)': '0', ' Sugars (g)': '0', ' Protein (g) ': '0', 'Vitamin A (% DV) ': '0%', 'Vitamin C (% DV)': '0%', ' Calcium (% DV) ': '0%', 'Iron (% DV) ': '0%', 'Caffeine (mg)': 'Varies'}\n",
      "{'Beverage_category': 'Tazo庐 Tea Drinks', 'Beverage': 'Tazo庐 Tea', 'Beverage_prep': 'Tall', 'Calories': '0', ' Total Fat (g)': '0', 'Trans Fat (g) ': '0', 'Saturated Fat (g)': '0', ' Sodium (mg)': '0', ' Total Carbohydrates (g) ': '0', 'Cholesterol (mg)': '0', ' Dietary Fibre (g)': '0', ' Sugars (g)': '0', ' Protein (g) ': '0', 'Vitamin A (% DV) ': '0%', 'Vitamin C (% DV)': '0%', ' Calcium (% DV) ': '0%', 'Iron (% DV) ': '0%', 'Caffeine (mg)': 'Varies'}\n",
      "{'Beverage_category': 'Tazo庐 Tea Drinks', 'Beverage': 'Tazo庐 Tea', 'Beverage_prep': 'Grande', 'Calories': '0', ' Total Fat (g)': '0', 'Trans Fat (g) ': '0', 'Saturated Fat (g)': '0', ' Sodium (mg)': '0', ' Total Carbohydrates (g) ': '0', 'Cholesterol (mg)': '0', ' Dietary Fibre (g)': '0', ' Sugars (g)': '0', ' Protein (g) ': '0', 'Vitamin A (% DV) ': '0%', 'Vitamin C (% DV)': '0%', ' Calcium (% DV) ': '0%', 'Iron (% DV) ': '0%', 'Caffeine (mg)': 'Varies'}\n",
      "{'Beverage_category': 'Tazo庐 Tea Drinks', 'Beverage': 'Tazo庐 Tea', 'Beverage_prep': 'Venti', 'Calories': '0', ' Total Fat (g)': '0', 'Trans Fat (g) ': '0', 'Saturated Fat (g)': '0', ' Sodium (mg)': '0', ' Total Carbohydrates (g) ': '0', 'Cholesterol (mg)': '0', ' Dietary Fibre (g)': '0', ' Sugars (g)': '0', ' Protein (g) ': '0', 'Vitamin A (% DV) ': '0%', 'Vitamin C (% DV)': '0%', ' Calcium (% DV) ': '0%', 'Iron (% DV) ': '0%', 'Caffeine (mg)': 'Varies'}\n",
      "{'Beverage_category': 'Tazo庐 Tea Drinks', 'Beverage': 'Tazo庐 Chai Tea Latte', 'Beverage_prep': 'Short Nonfat Milk', 'Calories': '100', ' Total Fat (g)': '0.1', 'Trans Fat (g) ': '0.1', 'Saturated Fat (g)': '0', ' Sodium (mg)': '0', ' Total Carbohydrates (g) ': '50', 'Cholesterol (mg)': '22', ' Dietary Fibre (g)': '0', ' Sugars (g)': '21', ' Protein (g) ': '4', 'Vitamin A (% DV) ': '6%', 'Vitamin C (% DV)': '0%', ' Calcium (% DV) ': '10%', 'Iron (% DV) ': '0%', 'Caffeine (mg)': '50'}\n",
      "{'Beverage_category': 'Tazo庐 Tea Drinks', 'Beverage': 'Tazo庐 Chai Tea Latte', 'Beverage_prep': '2% Milk', 'Calories': '120', ' Total Fat (g)': '2', 'Trans Fat (g) ': '1', 'Saturated Fat (g)': '0.1', ' Sodium (mg)': '10', ' Total Carbohydrates (g) ': '55', 'Cholesterol (mg)': '22', ' Dietary Fibre (g)': '0', ' Sugars (g)': '21', ' Protein (g) ': '4', 'Vitamin A (% DV) ': '6%', 'Vitamin C (% DV)': '0%', ' Calcium (% DV) ': '10%', 'Iron (% DV) ': '0%', 'Caffeine (mg)': '50'}\n",
      "{'Beverage_category': 'Tazo庐 Tea Drinks', 'Beverage': 'Tazo庐 Chai Tea Latte', 'Beverage_prep': 'Soymilk', 'Calories': '110', ' Total Fat (g)': '1.5', 'Trans Fat (g) ': '0.2', 'Saturated Fat (g)': '0', ' Sodium (mg)': '0', ' Total Carbohydrates (g) ': '45', 'Cholesterol (mg)': '20', ' Dietary Fibre (g)': '0', ' Sugars (g)': '18', ' Protein (g) ': '3', 'Vitamin A (% DV) ': '4%', 'Vitamin C (% DV)': '0%', ' Calcium (% DV) ': '10%', 'Iron (% DV) ': '6%', 'Caffeine (mg)': '50'}\n",
      "{'Beverage_category': 'Tazo庐 Tea Drinks', 'Beverage': 'Tazo庐 Chai Tea Latte', 'Beverage_prep': 'Tall Nonfat Milk', 'Calories': '160', ' Total Fat (g)': '0.2', 'Trans Fat (g) ': '0.1', 'Saturated Fat (g)': '0', ' Sodium (mg)': '5', ' Total Carbohydrates (g) ': '80', 'Cholesterol (mg)': '34', ' Dietary Fibre (g)': '0', ' Sugars (g)': '32', ' Protein (g) ': '6', 'Vitamin A (% DV) ': '10%', 'Vitamin C (% DV)': '0%', ' Calcium (% DV) ': '20%', 'Iron (% DV) ': '2%', 'Caffeine (mg)': '70'}\n",
      "{'Beverage_category': 'Tazo庐 Tea Drinks', 'Beverage': 'Tazo庐 Chai Tea Latte', 'Beverage_prep': '2% Milk', 'Calories': '190', ' Total Fat (g)': '3.5', 'Trans Fat (g) ': '1.5', 'Saturated Fat (g)': '0.1', ' Sodium (mg)': '15', ' Total Carbohydrates (g) ': '90', 'Cholesterol (mg)': '34', ' Dietary Fibre (g)': '0', ' Sugars (g)': '32', ' Protein (g) ': '6', 'Vitamin A (% DV) ': '10%', 'Vitamin C (% DV)': '0%', ' Calcium (% DV) ': '20%', 'Iron (% DV) ': '2%', 'Caffeine (mg)': '70'}\n",
      "{'Beverage_category': 'Tazo庐 Tea Drinks', 'Beverage': 'Tazo庐 Chai Tea Latte', 'Beverage_prep': 'Soymilk', 'Calories': '160', ' Total Fat (g)': '2.5', 'Trans Fat (g) ': '0.3', 'Saturated Fat (g)': '0', ' Sodium (mg)': '0', ' Total Carbohydrates (g) ': '70', 'Cholesterol (mg)': '31', ' Dietary Fibre (g)': '1', ' Sugars (g)': '28', ' Protein (g) ': '5', 'Vitamin A (% DV) ': '6%', 'Vitamin C (% DV)': '0%', ' Calcium (% DV) ': '20%', 'Iron (% DV) ': '10%', 'Caffeine (mg)': '70'}\n",
      "{'Beverage_category': 'Tazo庐 Tea Drinks', 'Beverage': 'Tazo庐 Chai Tea Latte', 'Beverage_prep': 'Grande Nonfat Milk', 'Calories': '210', ' Total Fat (g)': '0.2', 'Trans Fat (g) ': '0.1', 'Saturated Fat (g)': '0', ' Sodium (mg)': '5', ' Total Carbohydrates (g) ': '105', 'Cholesterol (mg)': '45', ' Dietary Fibre (g)': '0', ' Sugars (g)': '43', ' Protein (g) ': '8', 'Vitamin A (% DV) ': '15%', 'Vitamin C (% DV)': '0%', ' Calcium (% DV) ': '25%', 'Iron (% DV) ': '2%', 'Caffeine (mg)': '95'}\n",
      "{'Beverage_category': 'Tazo庐 Tea Drinks', 'Beverage': 'Tazo庐 Chai Tea Latte', 'Beverage_prep': '2% Milk', 'Calories': '240', ' Total Fat (g)': '4.5', 'Trans Fat (g) ': '2', 'Saturated Fat (g)': '0.1', ' Sodium (mg)': '20', ' Total Carbohydrates (g) ': '115', 'Cholesterol (mg)': '45', ' Dietary Fibre (g)': '0', ' Sugars (g)': '42', ' Protein (g) ': '8', 'Vitamin A (% DV) ': '10%', 'Vitamin C (% DV)': '0%', ' Calcium (% DV) ': '25%', 'Iron (% DV) ': '2%', 'Caffeine (mg)': '95'}\n",
      "{'Beverage_category': 'Tazo庐 Tea Drinks', 'Beverage': 'Tazo庐 Chai Tea Latte', 'Beverage_prep': 'Soymilk', 'Calories': '220', ' Total Fat (g)': '3.5', 'Trans Fat (g) ': '0.4', 'Saturated Fat (g)': '0', ' Sodium (mg)': '0', ' Total Carbohydrates (g) ': '90', 'Cholesterol (mg)': '41', ' Dietary Fibre (g)': '1', ' Sugars (g)': '37', ' Protein (g) ': '6', 'Vitamin A (% DV) ': '8%', 'Vitamin C (% DV)': '0%', ' Calcium (% DV) ': '25%', 'Iron (% DV) ': '10%', 'Caffeine (mg)': '95'}\n",
      "{'Beverage_category': 'Tazo庐 Tea Drinks', 'Beverage': 'Tazo庐 Chai Tea Latte', 'Beverage_prep': 'Venti Nonfat Milk', 'Calories': '260', ' Total Fat (g)': '0.3', 'Trans Fat (g) ': '0.2', 'Saturated Fat (g)': '0', ' Sodium (mg)': '5', ' Total Carbohydrates (g) ': '135', 'Cholesterol (mg)': '57', ' Dietary Fibre (g)': '0', ' Sugars (g)': '54', ' Protein (g) ': '10', 'Vitamin A (% DV) ': '15%', 'Vitamin C (% DV)': '0%', ' Calcium (% DV) ': '35%', 'Iron (% DV) ': '2%', 'Caffeine (mg)': '120'}\n",
      "{'Beverage_category': 'Tazo庐 Tea Drinks', 'Beverage': 'Tazo庐 Chai Tea Latte', 'Beverage_prep': '2% Milk', 'Calories': '310', ' Total Fat (g)': '6', 'Trans Fat (g) ': '3', 'Saturated Fat (g)': '0.2', ' Sodium (mg)': '25', ' Total Carbohydrates (g) ': '150', 'Cholesterol (mg)': '56', ' Dietary Fibre (g)': '0', ' Sugars (g)': '53', ' Protein (g) ': '10', 'Vitamin A (% DV) ': '15%', 'Vitamin C (% DV)': '2%', ' Calcium (% DV) ': '30%', 'Iron (% DV) ': '2%', 'Caffeine (mg)': '120'}\n",
      "{'Beverage_category': 'Tazo庐 Tea Drinks', 'Beverage': 'Tazo庐 Chai Tea Latte', 'Beverage_prep': 'Soymilk', 'Calories': '280', ' Total Fat (g)': '4.5', 'Trans Fat (g) ': '0.5', 'Saturated Fat (g)': '0', ' Sodium (mg)': '0', ' Total Carbohydrates (g) ': '115', 'Cholesterol (mg)': '51', ' Dietary Fibre (g)': '1', ' Sugars (g)': '46', ' Protein (g) ': '8', 'Vitamin A (% DV) ': '10%', 'Vitamin C (% DV)': '0%', ' Calcium (% DV) ': '30%', 'Iron (% DV) ': '15%', 'Caffeine (mg)': '120'}\n",
      "{'Beverage_category': 'Tazo庐 Tea Drinks', 'Beverage': 'Tazo庐 Green Tea Latte', 'Beverage_prep': 'Short Nonfat Milk', 'Calories': '130', ' Total Fat (g)': '0.2', 'Trans Fat (g) ': '0.1', 'Saturated Fat (g)': '0', ' Sodium (mg)': '5', ' Total Carbohydrates (g) ': '85', 'Cholesterol (mg)': '26', ' Dietary Fibre (g)': '0', ' Sugars (g)': '25', ' Protein (g) ': '7', 'Vitamin A (% DV) ': '10%', 'Vitamin C (% DV)': '4%', ' Calcium (% DV) ': '20%', 'Iron (% DV) ': '2%', 'Caffeine (mg)': '25'}\n",
      "{'Beverage_category': 'Tazo庐 Tea Drinks', 'Beverage': 'Tazo庐 Green Tea Latte', 'Beverage_prep': '2% Milk', 'Calories': '170', ' Total Fat (g)': '4', 'Trans Fat (g) ': '2', 'Saturated Fat (g)': '0.1', ' Sodium (mg)': '15', ' Total Carbohydrates (g) ': '95', 'Cholesterol (mg)': '26', ' Dietary Fibre (g)': '0', ' Sugars (g)': '25', ' Protein (g) ': '7', 'Vitamin A (% DV) ': '10%', 'Vitamin C (% DV)': '6%', ' Calcium (% DV) ': '20%', 'Iron (% DV) ': '2%', 'Caffeine (mg)': '25'}\n",
      "{'Beverage_category': 'Tazo庐 Tea Drinks', 'Beverage': 'Tazo庐 Green Tea Latte', 'Beverage_prep': 'Soymilk', 'Calories': '140', ' Total Fat (g)': '3', 'Trans Fat (g) ': '0.4', 'Saturated Fat (g)': '0', ' Sodium (mg)': '0', ' Total Carbohydrates (g) ': '70', 'Cholesterol (mg)': '22', ' Dietary Fibre (g)': '1', ' Sugars (g)': '20', ' Protein (g) ': '6', 'Vitamin A (% DV) ': '8%', 'Vitamin C (% DV)': '4%', ' Calcium (% DV) ': '20%', 'Iron (% DV) ': '10%', 'Caffeine (mg)': '25'}\n",
      "{'Beverage_category': 'Tazo庐 Tea Drinks', 'Beverage': 'Tazo庐 Green Tea Latte', 'Beverage_prep': 'Tall Nonfat Milk', 'Calories': '210', ' Total Fat (g)': '0.4', 'Trans Fat (g) ': '0.2', 'Saturated Fat (g)': '0', ' Sodium (mg)': '5', ' Total Carbohydrates (g) ': '125', 'Cholesterol (mg)': '42', ' Dietary Fibre (g)': '1', ' Sugars (g)': '41', ' Protein (g) ': '11', 'Vitamin A (% DV) ': '20%', 'Vitamin C (% DV)': '10%', ' Calcium (% DV) ': '35%', 'Iron (% DV) ': '4%', 'Caffeine (mg)': '55'}\n",
      "{'Beverage_category': 'Tazo庐 Tea Drinks', 'Beverage': 'Tazo庐 Green Tea Latte', 'Beverage_prep': '2% Milk', 'Calories': '260', ' Total Fat (g)': '6', 'Trans Fat (g) ': '3', 'Saturated Fat (g)': '0.2', ' Sodium (mg)': '25', ' Total Carbohydrates (g) ': '140', 'Cholesterol (mg)': '41', ' Dietary Fibre (g)': '1', ' Sugars (g)': '40', ' Protein (g) ': '10', 'Vitamin A (% DV) ': '15%', 'Vitamin C (% DV)': '10%', ' Calcium (% DV) ': '35%', 'Iron (% DV) ': '4%', 'Caffeine (mg)': '55'}\n",
      "{'Beverage_category': 'Tazo庐 Tea Drinks', 'Beverage': 'Tazo庐 Green Tea Latte', 'Beverage_prep': 'Soymilk', 'Calories': '230', ' Total Fat (g)': '4.5', 'Trans Fat (g) ': '0.5', 'Saturated Fat (g)': '0', ' Sodium (mg)': '0', ' Total Carbohydrates (g) ': '110', 'Cholesterol (mg)': '36', ' Dietary Fibre (g)': '2', ' Sugars (g)': '33', ' Protein (g) ': '9', 'Vitamin A (% DV) ': '10%', 'Vitamin C (% DV)': '10%', ' Calcium (% DV) ': '35%', 'Iron (% DV) ': '15%', 'Caffeine (mg)': '55'}\n",
      "{'Beverage_category': 'Tazo庐 Tea Drinks', 'Beverage': 'Tazo庐 Green Tea Latte', 'Beverage_prep': 'Grande Nonfat Milk', 'Calories': '290', ' Total Fat (g)': '0.5', 'Trans Fat (g) ': '0.2', 'Saturated Fat (g)': '0', ' Sodium (mg)': '10', ' Total Carbohydrates (g) ': '160', 'Cholesterol (mg)': '57', ' Dietary Fibre (g)': '1', ' Sugars (g)': '56', ' Protein (g) ': '14', 'Vitamin A (% DV) ': '25%', 'Vitamin C (% DV)': '15%', ' Calcium (% DV) ': '45%', 'Iron (% DV) ': '4%', 'Caffeine (mg)': '80'}\n",
      "{'Beverage_category': 'Tazo庐 Tea Drinks', 'Beverage': 'Tazo庐 Green Tea Latte', 'Beverage_prep': '2% Milk', 'Calories': '350', ' Total Fat (g)': '8', 'Trans Fat (g) ': '4', 'Saturated Fat (g)': '0.2', ' Sodium (mg)': '30', ' Total Carbohydrates (g) ': '180', 'Cholesterol (mg)': '57', ' Dietary Fibre (g)': '1', ' Sugars (g)': '55', ' Protein (g) ': '14', 'Vitamin A (% DV) ': '20%', 'Vitamin C (% DV)': '15%', ' Calcium (% DV) ': '45%', 'Iron (% DV) ': '4%', 'Caffeine (mg)': '80'}\n",
      "{'Beverage_category': 'Tazo庐 Tea Drinks', 'Beverage': 'Tazo庐 Green Tea Latte', 'Beverage_prep': 'Soymilk', 'Calories': '310', ' Total Fat (g)': '6', 'Trans Fat (g) ': '1', 'Saturated Fat (g)': '0', ' Sodium (mg)': '0', ' Total Carbohydrates (g) ': '140', 'Cholesterol (mg)': '50', ' Dietary Fibre (g)': '3', ' Sugars (g)': '46', ' Protein (g) ': '11', 'Vitamin A (% DV) ': '15%', 'Vitamin C (% DV)': '15%', ' Calcium (% DV) ': '45%', 'Iron (% DV) ': '25%', 'Caffeine (mg)': '80'}\n",
      "{'Beverage_category': 'Tazo庐 Tea Drinks', 'Beverage': 'Tazo庐 Green Tea Latte', 'Beverage_prep': 'Venti Nonfat Milk', 'Calories': '370', ' Total Fat (g)': '0.5', 'Trans Fat (g) ': '0.3', 'Saturated Fat (g)': '0', ' Sodium (mg)': '10', ' Total Carbohydrates (g) ': '200', 'Cholesterol (mg)': '73', ' Dietary Fibre (g)': '2', ' Sugars (g)': '71', ' Protein (g) ': '18', 'Vitamin A (% DV) ': '30%', 'Vitamin C (% DV)': '20%', ' Calcium (% DV) ': '60%', 'Iron (% DV) ': '6%', 'Caffeine (mg)': '110'}\n",
      "{'Beverage_category': 'Tazo庐 Tea Drinks', 'Beverage': 'Tazo庐 Green Tea Latte', 'Beverage_prep': '2% Milk', 'Calories': '450', ' Total Fat (g)': '10', 'Trans Fat (g) ': '5', 'Saturated Fat (g)': '0.3', ' Sodium (mg)': '40', ' Total Carbohydrates (g) ': '230', 'Cholesterol (mg)': '72', ' Dietary Fibre (g)': '2', ' Sugars (g)': '71', ' Protein (g) ': '17', 'Vitamin A (% DV) ': '25%', 'Vitamin C (% DV)': '20%', ' Calcium (% DV) ': '50%', 'Iron (% DV) ': '6%', 'Caffeine (mg)': '110'}\n",
      "{'Beverage_category': 'Tazo庐 Tea Drinks', 'Beverage': 'Tazo庐 Green Tea Latte', 'Beverage_prep': 'Soymilk', 'Calories': '390', ' Total Fat (g)': '8', 'Trans Fat (g) ': '1', 'Saturated Fat (g)': '0', ' Sodium (mg)': '0', ' Total Carbohydrates (g) ': '180', 'Cholesterol (mg)': '64', ' Dietary Fibre (g)': '4', ' Sugars (g)': '58', ' Protein (g) ': '14', 'Vitamin A (% DV) ': '20%', 'Vitamin C (% DV)': '20%', ' Calcium (% DV) ': '60%', 'Iron (% DV) ': '30%', 'Caffeine (mg)': '110'}\n",
      "{'Beverage_category': 'Tazo庐 Tea Drinks', 'Beverage': 'Tazo庐 Full-Leaf Tea Latte', 'Beverage_prep': 'Short Nonfat Milk', 'Calories': '80', ' Total Fat (g)': '0.1', 'Trans Fat (g) ': '0.1', 'Saturated Fat (g)': '0', ' Sodium (mg)': '0', ' Total Carbohydrates (g) ': '45', 'Cholesterol (mg)': '16', ' Dietary Fibre (g)': '0', ' Sugars (g)': '16', ' Protein (g) ': '4', 'Vitamin A (% DV) ': '6%', 'Vitamin C (% DV)': '0%', ' Calcium (% DV) ': '10%', 'Iron (% DV) ': '0.00%', 'Caffeine (mg)': 'varies'}\n",
      "{'Beverage_category': 'Tazo庐 Tea Drinks', 'Beverage': 'Tazo庐 Full-Leaf Tea Latte', 'Beverage_prep': '2% Milk', 'Calories': '90', ' Total Fat (g)': '2', 'Trans Fat (g) ': '1', 'Saturated Fat (g)': '0.1', ' Sodium (mg)': '10', ' Total Carbohydrates (g) ': '50', 'Cholesterol (mg)': '15', ' Dietary Fibre (g)': '0', ' Sugars (g)': '15', ' Protein (g) ': '3', 'Vitamin A (% DV) ': '6%', 'Vitamin C (% DV)': '0%', ' Calcium (% DV) ': '10%', 'Iron (% DV) ': '0.00%', 'Caffeine (mg)': 'varies'}\n",
      "{'Beverage_category': 'Tazo庐 Tea Drinks', 'Beverage': 'Tazo庐 Full-Leaf Tea Latte', 'Beverage_prep': 'Soymilk', 'Calories': '80', ' Total Fat (g)': '1.5', 'Trans Fat (g) ': '0.2', 'Saturated Fat (g)': '0', ' Sodium (mg)': '0', ' Total Carbohydrates (g) ': '40', 'Cholesterol (mg)': '14', ' Dietary Fibre (g)': '0', ' Sugars (g)': '13', ' Protein (g) ': '3', 'Vitamin A (% DV) ': '4%', 'Vitamin C (% DV)': '0%', ' Calcium (% DV) ': '10%', 'Iron (% DV) ': '6.00%', 'Caffeine (mg)': 'varies'}\n",
      "{'Beverage_category': 'Tazo庐 Tea Drinks', 'Beverage': 'Tazo庐 Full-Leaf Tea Latte', 'Beverage_prep': 'Tall Nonfat Milk', 'Calories': '120', ' Total Fat (g)': '0.1', 'Trans Fat (g) ': '0.1', 'Saturated Fat (g)': '0', ' Sodium (mg)': '5', ' Total Carbohydrates (g) ': '65', 'Cholesterol (mg)': '23', ' Dietary Fibre (g)': '0', ' Sugars (g)': '23', ' Protein (g) ': '5', 'Vitamin A (% DV) ': '10%', 'Vitamin C (% DV)': '0%', ' Calcium (% DV) ': '20%', 'Iron (% DV) ': '0.00%', 'Caffeine (mg)': 'varies'}\n",
      "{'Beverage_category': 'Tazo庐 Tea Drinks', 'Beverage': 'Tazo庐 Full-Leaf Tea Latte', 'Beverage_prep': '2% Milk', 'Calories': '140', ' Total Fat (g)': '3', 'Trans Fat (g) ': '1.5', 'Saturated Fat (g)': '0.1', ' Sodium (mg)': '15', ' Total Carbohydrates (g) ': '75', 'Cholesterol (mg)': '23', ' Dietary Fibre (g)': '0', ' Sugars (g)': '23', ' Protein (g) ': '5', 'Vitamin A (% DV) ': '8%', 'Vitamin C (% DV)': '0%', ' Calcium (% DV) ': '15%', 'Iron (% DV) ': '0.00%', 'Caffeine (mg)': 'varies'}\n",
      "{'Beverage_category': 'Tazo庐 Tea Drinks', 'Beverage': 'Tazo庐 Full-Leaf Tea Latte', 'Beverage_prep': 'Soymilk', 'Calories': '130', ' Total Fat (g)': '2.5', 'Trans Fat (g) ': '0.3', 'Saturated Fat (g)': '0', ' Sodium (mg)': '0', ' Total Carbohydrates (g) ': '60', 'Cholesterol (mg)': '21', ' Dietary Fibre (g)': '1', ' Sugars (g)': '19', ' Protein (g) ': '4', 'Vitamin A (% DV) ': '6%', 'Vitamin C (% DV)': '0%', ' Calcium (% DV) ': '20%', 'Iron (% DV) ': '8.00%', 'Caffeine (mg)': 'varies'}\n",
      "{'Beverage_category': 'Tazo庐 Tea Drinks', 'Beverage': 'Tazo庐 Full-Leaf Tea Latte', 'Beverage_prep': 'Grande Nonfat Milk', 'Calories': '150', ' Total Fat (g)': '0.2', 'Trans Fat (g) ': '0.1', 'Saturated Fat (g)': '0', ' Sodium (mg)': '5', ' Total Carbohydrates (g) ': '85', 'Cholesterol (mg)': '31', ' Dietary Fibre (g)': '0', ' Sugars (g)': '31', ' Protein (g) ': '7', 'Vitamin A (% DV) ': '15%', 'Vitamin C (% DV)': '0%', ' Calcium (% DV) ': '25%', 'Iron (% DV) ': '0.00%', 'Caffeine (mg)': 'varies'}\n",
      "{'Beverage_category': 'Tazo庐 Tea Drinks', 'Beverage': 'Tazo庐 Full-Leaf Tea Latte', 'Beverage_prep': '2% Milk', 'Calories': '190', ' Total Fat (g)': '4', 'Trans Fat (g) ': '2', 'Saturated Fat (g)': '0.1', ' Sodium (mg)': '15', ' Total Carbohydrates (g) ': '95', 'Cholesterol (mg)': '31', ' Dietary Fibre (g)': '0', ' Sugars (g)': '30', ' Protein (g) ': '7', 'Vitamin A (% DV) ': '10%', 'Vitamin C (% DV)': '0%', ' Calcium (% DV) ': '25%', 'Iron (% DV) ': '0.00%', 'Caffeine (mg)': 'varies'}\n",
      "{'Beverage_category': 'Tazo庐 Tea Drinks', 'Beverage': 'Tazo庐 Full-Leaf Tea Latte', 'Beverage_prep': 'Soymilk', 'Calories': '170', ' Total Fat (g)': '3.5', 'Trans Fat (g) ': '0.4', 'Saturated Fat (g)': '0', ' Sodium (mg)': '0', ' Total Carbohydrates (g) ': '80', 'Cholesterol (mg)': '27', ' Dietary Fibre (g)': '1', ' Sugars (g)': '25', ' Protein (g) ': '6', 'Vitamin A (% DV) ': '8%', 'Vitamin C (% DV)': '0%', ' Calcium (% DV) ': '25%', 'Iron (% DV) ': '10.00%', 'Caffeine (mg)': 'varies'}\n",
      "{'Beverage_category': 'Tazo庐 Tea Drinks', 'Beverage': 'Tazo庐 Full-Leaf Tea Latte', 'Beverage_prep': 'Venti Nonfat Milk', 'Calories': '190', ' Total Fat (g)': '0.2', 'Trans Fat (g) ': '0.1', 'Saturated Fat (g)': '0', ' Sodium (mg)': '5', ' Total Carbohydrates (g) ': '110', 'Cholesterol (mg)': '39', ' Dietary Fibre (g)': '0', ' Sugars (g)': '39', ' Protein (g) ': '9', 'Vitamin A (% DV) ': '15%', 'Vitamin C (% DV)': '0%', ' Calcium (% DV) ': '30%', 'Iron (% DV) ': '0.00%', 'Caffeine (mg)': 'varies'}\n",
      "{'Beverage_category': 'Tazo庐 Tea Drinks', 'Beverage': 'Tazo庐 Full-Leaf Tea Latte', 'Beverage_prep': '2% Milk', 'Calories': '230', ' Total Fat (g)': '5', 'Trans Fat (g) ': '2.5', 'Saturated Fat (g)': '0.2', ' Sodium (mg)': '20', ' Total Carbohydrates (g) ': '125', 'Cholesterol (mg)': '38', ' Dietary Fibre (g)': '0', ' Sugars (g)': '38', ' Protein (g) ': '9', 'Vitamin A (% DV) ': '15%', 'Vitamin C (% DV)': '0%', ' Calcium (% DV) ': '30%', 'Iron (% DV) ': '0.00%', 'Caffeine (mg)': 'varies'}\n",
      "{'Beverage_category': 'Tazo庐 Tea Drinks', 'Beverage': 'Tazo庐 Full-Leaf Tea Latte', 'Beverage_prep': 'Soymilk', 'Calories': '210', ' Total Fat (g)': '4', 'Trans Fat (g) ': '0.5', 'Saturated Fat (g)': '0', ' Sodium (mg)': '0', ' Total Carbohydrates (g) ': '100', 'Cholesterol (mg)': '34', ' Dietary Fibre (g)': '1', ' Sugars (g)': '32', ' Protein (g) ': '7', 'Vitamin A (% DV) ': '10%', 'Vitamin C (% DV)': '0%', ' Calcium (% DV) ': '30%', 'Iron (% DV) ': '15.00%', 'Caffeine (mg)': 'varies'}\n",
      "{'Beverage_category': 'Tazo庐 Tea Drinks', 'Beverage': 'Tazo庐 Full-Leaf Red Tea Latte (Vanilla Rooibos)', 'Beverage_prep': 'Short Nonfat Milk', 'Calories': '80', ' Total Fat (g)': '0.1', 'Trans Fat (g) ': '0.1', 'Saturated Fat (g)': '0', ' Sodium (mg)': '0', ' Total Carbohydrates (g) ': '45', 'Cholesterol (mg)': '16', ' Dietary Fibre (g)': '0', ' Sugars (g)': '16', ' Protein (g) ': '4', 'Vitamin A (% DV) ': '6%', 'Vitamin C (% DV)': '0%', ' Calcium (% DV) ': '10%', 'Iron (% DV) ': '0%', 'Caffeine (mg)': '0'}\n",
      "{'Beverage_category': 'Tazo庐 Tea Drinks', 'Beverage': 'Tazo庐 Full-Leaf Red Tea Latte (Vanilla Rooibos)', 'Beverage_prep': '2% Milk', 'Calories': '90', ' Total Fat (g)': '2', 'Trans Fat (g) ': '1', 'Saturated Fat (g)': '0.1', ' Sodium (mg)': '10', ' Total Carbohydrates (g) ': '50', 'Cholesterol (mg)': '15', ' Dietary Fibre (g)': '0', ' Sugars (g)': '15', ' Protein (g) ': '3', 'Vitamin A (% DV) ': '6%', 'Vitamin C (% DV)': '0%', ' Calcium (% DV) ': '10%', 'Iron (% DV) ': '0%', 'Caffeine (mg)': '0'}\n",
      "{'Beverage_category': 'Tazo庐 Tea Drinks', 'Beverage': 'Tazo庐 Full-Leaf Red Tea Latte (Vanilla Rooibos)', 'Beverage_prep': 'Soymilk', 'Calories': '80', ' Total Fat (g)': '1.5', 'Trans Fat (g) ': '0.2', 'Saturated Fat (g)': '0', ' Sodium (mg)': '0', ' Total Carbohydrates (g) ': '40', 'Cholesterol (mg)': '14', ' Dietary Fibre (g)': '0', ' Sugars (g)': '13', ' Protein (g) ': '3', 'Vitamin A (% DV) ': '4%', 'Vitamin C (% DV)': '0%', ' Calcium (% DV) ': '10%', 'Iron (% DV) ': '6%', 'Caffeine (mg)': '0'}\n",
      "{'Beverage_category': 'Tazo庐 Tea Drinks', 'Beverage': 'Tazo庐 Full-Leaf Red Tea Latte (Vanilla Rooibos)', 'Beverage_prep': 'Tall Nonfat Milk', 'Calories': '120', ' Total Fat (g)': '0.1', 'Trans Fat (g) ': '0.1', 'Saturated Fat (g)': '0', ' Sodium (mg)': '5', ' Total Carbohydrates (g) ': '65', 'Cholesterol (mg)': '23', ' Dietary Fibre (g)': '0', ' Sugars (g)': '23', ' Protein (g) ': '5', 'Vitamin A (% DV) ': '10%', 'Vitamin C (% DV)': '0%', ' Calcium (% DV) ': '20%', 'Iron (% DV) ': '0%', 'Caffeine (mg)': '0'}\n",
      "{'Beverage_category': 'Tazo庐 Tea Drinks', 'Beverage': 'Tazo庐 Full-Leaf Red Tea Latte (Vanilla Rooibos)', 'Beverage_prep': '2% Milk', 'Calories': '140', ' Total Fat (g)': '3', 'Trans Fat (g) ': '1.5', 'Saturated Fat (g)': '0.1', ' Sodium (mg)': '15', ' Total Carbohydrates (g) ': '75', 'Cholesterol (mg)': '23', ' Dietary Fibre (g)': '0', ' Sugars (g)': '23', ' Protein (g) ': '5', 'Vitamin A (% DV) ': '8%', 'Vitamin C (% DV)': '0%', ' Calcium (% DV) ': '15%', 'Iron (% DV) ': '0%', 'Caffeine (mg)': '0'}\n",
      "{'Beverage_category': 'Tazo庐 Tea Drinks', 'Beverage': 'Tazo庐 Full-Leaf Red Tea Latte (Vanilla Rooibos)', 'Beverage_prep': 'Soymilk', 'Calories': '130', ' Total Fat (g)': '2.5', 'Trans Fat (g) ': '0.3', 'Saturated Fat (g)': '0', ' Sodium (mg)': '0', ' Total Carbohydrates (g) ': '60', 'Cholesterol (mg)': '21', ' Dietary Fibre (g)': '1', ' Sugars (g)': '19', ' Protein (g) ': '4', 'Vitamin A (% DV) ': '6%', 'Vitamin C (% DV)': '0%', ' Calcium (% DV) ': '20%', 'Iron (% DV) ': '8%', 'Caffeine (mg)': '0'}\n",
      "{'Beverage_category': 'Tazo庐 Tea Drinks', 'Beverage': 'Tazo庐 Full-Leaf Red Tea Latte (Vanilla Rooibos)', 'Beverage_prep': 'Grande Nonfat Milk', 'Calories': '150', ' Total Fat (g)': '0.2', 'Trans Fat (g) ': '0.1', 'Saturated Fat (g)': '0', ' Sodium (mg)': '5', ' Total Carbohydrates (g) ': '85', 'Cholesterol (mg)': '31', ' Dietary Fibre (g)': '0', ' Sugars (g)': '31', ' Protein (g) ': '7', 'Vitamin A (% DV) ': '15%', 'Vitamin C (% DV)': '0%', ' Calcium (% DV) ': '25%', 'Iron (% DV) ': '0%', 'Caffeine (mg)': '0'}\n",
      "{'Beverage_category': 'Tazo庐 Tea Drinks', 'Beverage': 'Tazo庐 Full-Leaf Red Tea Latte (Vanilla Rooibos)', 'Beverage_prep': '2% Milk', 'Calories': '190', ' Total Fat (g)': '4', 'Trans Fat (g) ': '2', 'Saturated Fat (g)': '0.1', ' Sodium (mg)': '15', ' Total Carbohydrates (g) ': '95', 'Cholesterol (mg)': '31', ' Dietary Fibre (g)': '0', ' Sugars (g)': '30', ' Protein (g) ': '7', 'Vitamin A (% DV) ': '10%', 'Vitamin C (% DV)': '0%', ' Calcium (% DV) ': '25%', 'Iron (% DV) ': '0%', 'Caffeine (mg)': '0'}\n",
      "{'Beverage_category': 'Tazo庐 Tea Drinks', 'Beverage': 'Tazo庐 Full-Leaf Red Tea Latte (Vanilla Rooibos)', 'Beverage_prep': 'Soymilk', 'Calories': '170', ' Total Fat (g)': '3.5', 'Trans Fat (g) ': '0.4', 'Saturated Fat (g)': '0', ' Sodium (mg)': '0', ' Total Carbohydrates (g) ': '80', 'Cholesterol (mg)': '27', ' Dietary Fibre (g)': '1', ' Sugars (g)': '25', ' Protein (g) ': '6', 'Vitamin A (% DV) ': '8%', 'Vitamin C (% DV)': '0%', ' Calcium (% DV) ': '25%', 'Iron (% DV) ': '10%', 'Caffeine (mg)': '0'}\n",
      "{'Beverage_category': 'Tazo庐 Tea Drinks', 'Beverage': 'Tazo庐 Full-Leaf Red Tea Latte (Vanilla Rooibos)', 'Beverage_prep': 'Venti Nonfat Milk', 'Calories': '190', ' Total Fat (g)': '0.2', 'Trans Fat (g) ': '0.1', 'Saturated Fat (g)': '0', ' Sodium (mg)': '5', ' Total Carbohydrates (g) ': '110', 'Cholesterol (mg)': '39', ' Dietary Fibre (g)': '0', ' Sugars (g)': '39', ' Protein (g) ': '9', 'Vitamin A (% DV) ': '15%', 'Vitamin C (% DV)': '0%', ' Calcium (% DV) ': '30%', 'Iron (% DV) ': '0%', 'Caffeine (mg)': '0'}\n",
      "{'Beverage_category': 'Tazo庐 Tea Drinks', 'Beverage': 'Tazo庐 Full-Leaf Red Tea Latte (Vanilla Rooibos)', 'Beverage_prep': '2% Milk', 'Calories': '230', ' Total Fat (g)': '5', 'Trans Fat (g) ': '2.5', 'Saturated Fat (g)': '0.2', ' Sodium (mg)': '20', ' Total Carbohydrates (g) ': '125', 'Cholesterol (mg)': '38', ' Dietary Fibre (g)': '0', ' Sugars (g)': '38', ' Protein (g) ': '9', 'Vitamin A (% DV) ': '15%', 'Vitamin C (% DV)': '0%', ' Calcium (% DV) ': '30%', 'Iron (% DV) ': '0%', 'Caffeine (mg)': '0'}\n",
      "{'Beverage_category': 'Tazo庐 Tea Drinks', 'Beverage': 'Tazo庐 Full-Leaf Red Tea Latte (Vanilla Rooibos)', 'Beverage_prep': 'Soymilk', 'Calories': '210', ' Total Fat (g)': '4', 'Trans Fat (g) ': '0.5', 'Saturated Fat (g)': '0', ' Sodium (mg)': '0', ' Total Carbohydrates (g) ': '100', 'Cholesterol (mg)': '34', ' Dietary Fibre (g)': '1', ' Sugars (g)': '32', ' Protein (g) ': '7', 'Vitamin A (% DV) ': '10%', 'Vitamin C (% DV)': '0%', ' Calcium (% DV) ': '30%', 'Iron (% DV) ': '15%', 'Caffeine (mg)': '0'}\n",
      "{'Beverage_category': 'Shaken Iced Beverages', 'Beverage': 'Iced Brewed Coffee (With Classic Syrup)', 'Beverage_prep': 'Tall', 'Calories': '60', ' Total Fat (g)': '0', 'Trans Fat (g) ': '0', 'Saturated Fat (g)': '0', ' Sodium (mg)': '0', ' Total Carbohydrates (g) ': '4', 'Cholesterol (mg)': '15', ' Dietary Fibre (g)': '0', ' Sugars (g)': '15', ' Protein (g) ': '0.2', 'Vitamin A (% DV) ': '0%', 'Vitamin C (% DV)': '0%', ' Calcium (% DV) ': '0%', 'Iron (% DV) ': '0%', 'Caffeine (mg)': '120'}\n",
      "{'Beverage_category': 'Shaken Iced Beverages', 'Beverage': 'Iced Brewed Coffee (With Classic Syrup)', 'Beverage_prep': 'Grande', 'Calories': '90', ' Total Fat (g)': '0.1', 'Trans Fat (g) ': '0', 'Saturated Fat (g)': '0', ' Sodium (mg)': '0', ' Total Carbohydrates (g) ': '5', 'Cholesterol (mg)': '21', ' Dietary Fibre (g)': '0', ' Sugars (g)': '21', ' Protein (g) ': '0.3', 'Vitamin A (% DV) ': '0%', 'Vitamin C (% DV)': '0%', ' Calcium (% DV) ': '0%', 'Iron (% DV) ': '0%', 'Caffeine (mg)': '165'}\n",
      "{'Beverage_category': 'Shaken Iced Beverages', 'Beverage': 'Iced Brewed Coffee (With Classic Syrup)', 'Beverage_prep': 'Venti', 'Calories': '130', ' Total Fat (g)': '0.1', 'Trans Fat (g) ': '0', 'Saturated Fat (g)': '0', ' Sodium (mg)': '0', ' Total Carbohydrates (g) ': '5', 'Cholesterol (mg)': '31', ' Dietary Fibre (g)': '0', ' Sugars (g)': '31', ' Protein (g) ': '0.4', 'Vitamin A (% DV) ': '0%', 'Vitamin C (% DV)': '0%', ' Calcium (% DV) ': '0%', 'Iron (% DV) ': '0%', 'Caffeine (mg)': '235'}\n",
      "{'Beverage_category': 'Shaken Iced Beverages', 'Beverage': 'Iced Brewed Coffee (With Milk & Classic Syrup)', 'Beverage_prep': 'Tall Nonfat Milk', 'Calories': '80', ' Total Fat (g)': '0.1', 'Trans Fat (g) ': '0', 'Saturated Fat (g)': '0', ' Sodium (mg)': '0', ' Total Carbohydrates (g) ': '25', 'Cholesterol (mg)': '18', ' Dietary Fibre (g)': '0', ' Sugars (g)': '18', ' Protein (g) ': '2', 'Vitamin A (% DV) ': '2%', 'Vitamin C (% DV)': '0%', ' Calcium (% DV) ': '6%', 'Iron (% DV) ': '0%', 'Caffeine (mg)': '90'}\n",
      "{'Beverage_category': 'Shaken Iced Beverages', 'Beverage': 'Iced Brewed Coffee (With Milk & Classic Syrup)', 'Beverage_prep': '2% Milk', 'Calories': '90', ' Total Fat (g)': '1', 'Trans Fat (g) ': '0.5', 'Saturated Fat (g)': '0', ' Sodium (mg)': '5', ' Total Carbohydrates (g) ': '25', 'Cholesterol (mg)': '18', ' Dietary Fibre (g)': '0', ' Sugars (g)': '18', ' Protein (g) ': '2', 'Vitamin A (% DV) ': '2%', 'Vitamin C (% DV)': '0%', ' Calcium (% DV) ': '6%', 'Iron (% DV) ': '0.00%', 'Caffeine (mg)': ''}\n",
      "{'Beverage_category': 'Shaken Iced Beverages', 'Beverage': 'Iced Brewed Coffee (With Milk & Classic Syrup)', 'Beverage_prep': 'Soymilk', 'Calories': '80', ' Total Fat (g)': '1', 'Trans Fat (g) ': '0.1', 'Saturated Fat (g)': '0', ' Sodium (mg)': '0', ' Total Carbohydrates (g) ': '20', 'Cholesterol (mg)': '17', ' Dietary Fibre (g)': '0', ' Sugars (g)': '17', ' Protein (g) ': '2', 'Vitamin A (% DV) ': '2%', 'Vitamin C (% DV)': '0%', ' Calcium (% DV) ': '6%', 'Iron (% DV) ': '0%', 'Caffeine (mg)': '90'}\n",
      "{'Beverage_category': 'Shaken Iced Beverages', 'Beverage': 'Iced Brewed Coffee (With Milk & Classic Syrup)', 'Beverage_prep': 'Grande Nonfat Milk', 'Calories': '110', ' Total Fat (g)': '0.1', 'Trans Fat (g) ': '0', 'Saturated Fat (g)': '0', ' Sodium (mg)': '0', ' Total Carbohydrates (g) ': '30', 'Cholesterol (mg)': '24', ' Dietary Fibre (g)': '0', ' Sugars (g)': '24', ' Protein (g) ': '2', 'Vitamin A (% DV) ': '4%', 'Vitamin C (% DV)': '0%', ' Calcium (% DV) ': '8%', 'Iron (% DV) ': '2%', 'Caffeine (mg)': '90'}\n",
      "{'Beverage_category': 'Shaken Iced Beverages', 'Beverage': 'Iced Brewed Coffee (With Milk & Classic Syrup)', 'Beverage_prep': '2% Milk', 'Calories': '120', ' Total Fat (g)': '1.5', 'Trans Fat (g) ': '0.5', 'Saturated Fat (g)': '0', ' Sodium (mg)': '5', ' Total Carbohydrates (g) ': '35', 'Cholesterol (mg)': '24', ' Dietary Fibre (g)': '0', ' Sugars (g)': '24', ' Protein (g) ': '2', 'Vitamin A (% DV) ': '4%', 'Vitamin C (% DV)': '0%', ' Calcium (% DV) ': '8%', 'Iron (% DV) ': '0%', 'Caffeine (mg)': '125'}\n",
      "{'Beverage_category': 'Shaken Iced Beverages', 'Beverage': 'Iced Brewed Coffee (With Milk & Classic Syrup)', 'Beverage_prep': 'Soymilk', 'Calories': '110', ' Total Fat (g)': '1', 'Trans Fat (g) ': '0.1', 'Saturated Fat (g)': '0', ' Sodium (mg)': '0', ' Total Carbohydrates (g) ': '30', 'Cholesterol (mg)': '23', ' Dietary Fibre (g)': '0', ' Sugars (g)': '22', ' Protein (g) ': '2', 'Vitamin A (% DV) ': '2%', 'Vitamin C (% DV)': '0%', ' Calcium (% DV) ': '8%', 'Iron (% DV) ': '0%', 'Caffeine (mg)': '125'}\n",
      "{'Beverage_category': 'Shaken Iced Beverages', 'Beverage': 'Iced Brewed Coffee (With Milk & Classic Syrup)', 'Beverage_prep': 'Venti Nonfat Milk', 'Calories': '160', ' Total Fat (g)': '0.1', 'Trans Fat (g) ': '0.1', 'Saturated Fat (g)': '0', ' Sodium (mg)': '0', ' Total Carbohydrates (g) ': '50', 'Cholesterol (mg)': '36', ' Dietary Fibre (g)': '0', ' Sugars (g)': '36', ' Protein (g) ': '4', 'Vitamin A (% DV) ': '6%', 'Vitamin C (% DV)': '0%', ' Calcium (% DV) ': '10%', 'Iron (% DV) ': '4%', 'Caffeine (mg)': '125'}\n",
      "{'Beverage_category': 'Shaken Iced Beverages', 'Beverage': 'Iced Brewed Coffee (With Milk & Classic Syrup)', 'Beverage_prep': '2% Milk', 'Calories': '180', ' Total Fat (g)': '2', 'Trans Fat (g) ': '1', 'Saturated Fat (g)': '0.1', ' Sodium (mg)': '10', ' Total Carbohydrates (g) ': '55', 'Cholesterol (mg)': '36', ' Dietary Fibre (g)': '0', ' Sugars (g)': '36', ' Protein (g) ': '4', 'Vitamin A (% DV) ': '6%', 'Vitamin C (% DV)': '0%', ' Calcium (% DV) ': '10%', 'Iron (% DV) ': '0%', 'Caffeine (mg)': '170'}\n",
      "{'Beverage_category': 'Shaken Iced Beverages', 'Beverage': 'Iced Brewed Coffee (With Milk & Classic Syrup)', 'Beverage_prep': 'Soymilk', 'Calories': '170', ' Total Fat (g)': '1.5', 'Trans Fat (g) ': '0.2', 'Saturated Fat (g)': '0', ' Sodium (mg)': '0', ' Total Carbohydrates (g) ': '45', 'Cholesterol (mg)': '34', ' Dietary Fibre (g)': '0', ' Sugars (g)': '33', ' Protein (g) ': '3', 'Vitamin A (% DV) ': '4%', 'Vitamin C (% DV)': '0%', ' Calcium (% DV) ': '10%', 'Iron (% DV) ': '0%', 'Caffeine (mg)': '170'}\n",
      "{'Beverage_category': 'Shaken Iced Beverages', 'Beverage': 'Shaken Iced Tazo庐 Tea (With Classic Syrup)', 'Beverage_prep': 'Tall', 'Calories': '60', ' Total Fat (g)': '0', 'Trans Fat (g) ': '0', 'Saturated Fat (g)': '0', ' Sodium (mg)': '0', ' Total Carbohydrates (g) ': '0', 'Cholesterol (mg)': '15', ' Dietary Fibre (g)': '0', ' Sugars (g)': '15', ' Protein (g) ': '0', 'Vitamin A (% DV) ': '0%', 'Vitamin C (% DV)': '0%', ' Calcium (% DV) ': '0%', 'Iron (% DV) ': '6%', 'Caffeine (mg)': '170'}\n",
      "{'Beverage_category': 'Shaken Iced Beverages', 'Beverage': 'Shaken Iced Tazo庐 Tea (With Classic Syrup)', 'Beverage_prep': 'Grande', 'Calories': '80', ' Total Fat (g)': '0', 'Trans Fat (g) ': '0', 'Saturated Fat (g)': '0', ' Sodium (mg)': '0', ' Total Carbohydrates (g) ': '0', 'Cholesterol (mg)': '21', ' Dietary Fibre (g)': '0', ' Sugars (g)': '21', ' Protein (g) ': '0', 'Vitamin A (% DV) ': '0%', 'Vitamin C (% DV)': '0%', ' Calcium (% DV) ': '0%', 'Iron (% DV) ': '0%', 'Caffeine (mg)': 'Varies'}\n",
      "{'Beverage_category': 'Shaken Iced Beverages', 'Beverage': 'Shaken Iced Tazo庐 Tea (With Classic Syrup)', 'Beverage_prep': 'Venti', 'Calories': '120', ' Total Fat (g)': '0', 'Trans Fat (g) ': '0', 'Saturated Fat (g)': '0', ' Sodium (mg)': '0', ' Total Carbohydrates (g) ': '0', 'Cholesterol (mg)': '31', ' Dietary Fibre (g)': '0', ' Sugars (g)': '31', ' Protein (g) ': '0', 'Vitamin A (% DV) ': '0%', 'Vitamin C (% DV)': '0%', ' Calcium (% DV) ': '0%', 'Iron (% DV) ': '0%', 'Caffeine (mg)': 'Varies'}\n",
      "{'Beverage_category': 'Shaken Iced Beverages', 'Beverage': 'Shaken Iced Tazo庐 Tea Lemonade (With Classic Syrup)', 'Beverage_prep': 'Tall', 'Calories': '100', ' Total Fat (g)': '0', 'Trans Fat (g) ': '0', 'Saturated Fat (g)': '0', ' Sodium (mg)': '0', ' Total Carbohydrates (g) ': '0', 'Cholesterol (mg)': '25', ' Dietary Fibre (g)': '0', ' Sugars (g)': '24', ' Protein (g) ': '0.1', 'Vitamin A (% DV) ': '0%', 'Vitamin C (% DV)': '10%', ' Calcium (% DV) ': '0%', 'Iron (% DV) ': '0%', 'Caffeine (mg)': 'Varies'}\n",
      "{'Beverage_category': 'Shaken Iced Beverages', 'Beverage': 'Shaken Iced Tazo庐 Tea Lemonade (With Classic Syrup)', 'Beverage_prep': 'Grande', 'Calories': '130', ' Total Fat (g)': '0', 'Trans Fat (g) ': '0', 'Saturated Fat (g)': '0', ' Sodium (mg)': '0', ' Total Carbohydrates (g) ': '0', 'Cholesterol (mg)': '33', ' Dietary Fibre (g)': '0', ' Sugars (g)': '33', ' Protein (g) ': '0.1', 'Vitamin A (% DV) ': '0%', 'Vitamin C (% DV)': '15%', ' Calcium (% DV) ': '0%', 'Iron (% DV) ': '0%', 'Caffeine (mg)': 'Varies'}\n",
      "{'Beverage_category': 'Shaken Iced Beverages', 'Beverage': 'Shaken Iced Tazo庐 Tea Lemonade (With Classic Syrup)', 'Beverage_prep': 'Venti', 'Calories': '190', ' Total Fat (g)': '0', 'Trans Fat (g) ': '0', 'Saturated Fat (g)': '0', ' Sodium (mg)': '0', ' Total Carbohydrates (g) ': '0', 'Cholesterol (mg)': '49', ' Dietary Fibre (g)': '0', ' Sugars (g)': '49', ' Protein (g) ': '0.1', 'Vitamin A (% DV) ': '0%', 'Vitamin C (% DV)': '20%', ' Calcium (% DV) ': '0%', 'Iron (% DV) ': '0%', 'Caffeine (mg)': 'Varies'}\n",
      "{'Beverage_category': 'Smoothies', 'Beverage': 'Banana Chocolate Smoothie', 'Beverage_prep': 'Grande Nonfat Milk', 'Calories': '280', ' Total Fat (g)': '2.5', 'Trans Fat (g) ': '1.5', 'Saturated Fat (g)': '0', ' Sodium (mg)': '5', ' Total Carbohydrates (g) ': '150', 'Cholesterol (mg)': '53', ' Dietary Fibre (g)': '7', ' Sugars (g)': '34', ' Protein (g) ': '20', 'Vitamin A (% DV) ': '10%', 'Vitamin C (% DV)': '15%', ' Calcium (% DV) ': '20%', 'Iron (% DV) ': '0%', 'Caffeine (mg)': 'Varies'}\n",
      "{'Beverage_category': 'Smoothies', 'Beverage': 'Banana Chocolate Smoothie', 'Beverage_prep': '2% Milk', 'Calories': '300', ' Total Fat (g)': '5', 'Trans Fat (g) ': '2.5', 'Saturated Fat (g)': '0.1', ' Sodium (mg)': '15', ' Total Carbohydrates (g) ': '160', 'Cholesterol (mg)': '53', ' Dietary Fibre (g)': '7', ' Sugars (g)': '34', ' Protein (g) ': '20', 'Vitamin A (% DV) ': '8%', 'Vitamin C (% DV)': '15%', ' Calcium (% DV) ': '20%', 'Iron (% DV) ': '20%', 'Caffeine (mg)': '15'}\n",
      "{'Beverage_category': 'Smoothies', 'Beverage': 'Banana Chocolate Smoothie', 'Beverage_prep': 'Soymilk', 'Calories': '290', ' Total Fat (g)': '4.5', 'Trans Fat (g) ': '1.5', 'Saturated Fat (g)': '0', ' Sodium (mg)': '5', ' Total Carbohydrates (g) ': '150', 'Cholesterol (mg)': '51', ' Dietary Fibre (g)': '7', ' Sugars (g)': '31', ' Protein (g) ': '19', 'Vitamin A (% DV) ': '6%', 'Vitamin C (% DV)': '15%', ' Calcium (% DV) ': '20%', 'Iron (% DV) ': '20%', 'Caffeine (mg)': '15'}\n",
      "{'Beverage_category': 'Smoothies', 'Beverage': 'Orange Mango Banana Smoothie', 'Beverage_prep': 'Grande Nonfat Milk', 'Calories': '260', ' Total Fat (g)': '1', 'Trans Fat (g) ': '0.3', 'Saturated Fat (g)': '0', ' Sodium (mg)': '5', ' Total Carbohydrates (g) ': '120', 'Cholesterol (mg)': '54', ' Dietary Fibre (g)': '6', ' Sugars (g)': '37', ' Protein (g) ': '16', 'Vitamin A (% DV) ': '50%', 'Vitamin C (% DV)': '80%', ' Calcium (% DV) ': '10%', 'Iron (% DV) ': '30%', 'Caffeine (mg)': '15'}\n",
      "{'Beverage_category': 'Smoothies', 'Beverage': 'Orange Mango Banana Smoothie', 'Beverage_prep': '2% Milk', 'Calories': '270', ' Total Fat (g)': '1.5', 'Trans Fat (g) ': '0.5', 'Saturated Fat (g)': '0', ' Sodium (mg)': '5', ' Total Carbohydrates (g) ': '125', 'Cholesterol (mg)': '53', ' Dietary Fibre (g)': '6', ' Sugars (g)': '37', ' Protein (g) ': '16', 'Vitamin A (% DV) ': '50%', 'Vitamin C (% DV)': '80%', ' Calcium (% DV) ': '10%', 'Iron (% DV) ': '6%', 'Caffeine (mg)': '0'}\n",
      "{'Beverage_category': 'Smoothies', 'Beverage': 'Orange Mango Banana Smoothie', 'Beverage_prep': 'Soymilk', 'Calories': '270', ' Total Fat (g)': '1.5', 'Trans Fat (g) ': '0.4', 'Saturated Fat (g)': '0', ' Sodium (mg)': '5', ' Total Carbohydrates (g) ': '120', 'Cholesterol (mg)': '53', ' Dietary Fibre (g)': '6', ' Sugars (g)': '36', ' Protein (g) ': '15', 'Vitamin A (% DV) ': '50%', 'Vitamin C (% DV)': '80%', ' Calcium (% DV) ': '10%', 'Iron (% DV) ': '6%', 'Caffeine (mg)': '0'}\n",
      "{'Beverage_category': 'Smoothies', 'Beverage': 'Strawberry Banana Smoothie', 'Beverage_prep': 'Grande Nonfat Milk', 'Calories': '290', ' Total Fat (g)': '1', 'Trans Fat (g) ': '0.3', 'Saturated Fat (g)': '0', ' Sodium (mg)': '5', ' Total Carbohydrates (g) ': '125', 'Cholesterol (mg)': '58', ' Dietary Fibre (g)': '7', ' Sugars (g)': '41', ' Protein (g) ': '16', 'Vitamin A (% DV) ': '4%', 'Vitamin C (% DV)': '100%', ' Calcium (% DV) ': '10%', 'Iron (% DV) ': '8%', 'Caffeine (mg)': '0'}\n",
      "{'Beverage_category': 'Smoothies', 'Beverage': 'Strawberry Banana Smoothie', 'Beverage_prep': '2% Milk', 'Calories': '290', ' Total Fat (g)': '2', 'Trans Fat (g) ': '1', 'Saturated Fat (g)': '0', ' Sodium (mg)': '5', ' Total Carbohydrates (g) ': '125', 'Cholesterol (mg)': '58', ' Dietary Fibre (g)': '7', ' Sugars (g)': '41', ' Protein (g) ': '16', 'Vitamin A (% DV) ': '4%', 'Vitamin C (% DV)': '100%', ' Calcium (% DV) ': '10%', 'Iron (% DV) ': '8%', 'Caffeine (mg)': '0'}\n",
      "{'Beverage_category': 'Smoothies', 'Beverage': 'Strawberry Banana Smoothie', 'Beverage_prep': 'Soymilk', 'Calories': '290', ' Total Fat (g)': '2', 'Trans Fat (g) ': '0.4', 'Saturated Fat (g)': '0', ' Sodium (mg)': '5', ' Total Carbohydrates (g) ': '120', 'Cholesterol (mg)': '58', ' Dietary Fibre (g)': '8', ' Sugars (g)': '40', ' Protein (g) ': '16', 'Vitamin A (% DV) ': '2%', 'Vitamin C (% DV)': '100%', ' Calcium (% DV) ': '10%', 'Iron (% DV) ': '8%', 'Caffeine (mg)': '0'}\n",
      "{'Beverage_category': 'Frappuccino庐 Blended Coffee', 'Beverage': 'Coffee', 'Beverage_prep': 'Tall Nonfat Milk', 'Calories': '160', ' Total Fat (g)': '0.1', 'Trans Fat (g) ': '0', 'Saturated Fat (g)': '0', ' Sodium (mg)': '0', ' Total Carbohydrates (g) ': '160', 'Cholesterol (mg)': '36', ' Dietary Fibre (g)': '0', ' Sugars (g)': '36', ' Protein (g) ': '3', 'Vitamin A (% DV) ': '4%', 'Vitamin C (% DV)': '0%', ' Calcium (% DV) ': '10%', 'Iron (% DV) ': '10%', 'Caffeine (mg)': '0'}\n",
      "{'Beverage_category': 'Frappuccino庐 Blended Coffee', 'Beverage': 'Coffee', 'Beverage_prep': 'Whole Milk', 'Calories': '180', ' Total Fat (g)': '2.5', 'Trans Fat (g) ': '1.5', 'Saturated Fat (g)': '0.1', ' Sodium (mg)': '10', ' Total Carbohydrates (g) ': '160', 'Cholesterol (mg)': '36', ' Dietary Fibre (g)': '0', ' Sugars (g)': '36', ' Protein (g) ': '3', 'Vitamin A (% DV) ': '4%', 'Vitamin C (% DV)': '0%', ' Calcium (% DV) ': '8%', 'Iron (% DV) ': '0%', 'Caffeine (mg)': '70'}\n",
      "{'Beverage_category': 'Frappuccino庐 Blended Coffee', 'Beverage': 'Coffee', 'Beverage_prep': 'Soymilk', 'Calories': '160', ' Total Fat (g)': '1.5', 'Trans Fat (g) ': '0.2', 'Saturated Fat (g)': '0', ' Sodium (mg)': '0', ' Total Carbohydrates (g) ': '150', 'Cholesterol (mg)': '35', ' Dietary Fibre (g)': '0', ' Sugars (g)': '34', ' Protein (g) ': '2', 'Vitamin A (% DV) ': '4%', 'Vitamin C (% DV)': '0%', ' Calcium (% DV) ': '10%', 'Iron (% DV) ': '0%', 'Caffeine (mg)': '70'}\n",
      "{'Beverage_category': 'Frappuccino庐 Blended Coffee', 'Beverage': 'Coffee', 'Beverage_prep': 'Grande Nonfat Milk', 'Calories': '220', ' Total Fat (g)': '0.1', 'Trans Fat (g) ': '0.1', 'Saturated Fat (g)': '0', ' Sodium (mg)': '0', ' Total Carbohydrates (g) ': '210', 'Cholesterol (mg)': '51', ' Dietary Fibre (g)': '0', ' Sugars (g)': '50', ' Protein (g) ': '4', 'Vitamin A (% DV) ': '6%', 'Vitamin C (% DV)': '0%', ' Calcium (% DV) ': '10%', 'Iron (% DV) ': '4%', 'Caffeine (mg)': '70'}\n",
      "{'Beverage_category': 'Frappuccino庐 Blended Coffee', 'Beverage': 'Coffee', 'Beverage_prep': 'Whole Milk', 'Calories': '240', ' Total Fat (g)': '3', 'Trans Fat (g) ': '2', 'Saturated Fat (g)': '0.1', ' Sodium (mg)': '10', ' Total Carbohydrates (g) ': '220', 'Cholesterol (mg)': '50', ' Dietary Fibre (g)': '0', ' Sugars (g)': '50', ' Protein (g) ': '3', 'Vitamin A (% DV) ': '4%', 'Vitamin C (% DV)': '0%', ' Calcium (% DV) ': '10%', 'Iron (% DV) ': '0%', 'Caffeine (mg)': '95'}\n",
      "{'Beverage_category': 'Frappuccino庐 Blended Coffee', 'Beverage': 'Coffee', 'Beverage_prep': 'Soymilk', 'Calories': '220', ' Total Fat (g)': '1.5', 'Trans Fat (g) ': '0.2', 'Saturated Fat (g)': '0', ' Sodium (mg)': '0', ' Total Carbohydrates (g) ': '210', 'Cholesterol (mg)': '49', ' Dietary Fibre (g)': '0', ' Sugars (g)': '47', ' Protein (g) ': '3', 'Vitamin A (% DV) ': '4%', 'Vitamin C (% DV)': '0%', ' Calcium (% DV) ': '10%', 'Iron (% DV) ': '0%', 'Caffeine (mg)': '95'}\n",
      "{'Beverage_category': 'Frappuccino庐 Blended Coffee', 'Beverage': 'Coffee', 'Beverage_prep': 'Venti Nonfat Milk', 'Calories': '310', ' Total Fat (g)': '0.1', 'Trans Fat (g) ': '0.1', 'Saturated Fat (g)': '0', ' Sodium (mg)': '5', ' Total Carbohydrates (g) ': '300', 'Cholesterol (mg)': '70', ' Dietary Fibre (g)': '0', ' Sugars (g)': '69', ' Protein (g) ': '6', 'Vitamin A (% DV) ': '10%', 'Vitamin C (% DV)': '0%', ' Calcium (% DV) ': '20%', 'Iron (% DV) ': '6%', 'Caffeine (mg)': '95'}\n",
      "{'Beverage_category': 'Frappuccino庐 Blended Coffee', 'Beverage': 'Coffee', 'Beverage_prep': 'Whole Milk', 'Calories': '350', ' Total Fat (g)': '5', 'Trans Fat (g) ': '3', 'Saturated Fat (g)': '0.2', ' Sodium (mg)': '15', ' Total Carbohydrates (g) ': '300', 'Cholesterol (mg)': '70', ' Dietary Fibre (g)': '0', ' Sugars (g)': '69', ' Protein (g) ': '5', 'Vitamin A (% DV) ': '8%', 'Vitamin C (% DV)': '0%', ' Calcium (% DV) ': '15%', 'Iron (% DV) ': '2%', 'Caffeine (mg)': '130'}\n",
      "{'Beverage_category': 'Frappuccino庐 Blended Coffee', 'Beverage': 'Coffee', 'Beverage_prep': 'Soymilk', 'Calories': '310', ' Total Fat (g)': '2.5', 'Trans Fat (g) ': '0.3', 'Saturated Fat (g)': '0', ' Sodium (mg)': '0', ' Total Carbohydrates (g) ': '300', 'Cholesterol (mg)': '68', ' Dietary Fibre (g)': '1', ' Sugars (g)': '66', ' Protein (g) ': '5', 'Vitamin A (% DV) ': '6%', 'Vitamin C (% DV)': '0%', ' Calcium (% DV) ': '20%', 'Iron (% DV) ': '2%', 'Caffeine (mg)': '130'}\n",
      "{'Beverage_category': 'Frappuccino庐 Blended Coffee', 'Beverage': 'Mocha (Without Whipped Cream)', 'Beverage_prep': 'Tall Nonfat Milk', 'Calories': '180', ' Total Fat (g)': '0.5', 'Trans Fat (g) ': '0.4', 'Saturated Fat (g)': '0', ' Sodium (mg)': '0', ' Total Carbohydrates (g) ': '150', 'Cholesterol (mg)': '42', ' Dietary Fibre (g)': '1', ' Sugars (g)': '40', ' Protein (g) ': '3', 'Vitamin A (% DV) ': '4%', 'Vitamin C (% DV)': '0%', ' Calcium (% DV) ': '10%', 'Iron (% DV) ': '8%', 'Caffeine (mg)': '130'}\n",
      "{'Beverage_category': 'Frappuccino庐 Blended Coffee', 'Beverage': 'Mocha (Without Whipped Cream)', 'Beverage_prep': 'Whole Milk', 'Calories': '200', ' Total Fat (g)': '3', 'Trans Fat (g) ': '2', 'Saturated Fat (g)': '0.1', ' Sodium (mg)': '10', ' Total Carbohydrates (g) ': '160', 'Cholesterol (mg)': '42', ' Dietary Fibre (g)': '1', ' Sugars (g)': '40', ' Protein (g) ': '3', 'Vitamin A (% DV) ': '4%', 'Vitamin C (% DV)': '0%', ' Calcium (% DV) ': '8%', 'Iron (% DV) ': '6%', 'Caffeine (mg)': '70'}\n",
      "{'Beverage_category': 'Frappuccino庐 Blended Coffee', 'Beverage': 'Mocha (Without Whipped Cream)', 'Beverage_prep': 'Soymilk', 'Calories': '180', ' Total Fat (g)': '2', 'Trans Fat (g) ': '0.5', 'Saturated Fat (g)': '0', ' Sodium (mg)': '0', ' Total Carbohydrates (g) ': '150', 'Cholesterol (mg)': '40', ' Dietary Fibre (g)': '1', ' Sugars (g)': '38', ' Protein (g) ': '3', 'Vitamin A (% DV) ': '4%', 'Vitamin C (% DV)': '0%', ' Calcium (% DV) ': '10%', 'Iron (% DV) ': '10%', 'Caffeine (mg)': '70'}\n",
      "{'Beverage_category': 'Frappuccino庐 Blended Coffee', 'Beverage': 'Mocha (Without Whipped Cream)', 'Beverage_prep': 'Grande Nonfat Milk', 'Calories': '260', ' Total Fat (g)': '1', 'Trans Fat (g) ': '0.5', 'Saturated Fat (g)': '0', ' Sodium (mg)': '0', ' Total Carbohydrates (g) ': '220', 'Cholesterol (mg)': '61', ' Dietary Fibre (g)': '1', ' Sugars (g)': '58', ' Protein (g) ': '4', 'Vitamin A (% DV) ': '6%', 'Vitamin C (% DV)': '0%', ' Calcium (% DV) ': '10%', 'Iron (% DV) ': '8%', 'Caffeine (mg)': '110'}\n",
      "{'Beverage_category': 'Frappuccino庐 Blended Coffee', 'Beverage': 'Mocha (Without Whipped Cream)', 'Beverage_prep': 'Whole Milk', 'Calories': '290', ' Total Fat (g)': '4', 'Trans Fat (g) ': '2.5', 'Saturated Fat (g)': '0.1', ' Sodium (mg)': '10', ' Total Carbohydrates (g) ': '220', 'Cholesterol (mg)': '61', ' Dietary Fibre (g)': '1', ' Sugars (g)': '58', ' Protein (g) ': '4', 'Vitamin A (% DV) ': '4%', 'Vitamin C (% DV)': '0%', ' Calcium (% DV) ': '10%', 'Iron (% DV) ': '8%', 'Caffeine (mg)': '110'}\n",
      "{'Beverage_category': 'Frappuccino庐 Blended Coffee', 'Beverage': 'Mocha (Without Whipped Cream)', 'Beverage_prep': 'Soymilk', 'Calories': '260', ' Total Fat (g)': '2.5', 'Trans Fat (g) ': '0.5', 'Saturated Fat (g)': '0', ' Sodium (mg)': '0', ' Total Carbohydrates (g) ': '220', 'Cholesterol (mg)': '59', ' Dietary Fibre (g)': '1', ' Sugars (g)': '55', ' Protein (g) ': '4', 'Vitamin A (% DV) ': '4%', 'Vitamin C (% DV)': '0%', ' Calcium (% DV) ': '10%', 'Iron (% DV) ': '15%', 'Caffeine (mg)': '110'}\n",
      "{'Beverage_category': 'Frappuccino庐 Blended Coffee', 'Beverage': 'Mocha (Without Whipped Cream)', 'Beverage_prep': 'Venti Nonfat Milk', 'Calories': '340', ' Total Fat (g)': '1', 'Trans Fat (g) ': '0.5', 'Saturated Fat (g)': '0', ' Sodium (mg)': '5', ' Total Carbohydrates (g) ': '300', 'Cholesterol (mg)': '80', ' Dietary Fibre (g)': '1', ' Sugars (g)': '76', ' Protein (g) ': '7', 'Vitamin A (% DV) ': '10%', 'Vitamin C (% DV)': '0%', ' Calcium (% DV) ': '15%', 'Iron (% DV) ': '10%', 'Caffeine (mg)': '140'}\n",
      "{'Beverage_category': 'Frappuccino庐 Blended Coffee', 'Beverage': 'Mocha (Without Whipped Cream)', 'Beverage_prep': 'Whole Milk', 'Calories': '390', ' Total Fat (g)': '6', 'Trans Fat (g) ': '3.5', 'Saturated Fat (g)': '0.1', ' Sodium (mg)': '15', ' Total Carbohydrates (g) ': '300', 'Cholesterol (mg)': '80', ' Dietary Fibre (g)': '1', ' Sugars (g)': '76', ' Protein (g) ': '6', 'Vitamin A (% DV) ': '8%', 'Vitamin C (% DV)': '0%', ' Calcium (% DV) ': '15%', 'Iron (% DV) ': '10%', 'Caffeine (mg)': '140'}\n",
      "{'Beverage_category': 'Frappuccino庐 Blended Coffee', 'Beverage': 'Mocha (Without Whipped Cream)', 'Beverage_prep': 'Soymilk', 'Calories': '350', ' Total Fat (g)': '3', 'Trans Fat (g) ': '1', 'Saturated Fat (g)': '0', ' Sodium (mg)': '0', ' Total Carbohydrates (g) ': '290', 'Cholesterol (mg)': '78', ' Dietary Fibre (g)': '2', ' Sugars (g)': '73', ' Protein (g) ': '6', 'Vitamin A (% DV) ': '6%', 'Vitamin C (% DV)': '0%', ' Calcium (% DV) ': '20%', 'Iron (% DV) ': '20%', 'Caffeine (mg)': '140'}\n",
      "{'Beverage_category': 'Frappuccino庐 Blended Coffee', 'Beverage': 'Caramel (Without Whipped Cream)', 'Beverage_prep': 'Tall Nonfat Milk', 'Calories': '180', ' Total Fat (g)': '0.1', 'Trans Fat (g) ': '0', 'Saturated Fat (g)': '0', ' Sodium (mg)': '0', ' Total Carbohydrates (g) ': '160', 'Cholesterol (mg)': '42', ' Dietary Fibre (g)': '0', ' Sugars (g)': '41', ' Protein (g) ': '3', 'Vitamin A (% DV) ': '4%', 'Vitamin C (% DV)': '0%', ' Calcium (% DV) ': '10%', 'Iron (% DV) ': '0%', 'Caffeine (mg)': '70'}\n",
      "{'Beverage_category': 'Frappuccino庐 Blended Coffee', 'Beverage': 'Caramel (Without Whipped Cream)', 'Beverage_prep': 'Whole Milk', 'Calories': '200', ' Total Fat (g)': '2.5', 'Trans Fat (g) ': '1.5', 'Saturated Fat (g)': '0.1', ' Sodium (mg)': '10', ' Total Carbohydrates (g) ': '160', 'Cholesterol (mg)': '42', ' Dietary Fibre (g)': '0', ' Sugars (g)': '41', ' Protein (g) ': '3', 'Vitamin A (% DV) ': '4%', 'Vitamin C (% DV)': '0%', ' Calcium (% DV) ': '8%', 'Iron (% DV) ': '0%', 'Caffeine (mg)': '70'}\n",
      "{'Beverage_category': 'Frappuccino庐 Blended Coffee', 'Beverage': 'Caramel (Without Whipped Cream)', 'Beverage_prep': 'Soymilk', 'Calories': '180', ' Total Fat (g)': '1.5', 'Trans Fat (g) ': '0.2', 'Saturated Fat (g)': '0', ' Sodium (mg)': '0', ' Total Carbohydrates (g) ': '150', 'Cholesterol (mg)': '40', ' Dietary Fibre (g)': '0', ' Sugars (g)': '39', ' Protein (g) ': '2', 'Vitamin A (% DV) ': '4%', 'Vitamin C (% DV)': '0%', ' Calcium (% DV) ': '10%', 'Iron (% DV) ': '4%', 'Caffeine (mg)': '70'}\n",
      "{'Beverage_category': 'Frappuccino庐 Blended Coffee', 'Beverage': 'Caramel (Without Whipped Cream)', 'Beverage_prep': 'Grande Nonfat Milk', 'Calories': '280', ' Total Fat (g)': '0.1', 'Trans Fat (g) ': '0.1', 'Saturated Fat (g)': '0', ' Sodium (mg)': '0', ' Total Carbohydrates (g) ': '220', 'Cholesterol (mg)': '60', ' Dietary Fibre (g)': '0', ' Sugars (g)': '59', ' Protein (g) ': '4', 'Vitamin A (% DV) ': '6%', 'Vitamin C (% DV)': '0%', ' Calcium (% DV) ': '10%', 'Iron (% DV) ': '0%', 'Caffeine (mg)': '100'}\n",
      "{'Beverage_category': 'Frappuccino庐 Blended Coffee', 'Beverage': 'Caramel (Without Whipped Cream)', 'Beverage_prep': 'Whole Milk', 'Calories': '280', ' Total Fat (g)': '3.5', 'Trans Fat (g) ': '2', 'Saturated Fat (g)': '0.1', ' Sodium (mg)': '10', ' Total Carbohydrates (g) ': '220', 'Cholesterol (mg)': '60', ' Dietary Fibre (g)': '0', ' Sugars (g)': '59', ' Protein (g) ': '3', 'Vitamin A (% DV) ': '4%', 'Vitamin C (% DV)': '0%', ' Calcium (% DV) ': '10%', 'Iron (% DV) ': '0%', 'Caffeine (mg)': '100'}\n",
      "{'Beverage_category': 'Frappuccino庐 Blended Coffee', 'Beverage': 'Caramel (Without Whipped Cream)', 'Beverage_prep': 'Soymilk', 'Calories': '260', ' Total Fat (g)': '1.5', 'Trans Fat (g) ': '0.2', 'Saturated Fat (g)': '0', ' Sodium (mg)': '0', ' Total Carbohydrates (g) ': '220', 'Cholesterol (mg)': '58', ' Dietary Fibre (g)': '0', ' Sugars (g)': '56', ' Protein (g) ': '3', 'Vitamin A (% DV) ': '4%', 'Vitamin C (% DV)': '0%', ' Calcium (% DV) ': '10%', 'Iron (% DV) ': '6%', 'Caffeine (mg)': '100'}\n",
      "{'Beverage_category': 'Frappuccino庐 Blended Coffee', 'Beverage': 'Caramel (Without Whipped Cream)', 'Beverage_prep': 'Venti Nonfat Milk', 'Calories': '330', ' Total Fat (g)': '0.1', 'Trans Fat (g) ': '0.1', 'Saturated Fat (g)': '0', ' Sodium (mg)': '5', ' Total Carbohydrates (g) ': '290', 'Cholesterol (mg)': '78', ' Dietary Fibre (g)': '0', ' Sugars (g)': '77', ' Protein (g) ': '5', 'Vitamin A (% DV) ': '10%', 'Vitamin C (% DV)': '0%', ' Calcium (% DV) ': '15%', 'Iron (% DV) ': '2%', 'Caffeine (mg)': '130'}\n",
      "{'Beverage_category': 'Frappuccino庐 Blended Coffee', 'Beverage': 'Caramel (Without Whipped Cream)', 'Beverage_prep': 'Whole Milk', 'Calories': '370', ' Total Fat (g)': '5', 'Trans Fat (g) ': '3', 'Saturated Fat (g)': '0.1', ' Sodium (mg)': '15', ' Total Carbohydrates (g) ': '300', 'Cholesterol (mg)': '78', ' Dietary Fibre (g)': '0', ' Sugars (g)': '77', ' Protein (g) ': '5', 'Vitamin A (% DV) ': '8%', 'Vitamin C (% DV)': '0%', ' Calcium (% DV) ': '15%', 'Iron (% DV) ': '2%', 'Caffeine (mg)': '130'}\n",
      "{'Beverage_category': 'Frappuccino庐 Blended Coffee', 'Beverage': 'Caramel (Without Whipped Cream)', 'Beverage_prep': 'Soymilk', 'Calories': '340', ' Total Fat (g)': '2.5', 'Trans Fat (g) ': '0.3', 'Saturated Fat (g)': '0', ' Sodium (mg)': '0', ' Total Carbohydrates (g) ': '290', 'Cholesterol (mg)': '75', ' Dietary Fibre (g)': '1', ' Sugars (g)': '73', ' Protein (g) ': '5', 'Vitamin A (% DV) ': '6%', 'Vitamin C (% DV)': '0%', ' Calcium (% DV) ': '20%', 'Iron (% DV) ': '8%', 'Caffeine (mg)': '130'}\n",
      "{'Beverage_category': 'Frappuccino庐 Blended Coffee', 'Beverage': 'Java Chip (Without Whipped Cream)', 'Beverage_prep': 'Tall Nonfat Milk', 'Calories': '220', ' Total Fat (g)': '3', 'Trans Fat (g) ': '2', 'Saturated Fat (g)': '0', ' Sodium (mg)': '0', ' Total Carbohydrates (g) ': '170', 'Cholesterol (mg)': '47', ' Dietary Fibre (g)': '1', ' Sugars (g)': '44', ' Protein (g) ': '4', 'Vitamin A (% DV) ': '4%', 'Vitamin C (% DV)': '0%', ' Calcium (% DV) ': '10%', 'Iron (% DV) ': '20%', 'Caffeine (mg)': '75'}\n",
      "{'Beverage_category': 'Frappuccino庐 Blended Coffee', 'Beverage': 'Java Chip (Without Whipped Cream)', 'Beverage_prep': 'Whole Milk', 'Calories': '240', ' Total Fat (g)': '5', 'Trans Fat (g) ': '3.5', 'Saturated Fat (g)': '0.1', ' Sodium (mg)': '10', ' Total Carbohydrates (g) ': '170', 'Cholesterol (mg)': '47', ' Dietary Fibre (g)': '1', ' Sugars (g)': '44', ' Protein (g) ': '4', 'Vitamin A (% DV) ': '4%', 'Vitamin C (% DV)': '0%', ' Calcium (% DV) ': '8%', 'Iron (% DV) ': '20%', 'Caffeine (mg)': '75'}\n",
      "{'Beverage_category': 'Frappuccino庐 Blended Coffee', 'Beverage': 'Java Chip (Without Whipped Cream)', 'Beverage_prep': 'Soymilk', 'Calories': '220', ' Total Fat (g)': '4', 'Trans Fat (g) ': '2.5', 'Saturated Fat (g)': '0', ' Sodium (mg)': '0', ' Total Carbohydrates (g) ': '170', 'Cholesterol (mg)': '45', ' Dietary Fibre (g)': '1', ' Sugars (g)': '42', ' Protein (g) ': '3', 'Vitamin A (% DV) ': '4%', 'Vitamin C (% DV)': '0%', ' Calcium (% DV) ': '10%', 'Iron (% DV) ': '20%', 'Caffeine (mg)': '75'}\n",
      "{'Beverage_category': 'Frappuccino庐 Blended Coffee', 'Beverage': 'Java Chip (Without Whipped Cream)', 'Beverage_prep': 'Grande Nonfat Milk', 'Calories': '310', ' Total Fat (g)': '4', 'Trans Fat (g) ': '3', 'Saturated Fat (g)': '0', ' Sodium (mg)': '0', ' Total Carbohydrates (g) ': '250', 'Cholesterol (mg)': '67', ' Dietary Fibre (g)': '2', ' Sugars (g)': '62', ' Protein (g) ': '5', 'Vitamin A (% DV) ': '6%', 'Vitamin C (% DV)': '0%', ' Calcium (% DV) ': '10%', 'Iron (% DV) ': '25%', 'Caffeine (mg)': '110'}\n",
      "{'Beverage_category': 'Frappuccino庐 Blended Coffee', 'Beverage': 'Java Chip (Without Whipped Cream)', 'Beverage_prep': 'Whole Milk', 'Calories': '340', ' Total Fat (g)': '7', 'Trans Fat (g) ': '5', 'Saturated Fat (g)': '0.1', ' Sodium (mg)': '10', ' Total Carbohydrates (g) ': '250', 'Cholesterol (mg)': '67', ' Dietary Fibre (g)': '2', ' Sugars (g)': '62', ' Protein (g) ': '5', 'Vitamin A (% DV) ': '4%', 'Vitamin C (% DV)': '0%', ' Calcium (% DV) ': '10%', 'Iron (% DV) ': '25%', 'Caffeine (mg)': '110'}\n",
      "{'Beverage_category': 'Frappuccino庐 Blended Coffee', 'Beverage': 'Java Chip (Without Whipped Cream)', 'Beverage_prep': 'Soymilk', 'Calories': '310', ' Total Fat (g)': '6', 'Trans Fat (g) ': '3.5', 'Saturated Fat (g)': '0', ' Sodium (mg)': '0', ' Total Carbohydrates (g) ': '240', 'Cholesterol (mg)': '65', ' Dietary Fibre (g)': '2', ' Sugars (g)': '60', ' Protein (g) ': '4', 'Vitamin A (% DV) ': '4%', 'Vitamin C (% DV)': '0%', ' Calcium (% DV) ': '10%', 'Iron (% DV) ': '30%', 'Caffeine (mg)': '110'}\n",
      "{'Beverage_category': 'Frappuccino庐 Blended Coffee', 'Beverage': 'Java Chip (Without Whipped Cream)', 'Beverage_prep': 'Venti Nonfat Milk', 'Calories': '420', ' Total Fat (g)': '5', 'Trans Fat (g) ': '4', 'Saturated Fat (g)': '0', ' Sodium (mg)': '5', ' Total Carbohydrates (g) ': '340', 'Cholesterol (mg)': '90', ' Dietary Fibre (g)': '2', ' Sugars (g)': '84', ' Protein (g) ': '7', 'Vitamin A (% DV) ': '10%', 'Vitamin C (% DV)': '0%', ' Calcium (% DV) ': '20%', 'Iron (% DV) ': '35%', 'Caffeine (mg)': '145'}\n",
      "{'Beverage_category': 'Frappuccino庐 Blended Coffee', 'Beverage': 'Java Chip (Without Whipped Cream)', 'Beverage_prep': 'Whole Milk', 'Calories': '460', ' Total Fat (g)': '10', 'Trans Fat (g) ': '7', 'Saturated Fat (g)': '0.2', ' Sodium (mg)': '15', ' Total Carbohydrates (g) ': '340', 'Cholesterol (mg)': '90', ' Dietary Fibre (g)': '2', ' Sugars (g)': '84', ' Protein (g) ': '7', 'Vitamin A (% DV) ': '6%', 'Vitamin C (% DV)': '0%', ' Calcium (% DV) ': '15%', 'Iron (% DV) ': '35%', 'Caffeine (mg)': '145'}\n",
      "{'Beverage_category': 'Frappuccino庐 Blended Coffee', 'Beverage': 'Java Chip (Without Whipped Cream)', 'Beverage_prep': 'Soymilk', 'Calories': '430', ' Total Fat (g)': '8', 'Trans Fat (g) ': '4.5', 'Saturated Fat (g)': '0', ' Sodium (mg)': '0', ' Total Carbohydrates (g) ': '330', 'Cholesterol (mg)': '88', ' Dietary Fibre (g)': '3', ' Sugars (g)': '80', ' Protein (g) ': '6', 'Vitamin A (% DV) ': '6%', 'Vitamin C (% DV)': '0%', ' Calcium (% DV) ': '20%', 'Iron (% DV) ': '40%', 'Caffeine (mg)': '145'}\n",
      "{'Beverage_category': 'Frappuccino庐 Light Blended Coffee', 'Beverage': 'Coffee', 'Beverage_prep': 'Tall Nonfat Milk', 'Calories': '90', ' Total Fat (g)': '0.1', 'Trans Fat (g) ': '0', 'Saturated Fat (g)': '0', ' Sodium (mg)': '0', ' Total Carbohydrates (g) ': '160', 'Cholesterol (mg)': '20', ' Dietary Fibre (g)': '0', ' Sugars (g)': '19', ' Protein (g) ': '3', 'Vitamin A (% DV) ': '4%', 'Vitamin C (% DV)': '0%', ' Calcium (% DV) ': '10%', 'Iron (% DV) ': '0%', 'Caffeine (mg)': '70'}\n",
      "{'Beverage_category': 'Frappuccino庐 Light Blended Coffee', 'Beverage': 'Coffee', 'Beverage_prep': 'Grande Nonfat Milk', 'Calories': '120', ' Total Fat (g)': '0.1', 'Trans Fat (g) ': '0.1', 'Saturated Fat (g)': '0', ' Sodium (mg)': '0', ' Total Carbohydrates (g) ': '210', 'Cholesterol (mg)': '26', ' Dietary Fibre (g)': '0', ' Sugars (g)': '26', ' Protein (g) ': '3', 'Vitamin A (% DV) ': '6%', 'Vitamin C (% DV)': '0%', ' Calcium (% DV) ': '10%', 'Iron (% DV) ': '0%', 'Caffeine (mg)': '95'}\n",
      "{'Beverage_category': 'Frappuccino庐 Light Blended Coffee', 'Beverage': 'Coffee', 'Beverage_prep': 'Venti Nonfat Milk', 'Calories': '160', ' Total Fat (g)': '0.1', 'Trans Fat (g) ': '0.1', 'Saturated Fat (g)': '0', ' Sodium (mg)': '5', ' Total Carbohydrates (g) ': '270', 'Cholesterol (mg)': '34', ' Dietary Fibre (g)': '0', ' Sugars (g)': '33', ' Protein (g) ': '5', 'Vitamin A (% DV) ': '8%', 'Vitamin C (% DV)': '0%', ' Calcium (% DV) ': '15%', 'Iron (% DV) ': '2%', 'Caffeine (mg)': '120'}\n",
      "{'Beverage_category': 'Frappuccino庐 Light Blended Coffee', 'Beverage': 'Mocha', 'Beverage_prep': 'Tall Nonfat Milk', 'Calories': '110', ' Total Fat (g)': '0.5', 'Trans Fat (g) ': '0.4', 'Saturated Fat (g)': '0', ' Sodium (mg)': '0', ' Total Carbohydrates (g) ': '150', 'Cholesterol (mg)': '24', ' Dietary Fibre (g)': '1', ' Sugars (g)': '23', ' Protein (g) ': '3', 'Vitamin A (% DV) ': '4%', 'Vitamin C (% DV)': '0%', ' Calcium (% DV) ': '8%', 'Iron (% DV) ': '6%', 'Caffeine (mg)': '70'}\n",
      "{'Beverage_category': 'Frappuccino庐 Light Blended Coffee', 'Beverage': 'Mocha', 'Beverage_prep': 'Grande Nonfat Milk', 'Calories': '150', ' Total Fat (g)': '1', 'Trans Fat (g) ': '0.5', 'Saturated Fat (g)': '0', ' Sodium (mg)': '0', ' Total Carbohydrates (g) ': '200', 'Cholesterol (mg)': '33', ' Dietary Fibre (g)': '1', ' Sugars (g)': '30', ' Protein (g) ': '4', 'Vitamin A (% DV) ': '6%', 'Vitamin C (% DV)': '0%', ' Calcium (% DV) ': '10%', 'Iron (% DV) ': '8%', 'Caffeine (mg)': '95'}\n",
      "{'Beverage_category': 'Frappuccino庐 Light Blended Coffee', 'Beverage': 'Mocha', 'Beverage_prep': 'Venti Nonfat Milk', 'Calories': '210', ' Total Fat (g)': '1', 'Trans Fat (g) ': '0.5', 'Saturated Fat (g)': '0', ' Sodium (mg)': '5', ' Total Carbohydrates (g) ': '280', 'Cholesterol (mg)': '46', ' Dietary Fibre (g)': '1', ' Sugars (g)': '42', ' Protein (g) ': '6', 'Vitamin A (% DV) ': '8%', 'Vitamin C (% DV)': '0%', ' Calcium (% DV) ': '15%', 'Iron (% DV) ': '10%', 'Caffeine (mg)': '130'}\n",
      "{'Beverage_category': 'Frappuccino庐 Light Blended Coffee', 'Beverage': 'Caramel', 'Beverage_prep': 'Tall Nonfat Milk', 'Calories': '100', ' Total Fat (g)': '0.1', 'Trans Fat (g) ': '0', 'Saturated Fat (g)': '0', ' Sodium (mg)': '0', ' Total Carbohydrates (g) ': '140', 'Cholesterol (mg)': '23', ' Dietary Fibre (g)': '0', ' Sugars (g)': '23', ' Protein (g) ': '3', 'Vitamin A (% DV) ': '4%', 'Vitamin C (% DV)': '0%', ' Calcium (% DV) ': '8%', 'Iron (% DV) ': '0%', 'Caffeine (mg)': '65'}\n",
      "{'Beverage_category': 'Frappuccino庐 Light Blended Coffee', 'Beverage': 'Caramel', 'Beverage_prep': 'Grande Nonfat Milk', 'Calories': '150', ' Total Fat (g)': '0.1', 'Trans Fat (g) ': '0.1', 'Saturated Fat (g)': '0', ' Sodium (mg)': '0', ' Total Carbohydrates (g) ': '200', 'Cholesterol (mg)': '33', ' Dietary Fibre (g)': '0', ' Sugars (g)': '32', ' Protein (g) ': '3', 'Vitamin A (% DV) ': '6%', 'Vitamin C (% DV)': '0%', ' Calcium (% DV) ': '10%', 'Iron (% DV) ': '0%', 'Caffeine (mg)': '90'}\n",
      "{'Beverage_category': 'Frappuccino庐 Light Blended Coffee', 'Beverage': 'Caramel', 'Beverage_prep': 'Venti Nonfat Milk', 'Calories': '200', ' Total Fat (g)': '0.1', 'Trans Fat (g) ': '0.1', 'Saturated Fat (g)': '0', ' Sodium (mg)': '5', ' Total Carbohydrates (g) ': '270', 'Cholesterol (mg)': '44', ' Dietary Fibre (g)': '0', ' Sugars (g)': '43', ' Protein (g) ': '5', 'Vitamin A (% DV) ': '8%', 'Vitamin C (% DV)': '0%', ' Calcium (% DV) ': '15%', 'Iron (% DV) ': '2%', 'Caffeine (mg)': '120'}\n",
      "{'Beverage_category': 'Frappuccino庐 Light Blended Coffee', 'Beverage': 'Java Chip', 'Beverage_prep': 'Tall Nonfat Milk', 'Calories': '150', ' Total Fat (g)': '3', 'Trans Fat (g) ': '2', 'Saturated Fat (g)': '0', ' Sodium (mg)': '0', ' Total Carbohydrates (g) ': '170', 'Cholesterol (mg)': '30', ' Dietary Fibre (g)': '1', ' Sugars (g)': '27', ' Protein (g) ': '4', 'Vitamin A (% DV) ': '4%', 'Vitamin C (% DV)': '0%', ' Calcium (% DV) ': '10%', 'Iron (% DV) ': '20%', 'Caffeine (mg)': '70'}\n",
      "{'Beverage_category': 'Frappuccino庐 Light Blended Coffee', 'Beverage': 'Java Chip', 'Beverage_prep': 'Grande Nonfat Milk', 'Calories': '220', ' Total Fat (g)': '4', 'Trans Fat (g) ': '3', 'Saturated Fat (g)': '0', ' Sodium (mg)': '0', ' Total Carbohydrates (g) ': '240', 'Cholesterol (mg)': '43', ' Dietary Fibre (g)': '2', ' Sugars (g)': '39', ' Protein (g) ': '5', 'Vitamin A (% DV) ': '6%', 'Vitamin C (% DV)': '0%', ' Calcium (% DV) ': '10%', 'Iron (% DV) ': '25%', 'Caffeine (mg)': '105'}\n",
      "{'Beverage_category': 'Frappuccino庐 Light Blended Coffee', 'Beverage': 'Java Chip', 'Beverage_prep': 'Venti Nonfat Milk', 'Calories': '290', ' Total Fat (g)': '5', 'Trans Fat (g) ': '4', 'Saturated Fat (g)': '0', ' Sodium (mg)': '5', ' Total Carbohydrates (g) ': '320', 'Cholesterol (mg)': '58', ' Dietary Fibre (g)': '2', ' Sugars (g)': '52', ' Protein (g) ': '7', 'Vitamin A (% DV) ': '8%', 'Vitamin C (% DV)': '0%', ' Calcium (% DV) ': '15%', 'Iron (% DV) ': '35%', 'Caffeine (mg)': '165'}\n",
      "{'Beverage_category': 'Frappuccino庐 Blended Cr猫me', 'Beverage': 'Strawberries & Cr猫me (Without Whipped Cream)', 'Beverage_prep': 'Tall Nonfat Milk', 'Calories': '170', ' Total Fat (g)': '0.1', 'Trans Fat (g) ': '0.1', 'Saturated Fat (g)': '0', ' Sodium (mg)': '0', ' Total Carbohydrates (g) ': '140', 'Cholesterol (mg)': '39', ' Dietary Fibre (g)': '0', ' Sugars (g)': '38', ' Protein (g) ': '3', 'Vitamin A (% DV) ': '6%', 'Vitamin C (% DV)': '6%', ' Calcium (% DV) ': '10%', 'Iron (% DV) ': '2%', 'Caffeine (mg)': '0'}\n",
      "{'Beverage_category': 'Frappuccino庐 Blended Cr猫me', 'Beverage': 'Strawberries & Cr猫me (Without Whipped Cream)', 'Beverage_prep': 'Whole Milk', 'Calories': '190', ' Total Fat (g)': '3', 'Trans Fat (g) ': '1.5', 'Saturated Fat (g)': '0.1', ' Sodium (mg)': '10', ' Total Carbohydrates (g) ': '140', 'Cholesterol (mg)': '38', ' Dietary Fibre (g)': '0', ' Sugars (g)': '37', ' Protein (g) ': '3', 'Vitamin A (% DV) ': '4%', 'Vitamin C (% DV)': '6%', ' Calcium (% DV) ': '10%', 'Iron (% DV) ': '2%', 'Caffeine (mg)': '0'}\n",
      "{'Beverage_category': 'Frappuccino庐 Blended Cr猫me', 'Beverage': 'Strawberries & Cr猫me (Without Whipped Cream)', 'Beverage_prep': 'Soymilk', 'Calories': '170', ' Total Fat (g)': '1.5', 'Trans Fat (g) ': '0.2', 'Saturated Fat (g)': '0', ' Sodium (mg)': '0', ' Total Carbohydrates (g) ': '135', 'Cholesterol (mg)': '37', ' Dietary Fibre (g)': '1', ' Sugars (g)': '35', ' Protein (g) ': '3', 'Vitamin A (% DV) ': '4%', 'Vitamin C (% DV)': '6%', ' Calcium (% DV) ': '10%', 'Iron (% DV) ': '6%', 'Caffeine (mg)': '0'}\n",
      "{'Beverage_category': 'Frappuccino庐 Blended Cr猫me', 'Beverage': 'Strawberries & Cr猫me (Without Whipped Cream)', 'Beverage_prep': 'Grande Nonfat Milk', 'Calories': '230', ' Total Fat (g)': '0.2', 'Trans Fat (g) ': '0.1', 'Saturated Fat (g)': '0', ' Sodium (mg)': '0', ' Total Carbohydrates (g) ': '190', 'Cholesterol (mg)': '53', ' Dietary Fibre (g)': '0', ' Sugars (g)': '52', ' Protein (g) ': '4', 'Vitamin A (% DV) ': '8%', 'Vitamin C (% DV)': '6%', ' Calcium (% DV) ': '15%', 'Iron (% DV) ': '4%', 'Caffeine (mg)': '0'}\n",
      "{'Beverage_category': 'Frappuccino庐 Blended Cr猫me', 'Beverage': 'Strawberries & Cr猫me (Without Whipped Cream)', 'Beverage_prep': 'Whole Milk', 'Calories': '260', ' Total Fat (g)': '4', 'Trans Fat (g) ': '2', 'Saturated Fat (g)': '0.1', ' Sodium (mg)': '10', ' Total Carbohydrates (g) ': '190', 'Cholesterol (mg)': '53', ' Dietary Fibre (g)': '0', ' Sugars (g)': '52', ' Protein (g) ': '4', 'Vitamin A (% DV) ': '6%', 'Vitamin C (% DV)': '6%', ' Calcium (% DV) ': '15%', 'Iron (% DV) ': '4%', 'Caffeine (mg)': '0'}\n",
      "{'Beverage_category': 'Frappuccino庐 Blended Cr猫me', 'Beverage': 'Strawberries & Cr猫me (Without Whipped Cream)', 'Beverage_prep': 'Soymilk', 'Calories': '240', ' Total Fat (g)': '2', 'Trans Fat (g) ': '0.2', 'Saturated Fat (g)': '0', ' Sodium (mg)': '0', ' Total Carbohydrates (g) ': '180', 'Cholesterol (mg)': '51', ' Dietary Fibre (g)': '1', ' Sugars (g)': '49', ' Protein (g) ': '3', 'Vitamin A (% DV) ': '4%', 'Vitamin C (% DV)': '6%', ' Calcium (% DV) ': '15%', 'Iron (% DV) ': '8%', 'Caffeine (mg)': '0'}\n",
      "{'Beverage_category': 'Frappuccino庐 Blended Cr猫me', 'Beverage': 'Strawberries & Cr猫me (Without Whipped Cream)', 'Beverage_prep': 'Venti Nonfat Milk', 'Calories': '310', ' Total Fat (g)': '0.2', 'Trans Fat (g) ': '0.1', 'Saturated Fat (g)': '0', ' Sodium (mg)': '5', ' Total Carbohydrates (g) ': '260', 'Cholesterol (mg)': '70', ' Dietary Fibre (g)': '0', ' Sugars (g)': '69', ' Protein (g) ': '6', 'Vitamin A (% DV) ': '10%', 'Vitamin C (% DV)': '8%', ' Calcium (% DV) ': '20%', 'Iron (% DV) ': '4%', 'Caffeine (mg)': '0'}\n",
      "{'Beverage_category': 'Frappuccino庐 Blended Cr猫me', 'Beverage': 'Strawberries & Cr猫me (Without Whipped Cream)', 'Beverage_prep': 'Whole Milk', 'Calories': '350', ' Total Fat (g)': '6', 'Trans Fat (g) ': '3', 'Saturated Fat (g)': '0.2', ' Sodium (mg)': '15', ' Total Carbohydrates (g) ': '260', 'Cholesterol (mg)': '70', ' Dietary Fibre (g)': '0', ' Sugars (g)': '68', ' Protein (g) ': '6', 'Vitamin A (% DV) ': '8%', 'Vitamin C (% DV)': '8%', ' Calcium (% DV) ': '20%', 'Iron (% DV) ': '4%', 'Caffeine (mg)': '0'}\n",
      "{'Beverage_category': 'Frappuccino庐 Blended Cr猫me', 'Beverage': 'Strawberries & Cr猫me (Without Whipped Cream)', 'Beverage_prep': 'Soymilk', 'Calories': '320', ' Total Fat (g)': '3 2', 'Trans Fat (g) ': '0.4', 'Saturated Fat (g)': '0', ' Sodium (mg)': '0', ' Total Carbohydrates (g) ': '250', 'Cholesterol (mg)': '67', ' Dietary Fibre (g)': '1', ' Sugars (g)': '64', ' Protein (g) ': '5', 'Vitamin A (% DV) ': '6%', 'Vitamin C (% DV)': '8%', ' Calcium (% DV) ': '20%', 'Iron (% DV) ': '10%', 'Caffeine (mg)': '0'}\n",
      "{'Beverage_category': 'Frappuccino庐 Blended Cr猫me', 'Beverage': 'Vanilla Bean (Without Whipped Cream)', 'Beverage_prep': 'Tall Nonfat Milk', 'Calories': '170', ' Total Fat (g)': '0.1', 'Trans Fat (g) ': '0.1', 'Saturated Fat (g)': '0', ' Sodium (mg)': '0', ' Total Carbohydrates (g) ': '160', 'Cholesterol (mg)': '39', ' Dietary Fibre (g)': '0', ' Sugars (g)': '38', ' Protein (g) ': '4', 'Vitamin A (% DV) ': '6%', 'Vitamin C (% DV)': '0%', ' Calcium (% DV) ': '10%', 'Iron (% DV) ': '0%', 'Caffeine (mg)': '0'}\n",
      "{'Beverage_category': 'Frappuccino庐 Blended Cr猫me', 'Beverage': 'Vanilla Bean (Without Whipped Cream)', 'Beverage_prep': 'Whole Milk', 'Calories': '200', ' Total Fat (g)': '3.5', 'Trans Fat (g) ': '2', 'Saturated Fat (g)': '0.1', ' Sodium (mg)': '10', ' Total Carbohydrates (g) ': '160', 'Cholesterol (mg)': '39', ' Dietary Fibre (g)': '0', ' Sugars (g)': '38', ' Protein (g) ': '3', 'Vitamin A (% DV) ': '6%', 'Vitamin C (% DV)': '0%', ' Calcium (% DV) ': '10%', 'Iron (% DV) ': '0%', 'Caffeine (mg)': '0'}\n",
      "{'Beverage_category': 'Frappuccino庐 Blended Cr猫me', 'Beverage': 'Vanilla Bean (Without Whipped Cream)', 'Beverage_prep': 'Soymilk', 'Calories': '180', ' Total Fat (g)': '1.5', 'Trans Fat (g) ': '0.2', 'Saturated Fat (g)': '0', ' Sodium (mg)': '0', ' Total Carbohydrates (g) ': '160', 'Cholesterol (mg)': '37', ' Dietary Fibre (g)': '1', ' Sugars (g)': '35', ' Protein (g) ': '3', 'Vitamin A (% DV) ': '4%', 'Vitamin C (% DV)': '0%', ' Calcium (% DV) ': '10%', 'Iron (% DV) ': '6%', 'Caffeine (mg)': '0'}\n",
      "{'Beverage_category': 'Frappuccino庐 Blended Cr猫me', 'Beverage': 'Vanilla Bean (Without Whipped Cream)', 'Beverage_prep': 'Grande Nonfat Milk', 'Calories': '240', ' Total Fat (g)': '0.1', 'Trans Fat (g) ': '0.1', 'Saturated Fat (g)': '0', ' Sodium (mg)': '5', ' Total Carbohydrates (g) ': '230', 'Cholesterol (mg)': '56', ' Dietary Fibre (g)': '0', ' Sugars (g)': '55', ' Protein (g) ': '5', 'Vitamin A (% DV) ': '8%', 'Vitamin C (% DV)': '0%', ' Calcium (% DV) ': '15%', 'Iron (% DV) ': '0%', 'Caffeine (mg)': '0'}\n"
     ]
    }
   ],
   "source": [
    "import csv\n",
    "path = \"starbucks.csv\"\n",
    "with open(path, 'r') as f:\n",
    "    # for line in csv.reader(f):\n",
    "    for line in csv.DictReader(f):\n",
    "        print(line)"
   ]
  },
  {
   "cell_type": "code",
   "execution_count": 42,
   "metadata": {},
   "outputs": [
    {
     "data": {
      "text/plain": [
       "'yuewen'"
      ]
     },
     "execution_count": 42,
     "metadata": {},
     "output_type": "execute_result"
    }
   ],
   "source": [
    "s = '{\"first\": \"yuewen\", \"last\": \"yang\"}'\n",
    "import json\n",
    "d = json.loads(s)\n",
    "d['first']\n"
   ]
  },
  {
   "cell_type": "markdown",
   "metadata": {},
   "source": [
    "* how much data do i have\n",
    "    * total storage (bytes)\n",
    "    * num rows, num cols\n",
    "* look at sample of data\n",
    "    * look at first / last n rows\n",
    "    * random sample\n",
    "* examine each column and the data (sample or entire)\n",
    "    * possible values\n",
    "    * type of col\n",
    "    * is there missing data, what is marker for that missing data \n",
    "* if column is numeric\n",
    "    * max, min, range, len\n",
    "    * where is central tendency\n",
    "        * mean, median, mode, percentile / quartile / quantile\n",
    "    * dispersion\n",
    "        * variance, std dev, irq\n",
    "* categorical \n",
    "    * possible vals\n",
    "\n",
    "modules:\n",
    "* statistics: built, quick one off calculations\n",
    "* numpy: vector operations, numerical computing\n",
    "* pandas: tabular data"
   ]
  },
  {
   "cell_type": "code",
   "execution_count": 43,
   "metadata": {},
   "outputs": [],
   "source": [
    "lines = open(path, 'r').readlines()"
   ]
  },
  {
   "cell_type": "code",
   "execution_count": 44,
   "metadata": {},
   "outputs": [
    {
     "data": {
      "text/plain": [
       "243"
      ]
     },
     "execution_count": 44,
     "metadata": {},
     "output_type": "execute_result"
    }
   ],
   "source": [
    "len(lines)"
   ]
  },
  {
   "cell_type": "code",
   "execution_count": 46,
   "metadata": {},
   "outputs": [],
   "source": [
    "nums = [1, 2, 3, 4, 5]"
   ]
  },
  {
   "cell_type": "code",
   "execution_count": 47,
   "metadata": {},
   "outputs": [
    {
     "data": {
      "text/plain": [
       "3.0"
      ]
     },
     "execution_count": 47,
     "metadata": {},
     "output_type": "execute_result"
    }
   ],
   "source": [
    "sum(nums) / len(nums)"
   ]
  },
  {
   "cell_type": "markdown",
   "metadata": {},
   "source": [
    "* counter and/or dictionary, sorted, or max\n",
    "* percentile\n",
    "* 2 quantile - median\n",
    "* 4 quantile - quartile\n",
    "* 100 - percentile"
   ]
  },
  {
   "cell_type": "code",
   "execution_count": 48,
   "metadata": {},
   "outputs": [],
   "source": [
    "def percentile(pct, data):\n",
    "    return sorted(data)[pct * int(len(data))]"
   ]
  },
  {
   "cell_type": "markdown",
   "metadata": {},
   "source": [
    "* variance - average sq distance from the mean, magnify outliers \n",
    "* std deviation - sqrt(variance)\n",
    "* divide number of values (n) (population)\n",
    "* divide n - 1 (sample), want result larger,\n",
    "clustered\n",
    "-----o-o--o-----------o----- \n"
   ]
  }
 ],
 "metadata": {
  "interpreter": {
   "hash": "cd8ac7ed5329ff1f59a8356dfddf06d159cf18414acbfd7b13d1d5cd1cbb5d7d"
  },
  "kernelspec": {
   "display_name": "Python 3.9.7 64-bit ('base': conda)",
   "language": "python",
   "name": "python3"
  },
  "language_info": {
   "codemirror_mode": {
    "name": "ipython",
    "version": 3
   },
   "file_extension": ".py",
   "mimetype": "text/x-python",
   "name": "python",
   "nbconvert_exporter": "python",
   "pygments_lexer": "ipython3",
   "version": "3.9.7"
  },
  "orig_nbformat": 4
 },
 "nbformat": 4,
 "nbformat_minor": 2
}
