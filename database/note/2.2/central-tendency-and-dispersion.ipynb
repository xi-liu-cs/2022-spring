{
 "cells": [
  {
   "cell_type": "markdown",
   "metadata": {},
   "source": [
    "# Central Tendency, Dispersion\n",
    "\n",
    "## Central Tendency\n",
    "\n",
    "Where is the data _centered_?\n",
    "\n",
    "1. mean - sensitive to outliers\n",
    "2. median\n",
    "3. mode / frequency\n",
    "4. quantile\n",
    "\n",
    "\n",
    "### Frequency\n",
    "\n",
    "Frequency - number of times a value appears in the datast\n",
    "\n",
    "Can be done with `dict` or `Counter`"
   ]
  },
  {
   "cell_type": "code",
   "execution_count": 1,
   "metadata": {},
   "outputs": [
    {
     "data": {
      "text/plain": [
       "array([ 9,  3,  6,  9,  7,  7,  7, 10,  4,  4,  2,  8, 11,  6,  3,  8, 10,\n",
       "        6, 10,  8,  7,  5,  3,  9,  7,  6,  7,  6,  5,  9, 10,  8,  5,  6,\n",
       "        4,  8,  6,  7,  6,  9,  4,  8,  4,  2,  8,  2,  8,  4,  8,  8, 10,\n",
       "       11, 11,  5,  8,  9,  6, 11,  6,  5,  3, 12,  7,  6,  3,  4,  7,  6,\n",
       "        2,  6,  6,  3, 12,  6,  7,  5,  6,  4,  4,  9,  5,  3,  4,  7,  3,\n",
       "        3,  6,  7,  7, 12, 10,  5,  6,  8,  9, 10,  6,  5,  7, 10,  6,  7,\n",
       "        8,  8,  5,  8,  5, 10,  5,  8,  5,  7,  4,  9, 11,  7,  8,  4, 10,\n",
       "        7, 11,  9,  7,  6,  4,  9,  7,  8,  8,  6,  6,  3,  7,  8,  7, 11,\n",
       "        4,  4, 10,  3, 10,  7,  7,  7,  9,  7, 10,  3,  3, 10,  9,  4,  5,\n",
       "        9,  8,  4,  7,  5,  6,  8,  9,  8,  5,  4, 11,  2, 11,  4, 11,  7,\n",
       "        8,  8, 10,  3,  5,  7,  7,  2,  8,  7,  7,  6,  8, 12,  9,  9,  9,\n",
       "        5,  6,  9,  9,  9,  8, 10,  8,  7,  2,  5,  6,  7,  9,  4,  7,  4,\n",
       "        4, 12, 11,  8,  7,  5,  3,  6,  8,  7,  5,  6,  5,  6,  2,  3,  7,\n",
       "        3,  6,  3,  6,  7,  9,  7,  9,  5,  7,  6,  6,  9,  7,  5, 11,  6,\n",
       "        6,  4, 10, 10,  8,  6, 10,  5,  8,  7,  7,  6,  7,  8,  6,  4,  5,\n",
       "        7,  9,  6,  7,  8,  5,  6,  5,  6,  3,  6,  8, 11, 11,  7,  2, 11,\n",
       "        8, 11,  3,  8,  9, 12,  3,  7,  7,  9,  8,  9,  5,  9,  4,  8,  5,\n",
       "        9,  3,  8,  2, 11,  5,  5,  7,  3,  7,  6,  4, 11,  7, 10,  6, 12,\n",
       "        6, 10,  7, 10,  6,  4,  9,  9,  9,  7,  5,  7,  8, 10, 10, 10,  9,\n",
       "        7,  5,  6,  4,  3, 10,  9,  8,  4,  9,  8,  4,  6,  3,  5,  5,  8,\n",
       "        8, 11,  7,  5, 12, 10, 11,  5,  5, 10,  8,  8,  8, 11, 10,  8,  9,\n",
       "        3,  4,  9,  5, 10,  6,  3, 10,  7,  6,  8,  8,  7,  5, 10,  2,  7,\n",
       "        5,  9,  8,  4,  6,  6,  6,  5,  5, 10,  5,  6,  5,  9,  5,  6,  6,\n",
       "        7,  6, 10, 10,  9, 12,  9,  8, 12,  9,  6,  8,  5,  5,  4, 11,  4,\n",
       "        9,  8,  3,  3,  6,  9,  5,  5,  8,  6,  4, 12,  5,  8,  8,  9,  8,\n",
       "        9, 10,  7,  9,  7,  5,  6,  6, 11,  5,  4,  7,  4,  7,  8,  7,  3,\n",
       "        9,  8,  8,  9,  8,  6,  8, 11,  9, 11,  4,  9,  6,  4,  9,  3,  9,\n",
       "        7,  3,  7,  6,  7,  9,  8,  9, 10, 10,  9,  2,  6,  9,  4,  7,  7,\n",
       "       11,  2,  9,  9,  5,  7,  7,  7,  5,  4,  5,  6, 10,  9,  7,  5, 12,\n",
       "        8,  6,  4,  5,  7,  5,  8,  7,  4,  6,  7, 11,  9,  5,  7,  6,  7,\n",
       "        8, 10, 10, 10,  8,  8,  5,  5,  7, 12,  7,  3,  8,  8,  6,  7,  9,\n",
       "       10,  6,  5, 10, 11,  4,  8, 10,  8,  6,  5,  3,  8,  9,  6, 10,  7,\n",
       "        4, 11,  4,  8,  4,  9,  7,  8,  9,  9,  8,  4,  6,  4,  6,  5,  3,\n",
       "       10,  9,  8,  6,  7,  3,  2,  3,  9,  2,  8,  9,  5, 11,  4,  4, 12,\n",
       "        5,  5,  8,  9,  3,  3,  8,  4,  9, 10,  3,  9,  6,  6, 10,  3, 10,\n",
       "        9,  7,  5, 10,  9,  7,  9, 11,  5,  8,  9,  8,  4,  7,  2,  4,  6,\n",
       "        3,  6,  9,  8,  7,  4,  9,  5,  7,  8, 11,  7, 10,  8, 11,  4,  7,\n",
       "        3,  7, 11,  6,  9,  5, 11,  8, 11,  8,  6,  3,  6,  8,  7,  4, 10,\n",
       "        2,  2,  6, 10,  7, 10,  8, 10, 12,  6, 10,  6,  5,  6, 11,  6,  9,\n",
       "        6,  5,  8,  6,  8,  8, 11, 10, 10,  8,  7,  9,  6,  9,  6,  7,  4,\n",
       "        9,  7,  5,  5,  4,  7,  8,  6,  7,  2,  5,  3,  5,  9,  7,  5,  7,\n",
       "        8, 10,  9, 11, 11,  8,  6,  5,  2, 10, 10,  6,  8,  6,  9,  8,  5,\n",
       "       11,  6,  7,  6,  6,  2, 10,  8,  7, 10,  3,  9,  7,  3,  7,  6,  7,\n",
       "        8,  6,  7, 11,  8,  6,  8,  7, 12,  9,  6,  3,  6,  4,  8,  4,  8,\n",
       "       11,  8,  7,  6,  6,  6, 10,  9,  5,  8,  5,  7,  6,  6, 11,  6,  7,\n",
       "        5,  7, 10,  9,  4,  7,  5,  8,  4,  5,  6,  4,  8,  7, 10,  5,  8,\n",
       "        6, 11,  5,  2,  8, 12,  6,  5,  8,  6,  8,  7, 11,  8,  5,  3, 10,\n",
       "        5,  7,  6,  7,  5,  4,  2,  6,  5,  4,  5,  8,  4,  5,  9,  7,  7,\n",
       "        7,  9, 10,  3,  7,  2,  8,  5,  6,  7,  6,  5, 11,  7,  7,  7, 10,\n",
       "       10, 11,  9, 12, 10,  7, 10,  6,  6,  3,  9,  3,  8,  8,  7,  3,  8,\n",
       "        5,  9,  7,  2,  4,  8,  6,  7, 11,  3,  2,  4,  2,  4,  8, 10,  6,\n",
       "        4,  6,  5,  8,  6, 12, 10,  7,  5,  4,  7,  5, 10, 12,  2,  8,  2,\n",
       "        3, 12, 11,  5, 10, 11,  7,  8,  3,  8,  3, 10,  8,  8,  8,  6,  4,\n",
       "        8, 10,  5,  9,  5,  5, 10,  2,  6,  5,  2,  7, 10,  8,  8, 11, 12,\n",
       "        7,  9,  5, 10,  6,  8,  7,  7, 10,  7,  8,  9,  2,  3,  4,  7,  4,\n",
       "       12,  7,  8,  7,  9, 10,  8,  6, 11,  6,  2,  7,  4,  6,  9,  4,  6,\n",
       "        7,  7,  9,  9,  6,  9, 12,  6,  6,  6,  4,  6, 10,  8,  5,  8,  6,\n",
       "       12,  3,  6,  3,  2, 10,  8,  6, 10, 11,  7, 10, 11,  8,  6,  7,  5,\n",
       "        6,  4,  7,  8,  6,  6,  7,  4,  7,  6,  4,  4,  8,  9])"
      ]
     },
     "execution_count": 1,
     "metadata": {},
     "output_type": "execute_result"
    }
   ],
   "source": [
    "import numpy as np\n",
    "\n",
    "# set up some data...\n",
    "\n",
    "# kind of like rolling two six-sided dice\n",
    "rolls = np.random.randint(1, 7, 1000) + np.random.randint(1, 7, 1000)\n",
    "rolls"
   ]
  },
  {
   "cell_type": "markdown",
   "metadata": {},
   "source": [
    "### Counting with a Dictionary"
   ]
  },
  {
   "cell_type": "code",
   "execution_count": 113,
   "metadata": {},
   "outputs": [
    {
     "data": {
      "text/plain": [
       "{2: 28,\n",
       " 7: 172,\n",
       " 8: 116,\n",
       " 6: 139,\n",
       " 3: 52,\n",
       " 5: 108,\n",
       " 10: 99,\n",
       " 11: 55,\n",
       " 4: 86,\n",
       " 9: 114,\n",
       " 12: 31}"
      ]
     },
     "execution_count": 113,
     "metadata": {},
     "output_type": "execute_result"
    }
   ],
   "source": [
    "counts = {}\n",
    "for n in rolls:\n",
    "   counts[n] = counts.get(n, 0)  + 1\n",
    "   \n",
    "counts"
   ]
  },
  {
   "cell_type": "code",
   "execution_count": 114,
   "metadata": {},
   "outputs": [
    {
     "name": "stdout",
     "output_type": "stream",
     "text": [
      "{2: 28, 7: 172, 8: 116, 6: 139, 3: 52, 5: 108, 10: 99, 11: 55, 4: 86, 9: 114, 12: 31}\n",
      "{2: 28, 7: 172, 8: 116, 6: 139, 3: 52, 5: 108, 10: 99, 11: 55, 4: 86, 9: 114, 12: 31}\n",
      "{2: 28, 7: 172, 8: 116, 6: 139, 3: 52, 5: 108, 10: 99, 11: 55, 4: 86, 9: 114, 12: 31}\n"
     ]
    }
   ],
   "source": [
    "# also ... with try/except, in, update\n",
    "counts = {}\n",
    "for val in rolls:\n",
    "    try:\n",
    "        counts[val] += 1\n",
    "    except:\n",
    "        counts[val] = 1\n",
    "print(counts)        \n",
    "\n",
    "counts = {}\n",
    "for val in rolls:\n",
    "    if val in counts:\n",
    "        counts[val] += 1\n",
    "    else:\n",
    "        counts[val] = 1\n",
    "print(counts)        \n",
    "        \n",
    "counts = {}\n",
    "for val in rolls:\n",
    "    counts.update({val: counts.get(val, 0) + 1})\n",
    "print(counts)        "
   ]
  },
  {
   "cell_type": "markdown",
   "metadata": {},
   "source": [
    "### Counting with Counter\n",
    "\n",
    "Or, u no... you can just use a `Counter`. It's a sublcass of dictionary; you can pass it a list, and it'll count the items for you. Keys are _things_ you're counting, values are the actual counts."
   ]
  },
  {
   "cell_type": "code",
   "execution_count": 115,
   "metadata": {},
   "outputs": [
    {
     "data": {
      "text/plain": [
       "Counter({2: 28,\n",
       "         7: 172,\n",
       "         8: 116,\n",
       "         6: 139,\n",
       "         3: 52,\n",
       "         5: 108,\n",
       "         10: 99,\n",
       "         11: 55,\n",
       "         4: 86,\n",
       "         9: 114,\n",
       "         12: 31})"
      ]
     },
     "execution_count": 115,
     "metadata": {},
     "output_type": "execute_result"
    }
   ],
   "source": [
    "from collections import Counter\n",
    "c = Counter(rolls)\n",
    "c"
   ]
  },
  {
   "cell_type": "code",
   "execution_count": 116,
   "metadata": {},
   "outputs": [
    {
     "data": {
      "text/plain": [
       "[(7, 172),\n",
       " (6, 139),\n",
       " (8, 116),\n",
       " (9, 114),\n",
       " (5, 108),\n",
       " (10, 99),\n",
       " (4, 86),\n",
       " (11, 55),\n",
       " (3, 52),\n",
       " (12, 31),\n",
       " (2, 28)]"
      ]
     },
     "execution_count": 116,
     "metadata": {},
     "output_type": "execute_result"
    }
   ],
   "source": [
    "c.most_common()"
   ]
  },
  {
   "cell_type": "code",
   "execution_count": 117,
   "metadata": {},
   "outputs": [
    {
     "data": {
      "text/plain": [
       "[(7, 172), (6, 139)]"
      ]
     },
     "execution_count": 117,
     "metadata": {},
     "output_type": "execute_result"
    }
   ],
   "source": [
    "c.most_common(2)"
   ]
  },
  {
   "cell_type": "markdown",
   "metadata": {},
   "source": [
    "### Mean, Median, and Mode\n",
    "\n",
    "* mean: _average_ \n",
    "* median: \"middle\" value (half of the values fall under this)\n",
    "* mode: most frequently occurring value"
   ]
  },
  {
   "cell_type": "code",
   "execution_count": 118,
   "metadata": {},
   "outputs": [],
   "source": [
    "mean = lambda data: sum(data) / len(data)"
   ]
  },
  {
   "cell_type": "code",
   "execution_count": 119,
   "metadata": {},
   "outputs": [],
   "source": [
    "def median(data):\n",
    "    d = sorted(data)\n",
    "    i = len(d) // 2\n",
    "    # if even, mean of two middle values\n",
    "    return d[i] if len(d) % 2 == 1 else mean(d[i-1: i+1])"
   ]
  },
  {
   "cell_type": "code",
   "execution_count": 120,
   "metadata": {},
   "outputs": [
    {
     "name": "stdout",
     "output_type": "stream",
     "text": [
      "4.0\n",
      "5\n"
     ]
    }
   ],
   "source": [
    "print(median([1, 2, 3, 5, 6, 7]))\n",
    "print(median([2, 3, 5, 6, 7]))"
   ]
  },
  {
   "cell_type": "code",
   "execution_count": 121,
   "metadata": {},
   "outputs": [],
   "source": [
    "mode = lambda data: Counter(data).most_common(1)[0][0]\n",
    "\n",
    "# of course, we can do with dictionaries as well\n",
    "def mode(data):\n",
    "    counts = {}\n",
    "    for val in rolls:\n",
    "        if val in counts:\n",
    "            counts[val] += 1\n",
    "        else:\n",
    "            counts[val] = 1\n",
    "    # y, this is ridiculous, sry!\n",
    "    return sorted(counts.items(), key=lambda t: t[1])[-1][0] if len(counts) > 0 else None"
   ]
  },
  {
   "cell_type": "code",
   "execution_count": 122,
   "metadata": {},
   "outputs": [
    {
     "data": {
      "text/plain": [
       "7"
      ]
     },
     "execution_count": 122,
     "metadata": {},
     "output_type": "execute_result"
    }
   ],
   "source": [
    "mode(rolls)"
   ]
  },
  {
   "cell_type": "code",
   "execution_count": 123,
   "metadata": {},
   "outputs": [
    {
     "data": {
      "text/plain": [
       "7.0"
      ]
     },
     "execution_count": 123,
     "metadata": {},
     "output_type": "execute_result"
    }
   ],
   "source": [
    "median(rolls)"
   ]
  },
  {
   "cell_type": "code",
   "execution_count": 124,
   "metadata": {},
   "outputs": [
    {
     "data": {
      "text/plain": [
       "7.055"
      ]
     },
     "execution_count": 124,
     "metadata": {},
     "output_type": "execute_result"
    }
   ],
   "source": [
    "mean(rolls)"
   ]
  },
  {
   "cell_type": "code",
   "execution_count": 6,
   "metadata": {},
   "outputs": [
    {
     "data": {
      "text/plain": [
       "Text(0, 0.5, 'Roll Result: 1000 rolls')"
      ]
     },
     "execution_count": 6,
     "metadata": {},
     "output_type": "execute_result"
    },
    {
     "data": {
      "image/png": "[encoded data removed]",
      "text/plain": [
       "<Figure size 432x288 with 1 Axes>"
      ]
     },
     "metadata": {
      "needs_background": "light"
     },
     "output_type": "display_data"
    }
   ],
   "source": [
    "# bonus! what does this data set of rolls actually _look_ like???\n",
    "import numpy as np\n",
    "from matplotlib import pyplot as plt\n",
    "plt.hist(rolls, bins=(max(rolls) - min(rolls)+1))\n",
    "plt.ylabel('Roll Result: 1000 rolls')"
   ]
  },
  {
   "cell_type": "code",
   "execution_count": 8,
   "metadata": {},
   "outputs": [
    {
     "data": {
      "text/plain": [
       "Text(0, 0.5, 'Roll Result: 100,000 rolls')"
      ]
     },
     "execution_count": 8,
     "metadata": {},
     "output_type": "execute_result"
    },
    {
     "data": {
      "image/png": "[encoded data removed]",
      "text/plain": [
       "<Figure size 432x288 with 1 Axes>"
      ]
     },
     "metadata": {
      "needs_background": "light"
     },
     "output_type": "display_data"
    }
   ],
   "source": [
    "rolls2 = np.random.randint(1, 7, 100000) + np.random.randint(1, 7, 100000)\n",
    "plt.hist(rolls2, bins=(max(rolls2) - min(rolls2)+1))\n",
    "plt.ylabel('Roll Result: 100,000 rolls')"
   ]
  },
  {
   "cell_type": "code",
   "execution_count": 127,
   "metadata": {},
   "outputs": [
    {
     "data": {
      "text/plain": [
       "<AxesSubplot:>"
      ]
     },
     "execution_count": 127,
     "metadata": {},
     "output_type": "execute_result"
    },
    {
     "data": {
      "image/png": "[encoded data removed]",
      "text/plain": [
       "<Figure size 432x288 with 1 Axes>"
      ]
     },
     "metadata": {
      "needs_background": "light"
     },
     "output_type": "display_data"
    }
   ],
   "source": [
    "import pandas as pd\n",
    "starbucks=pd.read_csv('starbucks_drinkMenu_expanded.csv')\n",
    "starbucks.Calories.hist()"
   ]
  },
  {
   "cell_type": "code",
   "execution_count": 128,
   "metadata": {},
   "outputs": [
    {
     "data": {
      "text/plain": [
       "count    242.000000\n",
       "mean     193.871901\n",
       "std      102.863303\n",
       "min        0.000000\n",
       "25%      120.000000\n",
       "50%      185.000000\n",
       "75%      260.000000\n",
       "max      510.000000\n",
       "Name: Calories, dtype: float64"
      ]
     },
     "execution_count": 128,
     "metadata": {},
     "output_type": "execute_result"
    }
   ],
   "source": [
    "starbucks.Calories.describe()"
   ]
  },
  {
   "cell_type": "markdown",
   "metadata": {},
   "source": [
    "### Percentile / 100-Quantile\n",
    "\n",
    "Value under which some given percent of ordered data falls. (There are _other_ quantiles, like percentiles, tertiles, quartiles, etc. ...)"
   ]
  },
  {
   "cell_type": "code",
   "execution_count": 129,
   "metadata": {},
   "outputs": [],
   "source": [
    "quantile = lambda p, data: sorted(data)[int(p * len(data))]\n",
    "\n",
    "# uh... btw, we're using our book definition here which truncates the index\n",
    "# ...but there are other methods of finding the index / actual value... such \n",
    "# as \"nearest rank\" (round up) and some sort of interpolation (which means\n",
    "# value won't actually be in original set!)"
   ]
  },
  {
   "cell_type": "code",
   "execution_count": 130,
   "metadata": {},
   "outputs": [
    {
     "data": {
      "text/plain": [
       "[1, 2, 3, 5, 6, 8, 12, 12, 20, 22]"
      ]
     },
     "execution_count": 130,
     "metadata": {},
     "output_type": "execute_result"
    }
   ],
   "source": [
    "nums = [22, 12, 1, 5, 6, 2, 3, 20, 12, 8]\n",
    "sorted(nums)"
   ]
  },
  {
   "cell_type": "code",
   "execution_count": 131,
   "metadata": {},
   "outputs": [
    {
     "data": {
      "text/plain": [
       "7.0"
      ]
     },
     "execution_count": 131,
     "metadata": {},
     "output_type": "execute_result"
    }
   ],
   "source": [
    "median(nums)"
   ]
  },
  {
   "cell_type": "code",
   "execution_count": 132,
   "metadata": {},
   "outputs": [
    {
     "data": {
      "text/plain": [
       "8"
      ]
     },
     "execution_count": 132,
     "metadata": {},
     "output_type": "execute_result"
    }
   ],
   "source": [
    "# typically the 50th percentile is the median, but we truncated so 🤷\n",
    "quantile(0.50, nums)"
   ]
  },
  {
   "cell_type": "code",
   "execution_count": 133,
   "metadata": {},
   "outputs": [
    {
     "data": {
      "text/plain": [
       "7.0"
      ]
     },
     "execution_count": 133,
     "metadata": {},
     "output_type": "execute_result"
    }
   ],
   "source": [
    "# numpy's percentile implementation agrees with our median calculation tho!\n",
    "np.percentile(nums, 50)"
   ]
  },
  {
   "cell_type": "markdown",
   "metadata": {},
   "source": [
    "## Dispersion\n",
    "\n",
    "\n",
    "How _spread apart_ is the data?\n",
    "\n",
    "1. variance\n",
    "2. standard deviation - sensitive to outliers\n",
    "    * mean absolute deviation also possible\n",
    "3. middle 50% (interquartile range)\n",
    "\n",
    "\n",
    "### range\n",
    "* range of values... max and min again\n",
    "* range is 0 if max and min are the same (no spread / data not dispersed... all points are the same!)\n",
    "* larger range, obvs means min and max are far apart\n",
    "\n",
    "... but that only describes max and min, what about all the other values?\n",
    "\n",
    "### population variance \n",
    "\n",
    "* variance - describes variability or spread of distribution\n",
    "* kind of like calculating difference from mean for all points, and getting the average of that\n",
    "* but! instead of just the difference, we square the difference\n",
    "* how to calculate variance:\n",
    "  1. it's the average of the squared differences from the Mean\n",
    "  2. calculate mean\n",
    "  3. for every data point... subtract the mean and square the result .\n",
    "  4. average of all differences (divide by number of data points)\n",
    "  \n"
   ]
  },
  {
   "cell_type": "markdown",
   "metadata": {},
   "source": [
    "![variance formula](variance.svg \"Variance Formula\")"
   ]
  },
  {
   "cell_type": "code",
   "execution_count": 134,
   "metadata": {},
   "outputs": [],
   "source": [
    "# assuming population variance (most libs will allow you to change this)\n",
    "def variance(data):\n",
    "    # for every number, subtract the mean, sq the result\n",
    "    mu = mean(data)\n",
    "    # sum of sq differences\n",
    "    return sum((x - mu) ** 2 for x in data) / len(data)"
   ]
  },
  {
   "cell_type": "code",
   "execution_count": 135,
   "metadata": {},
   "outputs": [
    {
     "data": {
      "text/plain": [
       "21704.0"
      ]
     },
     "execution_count": 135,
     "metadata": {},
     "output_type": "execute_result"
    }
   ],
   "source": [
    "data = [600, 470, 170, 430, 300]\n",
    "variance(data)"
   ]
  },
  {
   "cell_type": "code",
   "execution_count": 136,
   "metadata": {},
   "outputs": [
    {
     "data": {
      "text/plain": [
       "5.9919749999999885"
      ]
     },
     "execution_count": 136,
     "metadata": {},
     "output_type": "execute_result"
    }
   ],
   "source": [
    "variance(rolls)"
   ]
  },
  {
   "cell_type": "code",
   "execution_count": 137,
   "metadata": {},
   "outputs": [
    {
     "data": {
      "text/plain": [
       "5.991974999999998"
      ]
     },
     "execution_count": 137,
     "metadata": {},
     "output_type": "execute_result"
    }
   ],
   "source": [
    "np.var(rolls)"
   ]
  },
  {
   "cell_type": "markdown",
   "metadata": {},
   "source": [
    "### population standard deviation  \n",
    "\n",
    "* to get back to original units (rather than squares), use standard deviation.\n",
    "    * calculate: square root of variance\n",
    "    * can help describe how far away a value is from _normal_\n"
   ]
  },
  {
   "cell_type": "code",
   "execution_count": 138,
   "metadata": {},
   "outputs": [],
   "source": [
    "def standard_deviation(data):\n",
    "    return variance(data) ** 0.5"
   ]
  },
  {
   "cell_type": "code",
   "execution_count": 139,
   "metadata": {},
   "outputs": [
    {
     "data": {
      "text/plain": [
       "147.32277488562318"
      ]
     },
     "execution_count": 139,
     "metadata": {},
     "output_type": "execute_result"
    }
   ],
   "source": [
    "standard_deviation(data)"
   ]
  },
  {
   "cell_type": "code",
   "execution_count": 140,
   "metadata": {},
   "outputs": [
    {
     "data": {
      "text/plain": [
       "147.32277488562318"
      ]
     },
     "execution_count": 140,
     "metadata": {},
     "output_type": "execute_result"
    }
   ],
   "source": [
    "np.std(data)"
   ]
  },
  {
   "cell_type": "markdown",
   "metadata": {},
   "source": [
    "### variance and standard deviation\n",
    "\n",
    "* y square???\n",
    "  * mix of negative and positive numbers will \"cancel\" out (we want to compare distance; remove sign)\n",
    "  * magnifies extremes, tho (good or bad?)\n",
    "  * why not absolute value? yes, this is also a measure of dispersion\n",
    "  * http://www.leeds.ac.uk/educol/documents/00003759.htm\n",
    "  * https://stats.stackexchange.com/questions/118/why-square-the-difference-instead-of-taking-the-absolute-value-in-standard-devia\n",
    "  * historically, std dev has been used... also more consistent when calculating from repeated sampling of population\n",
    "* population vs sample\n",
    "  * for population, use n\n",
    "  * sample... n - 1 rather than n so that we can have larger values (using the actual number of data points in the sample can result in a lower value)\n",
    "    * using n for the sample ends up as an understimate (since mean is calculated from sample, rather than population... if sample clusters together, then variance is smol / understimate)\n",
    "    * how to make larger? divide by smaller number, n - 1\n",
    "\n",
    "### Interquartile Range / Midspread\n",
    "\n",
    "Variance and standard deviation sensitive to outliers \n",
    "\n",
    "Another measure of dispersion that is not as sensitive to outliers is interquartile range... (also nknown as middle 50%, midspread)\n",
    "\n",
    "* use quantile to calculate val at 0.75\n",
    "* use quantile to calculate val at 0.25\n"
   ]
  },
  {
   "cell_type": "code",
   "execution_count": 141,
   "metadata": {},
   "outputs": [],
   "source": [
    "def iqr(data):\n",
    "    return quantile(0.75, data) - quantile(0.25, data)"
   ]
  },
  {
   "cell_type": "code",
   "execution_count": 142,
   "metadata": {},
   "outputs": [],
   "source": [
    "rolls = np.random.randint(1, 7, 1000)"
   ]
  },
  {
   "cell_type": "code",
   "execution_count": 143,
   "metadata": {},
   "outputs": [
    {
     "data": {
      "text/plain": [
       "3.451"
      ]
     },
     "execution_count": 143,
     "metadata": {},
     "output_type": "execute_result"
    }
   ],
   "source": [
    "mean(rolls)"
   ]
  },
  {
   "cell_type": "code",
   "execution_count": 144,
   "metadata": {},
   "outputs": [
    {
     "data": {
      "text/plain": [
       "1"
      ]
     },
     "execution_count": 144,
     "metadata": {},
     "output_type": "execute_result"
    }
   ],
   "source": [
    "mode(rolls)"
   ]
  },
  {
   "cell_type": "code",
   "execution_count": 145,
   "metadata": {},
   "outputs": [
    {
     "data": {
      "text/plain": [
       "2.9775990000000117"
      ]
     },
     "execution_count": 145,
     "metadata": {},
     "output_type": "execute_result"
    }
   ],
   "source": [
    "variance(rolls)"
   ]
  },
  {
   "cell_type": "code",
   "execution_count": 146,
   "metadata": {},
   "outputs": [
    {
     "data": {
      "text/plain": [
       "1.7255720790508902"
      ]
     },
     "execution_count": 146,
     "metadata": {},
     "output_type": "execute_result"
    }
   ],
   "source": [
    "standard_deviation(rolls)"
   ]
  },
  {
   "cell_type": "code",
   "execution_count": 149,
   "metadata": {},
   "outputs": [
    {
     "data": {
      "text/plain": [
       "5"
      ]
     },
     "execution_count": 149,
     "metadata": {},
     "output_type": "execute_result"
    }
   ],
   "source": [
    "quantile(0.75,rolls)"
   ]
  },
  {
   "cell_type": "code",
   "execution_count": 150,
   "metadata": {},
   "outputs": [
    {
     "data": {
      "text/plain": [
       "2"
      ]
     },
     "execution_count": 150,
     "metadata": {},
     "output_type": "execute_result"
    }
   ],
   "source": [
    "quantile(0.25, rolls)"
   ]
  },
  {
   "cell_type": "code",
   "execution_count": 151,
   "metadata": {},
   "outputs": [
    {
     "data": {
      "text/plain": [
       "3"
      ]
     },
     "execution_count": 151,
     "metadata": {},
     "output_type": "execute_result"
    }
   ],
   "source": [
    "iqr(rolls)"
   ]
  },
  {
   "cell_type": "code",
   "execution_count": 152,
   "metadata": {},
   "outputs": [
    {
     "data": {
      "text/plain": [
       "3.0"
      ]
     },
     "execution_count": 152,
     "metadata": {},
     "output_type": "execute_result"
    }
   ],
   "source": [
    "median(rolls)"
   ]
  },
  {
   "cell_type": "code",
   "execution_count": 153,
   "metadata": {},
   "outputs": [
    {
     "data": {
      "text/plain": [
       "3.0"
      ]
     },
     "execution_count": 153,
     "metadata": {},
     "output_type": "execute_result"
    }
   ],
   "source": [
    "np.median(rolls)"
   ]
  }
 ],
 "metadata": {
  "kernelspec": {
   "display_name": "Python 3",
   "language": "python",
   "name": "python3"
  },
  "language_info": {
   "codemirror_mode": {
    "name": "ipython",
    "version": 3
   },
   "file_extension": ".py",
   "mimetype": "text/x-python",
   "name": "python",
   "nbconvert_exporter": "python",
   "pygments_lexer": "ipython3",
   "version": "3.9.7"
  }
 },
 "nbformat": 4,
 "nbformat_minor": 4
}
