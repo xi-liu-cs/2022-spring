{
 "cells": [
  {
   "cell_type": "code",
   "execution_count": 4,
   "metadata": {},
   "outputs": [
    {
     "data": {
      "text/plain": [
       "[3, 4, -5]"
      ]
     },
     "execution_count": 4,
     "metadata": {},
     "output_type": "execute_result"
    }
   ],
   "source": [
    "nums = [-5, 4, 3]\n",
    "sorted(nums, key = abs) "
   ]
  },
  {
   "cell_type": "code",
   "execution_count": 3,
   "metadata": {},
   "outputs": [
    {
     "name": "stdout",
     "output_type": "stream",
     "text": [
      "{'a': 1, 'b': 2}\n"
     ]
    }
   ],
   "source": [
    "def g(**kwargs): \n",
    "    print(kwargs)\n",
    "g(a = 1, b = 2)"
   ]
  },
  {
   "cell_type": "code",
   "execution_count": 8,
   "metadata": {},
   "outputs": [
    {
     "name": "stdout",
     "output_type": "stream",
     "text": [
      "['xi']\n",
      "['xi', 'liu']\n"
     ]
    }
   ],
   "source": [
    "def f(item, li = []):\n",
    "    li.append(item)\n",
    "    return li\n",
    "print(f(\"xi\"))\n",
    "print(f(\"liu\")) # function declaration is evaluated only once"
   ]
  },
  {
   "cell_type": "code",
   "execution_count": 3,
   "metadata": {},
   "outputs": [
    {
     "data": {
      "text/plain": [
       "4"
      ]
     },
     "execution_count": 3,
     "metadata": {},
     "output_type": "execute_result"
    }
   ],
   "source": [
    "for i in range(5):\n",
    "    pass\n",
    "i # in python, only scope is function, variable leak out of for loop"
   ]
  },
  {
   "cell_type": "code",
   "execution_count": 4,
   "metadata": {},
   "outputs": [
    {
     "name": "stdout",
     "output_type": "stream",
     "text": [
      "my_list = [1, 3]\n",
      "cannot modify a tuple\n",
      "my_tuple = (1, 2)\n"
     ]
    }
   ],
   "source": [
    "my_list = [1, 2]\n",
    "my_tuple = (1, 2)\n",
    "other_tuple = 3, 4\n",
    "my_list[1] = 3      \n",
    "print(\"my_list =\", my_list)\n",
    "\n",
    "try:\n",
    "    my_tuple[1] = 3\n",
    "except TypeError:\n",
    "    print(\"cannot modify a tuple\")\n",
    "print(\"my_tuple =\", my_tuple)"
   ]
  },
  {
   "cell_type": "code",
   "execution_count": 11,
   "metadata": {},
   "outputs": [
    {
     "name": "stdout",
     "output_type": "stream",
     "text": [
      "{}\n",
      "20\n"
     ]
    },
    {
     "data": {
      "text/plain": [
       "'no key'"
      ]
     },
     "execution_count": 11,
     "metadata": {},
     "output_type": "execute_result"
    }
   ],
   "source": [
    "empty_dict = {}                     # pythonic\n",
    "print(empty_dict)\n",
    "empty_dict2 = dict()                # less pythonic\n",
    "ages = {\"yue\": 20, \"xi\": 19}        # dictionary literal\n",
    "print(ages[\"yue\"])\n",
    "ages.get(\"x\", \"no key\")"
   ]
  },
  {
   "cell_type": "code",
   "execution_count": 17,
   "metadata": {},
   "outputs": [],
   "source": [
    "import re\n",
    "\n",
    "re_examples = [                            #  all of these are True, because\n",
    "    not re.match(\"a\", \"cat\"),              #  'cat' doesn't start with 'a'\n",
    "    re.search(\"a\", \"cat\"),                 #  'cat' has an 'a' in it\n",
    "    not re.search(\"c\", \"dog\"),             #  'dog' doesn't have a 'c' in it.\n",
    "    3 == len(re.split(\"[ab]\", \"carbs\")),   #  split on a or b to ['c','r','s'].\n",
    "    \"R-D-\" == re.sub(\"[0-9]\", \"-\", \"R2D2\"),#  replace digits with dashes.\n",
    "    # 1 == 2\n",
    "    ]\n",
    "\n",
    "assert all(re_examples), \"all the regex examples should be True\""
   ]
  },
  {
   "cell_type": "code",
   "execution_count": 1,
   "metadata": {},
   "outputs": [
    {
     "name": "stdout",
     "output_type": "stream",
     "text": [
      "('a', 'b', 'c')\n",
      "(1, 2, 3)\n",
      "('a', 'b', 'c')\n",
      "(1, 2, 3)\n"
     ]
    }
   ],
   "source": [
    "pairs = [('a', 1), ('b', 2), ('c', 3)]\n",
    "letters, numbers = zip(*pairs) # asterisk (*) performs argument unpacking\n",
    "names, ages = zip(('a', 1), ('b', 2), ('c', 3)) # equivalent\n",
    "print(letters)\n",
    "print(numbers)\n",
    "print(names)\n",
    "print(ages)"
   ]
  },
  {
   "cell_type": "code",
   "execution_count": 4,
   "metadata": {},
   "outputs": [
    {
     "name": "stdout",
     "output_type": "stream",
     "text": [
      "cannot add an int to a string\n"
     ]
    }
   ],
   "source": [
    "def add(a, b):\n",
    "    return a + b\n",
    "\n",
    "assert add(1, 2) == 3,                    \"+ is valid for numbers\"\n",
    "assert add([1, 2], [3]) == [1, 2, 3],     \"+ is valid for lists\"\n",
    "assert add(\"hi \", \"there\") == \"hi there\", \"+ is valid for strings\"\n",
    "\n",
    "try:\n",
    "    add(10, \"five\")\n",
    "except TypeError:\n",
    "    print(\"cannot add an int to a string\")"
   ]
  },
  {
   "cell_type": "code",
   "execution_count": 19,
   "metadata": {},
   "outputs": [
    {
     "name": "stdout",
     "output_type": "stream",
     "text": [
      "(4 + 1) * 2 = 10\n",
      "as defined, g only takes one argument\n"
     ]
    }
   ],
   "source": [
    "def doubler(f):\n",
    "    # Here we define a new function that keeps a reference to f\n",
    "    def g(x):\n",
    "        return 2 * f(x)\n",
    "\n",
    "    # And return that new function\n",
    "    return g\n",
    "\n",
    "def f1(x):\n",
    "    return x + 1\n",
    "def f2(x, y):\n",
    "    return x + y\n",
    "\n",
    "g = doubler(f1)\n",
    "x = 4\n",
    "print(f\"({x} + 1) * 2 = {g(x)}\")\n",
    "\n",
    "g = doubler(f2)\n",
    "try:\n",
    "    g(1, 2)\n",
    "except TypeError:\n",
    "    print(\"as defined, g only takes one argument\")\n",
    "\n"
   ]
  },
  {
   "cell_type": "code",
   "execution_count": 22,
   "metadata": {},
   "outputs": [
    {
     "name": "stdout",
     "output_type": "stream",
     "text": [
      "(3 + 4) * 2 = 14\n"
     ]
    }
   ],
   "source": [
    "def doubler(f):\n",
    "    def g(*args, **kwargs):\n",
    "        \"\"\"whatever arguments g is supplied, pass them through to f\"\"\"\n",
    "        return 2 * f(*args, **kwargs)\n",
    "    return g\n",
    "\n",
    "def f(x, y):\n",
    "    return x + y\n",
    "\n",
    "g = doubler(f)\n",
    "x = 3\n",
    "y = 4\n",
    "print(f\"({x} + {y}) * 2 = {g(x, y)}\")"
   ]
  },
  {
   "cell_type": "code",
   "execution_count": 48,
   "metadata": {},
   "outputs": [
    {
     "name": "stdout",
     "output_type": "stream",
     "text": [
      "[1, 2] + {'z': 3} = 6\n"
     ]
    }
   ],
   "source": [
    "# args is a tuple of its unnamed arguments and kwargs is a dict of its named arguments\n",
    "def sum(x, y, z):\n",
    "    return x + y + z\n",
    "x_y_list = [1, 2]\n",
    "z_dict = {'z' : 3}\n",
    "print(f\"{x_y_list} + {z_dict} = {sum(*x_y_list, **z_dict)}\")"
   ]
  },
  {
   "cell_type": "code",
   "execution_count": 49,
   "metadata": {},
   "outputs": [
    {
     "name": "stdout",
     "output_type": "stream",
     "text": [
      "formal arg: 1\n",
      "another keyword arg: myarg2: two\n",
      "another keyword arg: myarg3: 3\n"
     ]
    }
   ],
   "source": [
    "def test_var_kwargs(farg, **kwargs):\n",
    "    print(\"formal arg:\", farg)\n",
    "    for key in kwargs:\n",
    "        print(\"another keyword arg: %s: %s\" % (key, kwargs[key]))\n",
    "\n",
    "test_var_kwargs(farg = 1, myarg2 = \"two\", myarg3 = 3)"
   ]
  },
  {
   "cell_type": "code",
   "execution_count": 53,
   "metadata": {},
   "outputs": [
    {
     "name": "stdout",
     "output_type": "stream",
     "text": [
      "['lychee', 'apple', 'orange']\n",
      "orange\n",
      "or\n"
     ]
    }
   ],
   "source": [
    "fruits = ['rambutan', 'jackfruit', 'lychee', 'apple', 'orange']\n",
    "print(fruits[-3:]) # sublist in fruits\n",
    "print(fruits[-3:][-1]) # string in sublist\n",
    "print(fruits[-3:][-1][:2]) # substring in string\n"
   ]
  },
  {
   "cell_type": "code",
   "execution_count": 59,
   "metadata": {},
   "outputs": [
    {
     "data": {
      "text/plain": [
       "'yadda yadda yadda'"
      ]
     },
     "execution_count": 59,
     "metadata": {},
     "output_type": "execute_result"
    }
   ],
   "source": [
    "# The rstrip() method returns a copy of the string by removing the trailing characters specified as argument\n",
    "(\"yadda \" * 3).rstrip()"
   ]
  },
  {
   "cell_type": "code",
   "execution_count": 67,
   "metadata": {},
   "outputs": [
    {
     "name": "stdout",
     "output_type": "stream",
     "text": [
      "1\n",
      "'set' object is not subscriptable\n"
     ]
    }
   ],
   "source": [
    "a = [1, 2, 3]\n",
    "print(a[0])\n",
    "b = {1, 2, 3}\n",
    "try:\n",
    "    print(b[0]) \n",
    "except TypeError:\n",
    "    print(\"'set' object is not subscriptable\")\n"
   ]
  },
  {
   "cell_type": "code",
   "execution_count": 27,
   "metadata": {},
   "outputs": [
    {
     "name": "stdout",
     "output_type": "stream",
     "text": [
      "'str' object does not support item assignment\n"
     ]
    }
   ],
   "source": [
    "s = \"yuewen\"\n",
    "try:\n",
    "    s[0] = 'x'\n",
    "except TypeError:\n",
    "    print(\"'str' object does not support item assignment\")\n"
   ]
  },
  {
   "cell_type": "code",
   "execution_count": 73,
   "metadata": {},
   "outputs": [
    {
     "name": "stdout",
     "output_type": "stream",
     "text": [
      "i = 0\n",
      "i = 1\n",
      "1\n",
      "i = 0\n",
      "i = 1\n",
      "i = 2\n",
      "i = 3\n",
      "3\n"
     ]
    }
   ],
   "source": [
    "for i in range(0, 2):\n",
    "    print(f\"i = {i}\")\n",
    "print(i)\n",
    "for i in range(0, 4):\n",
    "    print(f\"i = {i}\")\n",
    "print(i)"
   ]
  },
  {
   "cell_type": "code",
   "execution_count": 82,
   "metadata": {},
   "outputs": [
    {
     "name": "stdout",
     "output_type": "stream",
     "text": [
      "['y', 'u', 'e', 'w', 'e', 'n']\n"
     ]
    },
    {
     "data": {
      "text/plain": [
       "'y-u-e-w-e-n'"
      ]
     },
     "execution_count": 82,
     "metadata": {},
     "output_type": "execute_result"
    }
   ],
   "source": [
    "list = ['y', 'u', 'e', 'w', 'e', 'n']\n",
    "print(list)\n",
    "'-'.join(list)"
   ]
  },
  {
   "cell_type": "code",
   "execution_count": 20,
   "metadata": {},
   "outputs": [
    {
     "name": "stdout",
     "output_type": "stream",
     "text": [
      "[[0, 0, 0, 0], [0, 0, 0, 0]] \n",
      "\n",
      "li[0][0] = 0\n",
      "li[0][1] = 1\n",
      "li[0][2] = 2\n",
      "li[0][3] = 3\n",
      "\n",
      "li[1][0] = 4\n",
      "li[1][1] = 5\n",
      "li[1][2] = 6\n",
      "li[1][3] = 7\n",
      "\n",
      "true\n",
      "[[0, 1, 2, 3], [4, 5, 6, 7]]\n",
      "<class 'list'>\n",
      "[4, 5, 6, 7]\n",
      "<class 'list'>\n"
     ]
    }
   ],
   "source": [
    "chunk_length = 4\n",
    "num_sublist = 2\n",
    "# li = [[0] * chunk_length] * num_sublist # why not work?\n",
    "li = [[0] * chunk_length for _ in range(num_sublist)]\n",
    "print(li, \"\\n\")\n",
    "bits = [0, 1, 2, 3, 4, 5, 6, 7]\n",
    "for i in range(0, num_sublist):\n",
    "    for j in range(0, chunk_length):\n",
    "        li[i][j] = bits[i * chunk_length + j]\n",
    "        print(f\"li[{i}][{j}] = {li[i][j]}\")\n",
    "    print()\n",
    "if (li[0][0] == 0 and li[0][1] == 1\n",
    "    and li[0][2] == 2 and li[0][3] == 3):\n",
    "    print(\"true\")\n",
    "else:\n",
    "    print(\"false\")\n",
    "print(li)\n",
    "print(type(li))\n",
    "print(li[1])\n",
    "print(type(li[1]))"
   ]
  },
  {
   "cell_type": "code",
   "execution_count": 1,
   "metadata": {},
   "outputs": [
    {
     "name": "stdout",
     "output_type": "stream",
     "text": [
      "True\n"
     ]
    }
   ],
   "source": [
    "a = \"str\"\n",
    "if a == \"str\":\n",
    "    print(True)\n",
    "else:\n",
    "    print(False)"
   ]
  },
  {
   "cell_type": "code",
   "execution_count": 25,
   "metadata": {},
   "outputs": [
    {
     "name": "stdout",
     "output_type": "stream",
     "text": [
      "enc = b'\\xe6\\xbc\\xa2\\xe5\\xad\\x97'\n",
      "dec = 漢字\n"
     ]
    }
   ],
   "source": [
    "# https://stackoverflow.com/questions/17615414/how-to-convert-binary-string-to-normal-string-in-python3\n",
    "s = \"漢字\"\n",
    "enc = s.encode(\"utf-8\")\n",
    "print(f\"enc = {enc}\")\n",
    "dec = enc.decode(\"utf-8\")\n",
    "print(f\"dec = {dec}\")"
   ]
  },
  {
   "cell_type": "code",
   "execution_count": 33,
   "metadata": {},
   "outputs": [
    {
     "name": "stdout",
     "output_type": "stream",
     "text": [
      "1\n",
      "<class 'str'>\n",
      "1\n",
      "<class 'int'>\n",
      "1\n",
      "<class 'str'>\n"
     ]
    }
   ],
   "source": [
    "a = '1'\n",
    "print(a)\n",
    "print(type(a))\n",
    "\n",
    "b = int(a)\n",
    "print(b)\n",
    "print(type(b))\n",
    "\n",
    "c = '{}'.format(b)\n",
    "print(c)\n",
    "print(type(c))"
   ]
  },
  {
   "cell_type": "code",
   "execution_count": 37,
   "metadata": {},
   "outputs": [
    {
     "name": "stdout",
     "output_type": "stream",
     "text": [
      "128514\n"
     ]
    }
   ],
   "source": [
    "a = ord(\"😂\")\n",
    "print(a)"
   ]
  }
 ],
 "metadata": {
  "interpreter": {
   "hash": "cd8ac7ed5329ff1f59a8356dfddf06d159cf18414acbfd7b13d1d5cd1cbb5d7d"
  },
  "kernelspec": {
   "display_name": "Python 3 (ipykernel)",
   "language": "python",
   "name": "python3"
  },
  "language_info": {
   "codemirror_mode": {
    "name": "ipython",
    "version": 3
   },
   "file_extension": ".py",
   "mimetype": "text/x-python",
   "name": "python",
   "nbconvert_exporter": "python",
   "pygments_lexer": "ipython3",
   "version": "3.9.7"
  }
 },
 "nbformat": 4,
 "nbformat_minor": 2
}
