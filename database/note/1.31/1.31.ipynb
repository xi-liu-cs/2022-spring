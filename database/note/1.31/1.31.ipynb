{
 "cells": [
  {
   "cell_type": "code",
   "execution_count": 59,
   "metadata": {},
   "outputs": [
    {
     "data": {
      "text/plain": [
       "4"
      ]
     },
     "execution_count": 59,
     "metadata": {},
     "output_type": "execute_result"
    }
   ],
   "source": [
    "#@incrementByOne\n",
    "def add(a, b):\n",
    "    return a + b\n",
    "\n",
    "add(2, 2)"
   ]
  },
  {
   "cell_type": "code",
   "execution_count": 58,
   "metadata": {},
   "outputs": [
    {
     "name": "stdout",
     "output_type": "stream",
     "text": [
      "6\n",
      "11\n"
     ]
    }
   ],
   "source": [
    "def incrementByOne(oldFunc):\n",
    "    # use star to unpack arguments\n",
    "    def newFunc(*arg):\n",
    "        ret = oldFunc(*arg)\n",
    "        return ret + 1\n",
    "    return newFunc\n",
    "\n",
    "@incrementByOne\n",
    "def negate(x):\n",
    "    return -x\n",
    "\n",
    "@incrementByOne\n",
    "def add(x, y):\n",
    "    return x + y\n",
    "\n",
    "print(negate(-5))\n",
    "print(add(5, 5))"
   ]
  },
  {
   "cell_type": "code",
   "execution_count": null,
   "metadata": {},
   "outputs": [],
   "source": [
    "class fraction:\n",
    "    def __init__(self, num, den) -> None:\n",
    "        self.num = num\n",
    "        self.den = den\n",
    "    def gcf(a, b):\n",
    "        res = 1\n",
    "        for factor in range(a, a + 1):\n",
    "            if b % factor == 0:\n",
    "                res = factor\n",
    "        return res\n",
    "    def __getitem__(self, k):\n",
    "        return self.num if k == 0 else self.den\n",
    "    def __mult__(self, other):\n",
    "        return fraction(self.num * other.num, self.den * other.den)\n",
    "    def __eq__(self, other):\n",
    "        return self.num == other.num and self.den == other.den\n",
    "    def __repr__(self) -> str:\n",
    "        return f\"{self.num} / {self.den}\""
   ]
  },
  {
   "cell_type": "code",
   "execution_count": 20,
   "metadata": {},
   "outputs": [
    {
     "name": "stdout",
     "output_type": "stream",
     "text": [
      "xi\n",
      "yue\n",
      "wen\n"
     ]
    }
   ],
   "source": [
    "# next --> causes __next__method to be called on arg\n",
    "# iter --> causes __iter__method to be called on arg\n",
    "li = [\"xi\", \"yue\", \"wen\"]\n",
    "dir(li)\n",
    "it = iter(li)\n",
    "dir(it)\n",
    "print(next(it))\n",
    "print(next(it))\n",
    "print(next(it))\n",
    "# next gives next value of iterator"
   ]
  },
  {
   "cell_type": "code",
   "execution_count": null,
   "metadata": {},
   "outputs": [],
   "source": [
    "# for i in iterable\n",
    "#     iter is called on i"
   ]
  },
  {
   "cell_type": "code",
   "execution_count": 25,
   "metadata": {},
   "outputs": [
    {
     "name": "stdout",
     "output_type": "stream",
     "text": [
      "c\n",
      "d\n",
      "e\n"
     ]
    }
   ],
   "source": [
    "class letter_range:\n",
    "    def __init__(self, start, end) -> None:\n",
    "        self.end = end\n",
    "        self.cur = ord(start) # unicode\n",
    "    def __iter__(self):\n",
    "        return self\n",
    "    def __next__(self):\n",
    "        if self.cur >= ord(self.end):\n",
    "            raise StopIteration()\n",
    "        letter = chr(self.cur)\n",
    "        self.cur += 1\n",
    "        return letter\n",
    "letters = letter_range(\"c\", \"f\")\n",
    "for c in letters:\n",
    "    print(c)"
   ]
  },
  {
   "cell_type": "code",
   "execution_count": 27,
   "metadata": {},
   "outputs": [
    {
     "name": "stdout",
     "output_type": "stream",
     "text": [
      "xi\n",
      "yue\n",
      "wen\n"
     ]
    }
   ],
   "source": [
    "it = iter(li)\n",
    "# next(it)\n",
    "for val in it:\n",
    "    print(val)"
   ]
  },
  {
   "cell_type": "code",
   "execution_count": 28,
   "metadata": {},
   "outputs": [
    {
     "data": {
      "text/plain": [
       "list_iterator"
      ]
     },
     "execution_count": 28,
     "metadata": {},
     "output_type": "execute_result"
    }
   ],
   "source": [
    "it = iter(li)\n",
    "type(it)"
   ]
  },
  {
   "cell_type": "code",
   "execution_count": 29,
   "metadata": {},
   "outputs": [
    {
     "data": {
      "text/plain": [
       "<method-wrapper '__next__' of list_iterator object at 0x0000013C71073B50>"
      ]
     },
     "execution_count": 29,
     "metadata": {},
     "output_type": "execute_result"
    }
   ],
   "source": [
    "# list_iterator\n",
    "it.__next__"
   ]
  },
  {
   "cell_type": "code",
   "execution_count": 30,
   "metadata": {},
   "outputs": [
    {
     "data": {
      "text/plain": [
       "<method-wrapper '__iter__' of list_iterator object at 0x0000013C71073B50>"
      ]
     },
     "execution_count": 30,
     "metadata": {},
     "output_type": "execute_result"
    }
   ],
   "source": [
    "it.__iter__"
   ]
  },
  {
   "cell_type": "code",
   "execution_count": 33,
   "metadata": {},
   "outputs": [
    {
     "data": {
      "text/plain": [
       "['YUE']"
      ]
     },
     "execution_count": 33,
     "metadata": {},
     "output_type": "execute_result"
    }
   ],
   "source": [
    "[i.upper() for i in li if \"y\" in i]"
   ]
  },
  {
   "cell_type": "code",
   "execution_count": 37,
   "metadata": {},
   "outputs": [
    {
     "data": {
      "text/plain": [
       "{2, 4, 6}"
      ]
     },
     "execution_count": 37,
     "metadata": {},
     "output_type": "execute_result"
    }
   ],
   "source": [
    "nums = [1, 2, 3]\n",
    "{i * 2 for i in nums}"
   ]
  },
  {
   "cell_type": "code",
   "execution_count": 39,
   "metadata": {},
   "outputs": [
    {
     "data": {
      "text/plain": [
       "{'first': 'Xi', 'last': 'Liu'}"
      ]
     },
     "execution_count": 39,
     "metadata": {},
     "output_type": "execute_result"
    }
   ],
   "source": [
    "li = [(\"first\", \"xi\"), (\"last\", \"liu\"), (\"age\", None), (\"height\", None)]\n",
    "{k: v.title() for k, v in li if v is not None} # != "
   ]
  },
  {
   "cell_type": "code",
   "execution_count": 40,
   "metadata": {},
   "outputs": [
    {
     "data": {
      "text/plain": [
       "{'b': 0, 'a': 5, 'n': 4}"
      ]
     },
     "execution_count": 40,
     "metadata": {},
     "output_type": "execute_result"
    }
   ],
   "source": [
    "{letter: i for i, letter in enumerate(\"banana\")}"
   ]
  },
  {
   "cell_type": "code",
   "execution_count": 3,
   "metadata": {},
   "outputs": [
    {
     "ename": "IndexError",
     "evalue": "list index out of range",
     "output_type": "error",
     "traceback": [
      "\u001b[1;31m---------------------------------------------------------------------------\u001b[0m",
      "\u001b[1;31mIndexError\u001b[0m                                Traceback (most recent call last)",
      "\u001b[1;32m~\\AppData\\Local\\Temp/ipykernel_18236/4207606439.py\u001b[0m in \u001b[0;36m<module>\u001b[1;34m\u001b[0m\n\u001b[0;32m     13\u001b[0m     \u001b[1;31m# print(d)\u001b[0m\u001b[1;33m\u001b[0m\u001b[1;33m\u001b[0m\u001b[0m\n\u001b[0;32m     14\u001b[0m \u001b[0ms\u001b[0m \u001b[1;33m=\u001b[0m \u001b[0msorted\u001b[0m\u001b[1;33m(\u001b[0m\u001b[0md\u001b[0m\u001b[1;33m,\u001b[0m \u001b[0mkey\u001b[0m \u001b[1;33m=\u001b[0m \u001b[0md\u001b[0m\u001b[1;33m.\u001b[0m\u001b[0mget\u001b[0m\u001b[1;33m,\u001b[0m \u001b[0mreverse\u001b[0m \u001b[1;33m=\u001b[0m \u001b[1;32mTrue\u001b[0m\u001b[1;33m)\u001b[0m\u001b[1;33m\u001b[0m\u001b[1;33m\u001b[0m\u001b[0m\n\u001b[1;32m---> 15\u001b[1;33m \u001b[0mprint\u001b[0m\u001b[1;33m(\u001b[0m\u001b[0ms\u001b[0m\u001b[1;33m[\u001b[0m\u001b[1;36m0\u001b[0m\u001b[1;33m]\u001b[0m\u001b[1;33m,\u001b[0m \u001b[0md\u001b[0m\u001b[1;33m[\u001b[0m\u001b[0ms\u001b[0m\u001b[1;33m[\u001b[0m\u001b[1;36m0\u001b[0m\u001b[1;33m]\u001b[0m\u001b[1;33m]\u001b[0m\u001b[1;33m)\u001b[0m\u001b[1;33m\u001b[0m\u001b[1;33m\u001b[0m\u001b[0m\n\u001b[0m",
      "\u001b[1;31mIndexError\u001b[0m: list index out of range"
     ]
    }
   ],
   "source": [
    "# use relative path\n",
    "with open(\"starbucks.csv\", 'r') as f:\n",
    "    d = {}\n",
    "    next(f)\n",
    "    for line in f:\n",
    "        parts = line.strip('\\n').split(',')\n",
    "        name, calories, *cols = parts\n",
    "        # if calories.isnumeric():\n",
    "        try:\n",
    "            d[name] = int(calories)\n",
    "        except ValueError:\n",
    "            continue\n",
    "    # print(d)\n",
    "s = sorted(d, key = d.get, reverse = True)\n",
    "print(s[0], d[s[0]])"
   ]
  },
  {
   "cell_type": "code",
   "execution_count": 49,
   "metadata": {},
   "outputs": [
    {
     "name": "stdout",
     "output_type": "stream",
     "text": [
      "Caff猫 Latte 240\n",
      "Caff猫 Mocha (Without Whipped Cream) 220\n",
      "Caff猫 Mocha (Without Whipped Cream) 260\n",
      "Caff猫 Mocha (Without Whipped Cream) 230\n",
      "Caff猫 Mocha (Without Whipped Cream) 280\n",
      "Caff猫 Mocha (Without Whipped Cream) 340\n",
      "Caff猫 Mocha (Without Whipped Cream) 290\n",
      "Vanilla Latte (Or Other Flavoured Latte) 250\n",
      "Vanilla Latte (Or Other Flavoured Latte) 210\n",
      "Vanilla Latte (Or Other Flavoured Latte) 250\n",
      "Vanilla Latte (Or Other Flavoured Latte) 320\n",
      "Vanilla Latte (Or Other Flavoured Latte) 270\n",
      "Caramel Macchiato 240\n",
      "Caramel Macchiato 240\n",
      "Caramel Macchiato 300\n",
      "Caramel Macchiato 250\n",
      "White Chocolate Mocha (Without Whipped Cream) 270\n",
      "White Chocolate Mocha (Without Whipped Cream) 310\n",
      "White Chocolate Mocha (Without Whipped Cream) 280\n",
      "White Chocolate Mocha (Without Whipped Cream) 350\n",
      "White Chocolate Mocha (Without Whipped Cream) 400\n",
      "White Chocolate Mocha (Without Whipped Cream) 370\n",
      "White Chocolate Mocha (Without Whipped Cream) 450\n",
      "White Chocolate Mocha (Without Whipped Cream) 510\n",
      "White Chocolate Mocha (Without Whipped Cream) 460\n",
      "Hot Chocolate (Without Whipped Cream) 230\n",
      "Hot Chocolate (Without Whipped Cream) 240\n",
      "Hot Chocolate (Without Whipped Cream) 290\n",
      "Hot Chocolate (Without Whipped Cream) 250\n",
      "Hot Chocolate (Without Whipped Cream) 320\n",
      "Hot Chocolate (Without Whipped Cream) 380\n",
      "Hot Chocolate (Without Whipped Cream) 330\n",
      "Caramel Apple Spice (Without Whipped Cream) 210\n",
      "Caramel Apple Spice (Without Whipped Cream) 280\n",
      "Caramel Apple Spice (Without Whipped Cream) 360\n",
      "Tazo庐 Chai Tea Latte 210\n",
      "Tazo庐 Chai Tea Latte 240\n",
      "Tazo庐 Chai Tea Latte 220\n",
      "Tazo庐 Chai Tea Latte 260\n",
      "Tazo庐 Chai Tea Latte 310\n",
      "Tazo庐 Chai Tea Latte 280\n",
      "Tazo庐 Green Tea Latte 210\n",
      "Tazo庐 Green Tea Latte 260\n",
      "Tazo庐 Green Tea Latte 230\n",
      "Tazo庐 Green Tea Latte 290\n",
      "Tazo庐 Green Tea Latte 350\n",
      "Tazo庐 Green Tea Latte 310\n",
      "Tazo庐 Green Tea Latte 370\n",
      "Tazo庐 Green Tea Latte 450\n",
      "Tazo庐 Green Tea Latte 390\n",
      "Tazo庐 Full-Leaf Tea Latte 230\n",
      "Tazo庐 Full-Leaf Tea Latte 210\n",
      "Tazo庐 Full-Leaf Red Tea Latte (Vanilla Rooibos) 230\n",
      "Tazo庐 Full-Leaf Red Tea Latte (Vanilla Rooibos) 210\n",
      "Banana Chocolate Smoothie 280\n",
      "Banana Chocolate Smoothie 300\n",
      "Banana Chocolate Smoothie 290\n",
      "Orange Mango Banana Smoothie 260\n",
      "Orange Mango Banana Smoothie 270\n",
      "Orange Mango Banana Smoothie 270\n",
      "Strawberry Banana Smoothie 290\n",
      "Strawberry Banana Smoothie 290\n",
      "Strawberry Banana Smoothie 290\n",
      "Coffee 220\n",
      "Coffee 240\n",
      "Coffee 220\n",
      "Coffee 310\n",
      "Coffee 350\n",
      "Coffee 310\n",
      "Mocha (Without Whipped Cream) 260\n",
      "Mocha (Without Whipped Cream) 290\n",
      "Mocha (Without Whipped Cream) 260\n",
      "Mocha (Without Whipped Cream) 340\n",
      "Mocha (Without Whipped Cream) 390\n",
      "Mocha (Without Whipped Cream) 350\n",
      "Caramel (Without Whipped Cream) 280\n",
      "Caramel (Without Whipped Cream) 280\n",
      "Caramel (Without Whipped Cream) 260\n",
      "Caramel (Without Whipped Cream) 330\n",
      "Caramel (Without Whipped Cream) 370\n",
      "Caramel (Without Whipped Cream) 340\n",
      "Java Chip (Without Whipped Cream) 220\n",
      "Java Chip (Without Whipped Cream) 240\n",
      "Java Chip (Without Whipped Cream) 220\n",
      "Java Chip (Without Whipped Cream) 310\n",
      "Java Chip (Without Whipped Cream) 340\n",
      "Java Chip (Without Whipped Cream) 310\n",
      "Java Chip (Without Whipped Cream) 420\n",
      "Java Chip (Without Whipped Cream) 460\n",
      "Java Chip (Without Whipped Cream) 430\n",
      "Mocha 210\n",
      "Java Chip 220\n",
      "Java Chip 290\n",
      "Strawberries & Cr猫me (Without Whipped Cream) 230\n",
      "Strawberries & Cr猫me (Without Whipped Cream) 260\n",
      "Strawberries & Cr猫me (Without Whipped Cream) 240\n",
      "Strawberries & Cr猫me (Without Whipped Cream) 310\n",
      "Strawberries & Cr猫me (Without Whipped Cream) 350\n",
      "Strawberries & Cr猫me (Without Whipped Cream) 320\n",
      "Vanilla Bean (Without Whipped Cream) 240\n"
     ]
    }
   ],
   "source": [
    "# assuming csv was downloaded...\n",
    "\n",
    "with open(\"starbucks.csv\", 'r') as f:\n",
    "    # use next to skip header (but maybe you want to do something with this header???)\n",
    "    next(f)\n",
    "    count = 0\n",
    "    # loop over a file, line-by-line\n",
    "    for line in f:\n",
    "        # break up line using comma\n",
    "        line_parts = line.split(',')\n",
    "        # select only drinks that have calories over 200\n",
    "        # (make sure to attempt int conversion; should prob wrap in try except, no?)\n",
    "        if int(line_parts[3]) > 200:\n",
    "            print(line_parts[1], line_parts[3])"
   ]
  }
 ],
 "metadata": {
  "interpreter": {
   "hash": "780a354d57c8e214d9717ce5db3cb79ec448e2663d29d7e7694b88eee37d2c96"
  },
  "kernelspec": {
   "display_name": "Python 3 (ipykernel)",
   "language": "python",
   "name": "python3"
  },
  "language_info": {
   "codemirror_mode": {
    "name": "ipython",
    "version": 3
   },
   "file_extension": ".py",
   "mimetype": "text/x-python",
   "name": "python",
   "nbconvert_exporter": "python",
   "pygments_lexer": "ipython3",
   "version": "3.9.7"
  }
 },
 "nbformat": 4,
 "nbformat_minor": 2
}
