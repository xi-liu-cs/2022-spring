{
 "cells": [
  {
   "cell_type": "code",
   "execution_count": 65,
   "metadata": {},
   "outputs": [],
   "source": [
    "import numpy as np\n",
    "import pandas as pd\n",
    "#use '! conda install $package_name' to install package before import\n",
    "#! pip install --user <package>"
   ]
  },
  {
   "cell_type": "code",
   "execution_count": 64,
   "metadata": {},
   "outputs": [
    {
     "name": "stdout",
     "output_type": "stream",
     "text": [
      "Collecting package metadata (current_repodata.json): done\n",
      "Solving environment: done\n",
      "\n",
      "# All requested packages already installed.\n",
      "\n"
     ]
    }
   ],
   "source": [
    "!conda install pandas"
   ]
  },
  {
   "cell_type": "markdown",
   "metadata": {},
   "source": [
    "## 1. Compound types ##"
   ]
  },
  {
   "cell_type": "markdown",
   "metadata": {},
   "source": [
    "Python provides several built-in data types\n",
    "- Boolean → immutable True or False\n",
    "- Numbers → immutable integer, floating\n",
    "point, and complex values\n",
    "- String → immutable sequence of characters\n",
    "- List → mutable array of heterogeneous\n",
    "objects []\n",
    "- Tuple (Set) → immutable array of\n",
    "heterogeneous objects ()\n",
    "- Dictionary → mutable hash table of\n",
    "heterogeneous objects {}"
   ]
  },
  {
   "cell_type": "code",
   "execution_count": 11,
   "metadata": {},
   "outputs": [
    {
     "name": "stdout",
     "output_type": "stream",
     "text": [
      "True <class 'bool'>\n",
      "(1+2j) <class 'complex'>\n",
      "hello <class 'str'>\n",
      "['hello', 'world'] <class 'list'>\n",
      "{'world', 'hello'} <class 'set'>\n",
      "{'first': 'hello', 'second': 'world'} <class 'dict'>\n",
      "(1, 3) <class 'tuple'>\n"
     ]
    }
   ],
   "source": [
    "me = 1 < 2\n",
    "print(str(me) + ' ' + str(type(me)))\n",
    "# me = 0\n",
    "# print(str(me) + ' ' + str(type(me)))\n",
    "# me = 0.1\n",
    "# print(str(me) + ' ' + str(type(me)))\n",
    "me = 1 + 2j\n",
    "print(str(me) + ' ' + str(type(me)))\n",
    "me = 'hello'\n",
    "print(str(me) + ' ' + str(type(me)))\n",
    "me = ['hello', 'world']\n",
    "print(str(me) + ' ' + str(type(me)))\n",
    "me = {'hello', 'world'}\n",
    "print(str(me) + ' ' + str(type(me)))\n",
    "me = {}\n",
    "me['first'] = 'hello'\n",
    "me['second'] = 'world'\n",
    "print(str(me) + ' ' + str(type(me)))\n",
    "me = (1,3)\n",
    "print(str(me) + ' ' + str(type(me)))"
   ]
  },
  {
   "cell_type": "markdown",
   "metadata": {},
   "source": [
    "### 1.1 List ###"
   ]
  },
  {
   "cell_type": "markdown",
   "metadata": {},
   "source": [
    "* Python Lists provide array functionality and more\n",
    "    - They are dynamically sized\n",
    "    - Elements may be removed or added at any position\n",
    "* A list may contain a heterogeneous collection of values\n",
    "* List indexes start at 0\n",
    "* Lists are sequences (like strings) and may be iterated\n",
    "through using a for loop\n",
    "* Ranges are checked – error occurs if you attempt to access\n",
    "a list element that does not exist\n",
    "* Lists are declared using square brackets\n",
    "    - ndigit = [] --> declares and creates an empty list named ndigit\n",
    "    - stuff = [‘Apple’, ‘Banana’, 3, 7.5, “Hello”, -95, 39.3893] --> declares a 7 element list named stuff containing strings, ints and floats"
   ]
  },
  {
   "cell_type": "code",
   "execution_count": 80,
   "metadata": {},
   "outputs": [
    {
     "data": {
      "text/plain": [
       "[1, 3, 10, 4]"
      ]
     },
     "execution_count": 80,
     "metadata": {},
     "output_type": "execute_result"
    }
   ],
   "source": [
    "a= [1,3,5]\n",
    "a.append(4)\n",
    "a\n",
    "# a[0]\n",
    "# for item in a:\n",
    "#     print(item)\n",
    "a[2] = 10\n",
    "a"
   ]
  },
  {
   "cell_type": "markdown",
   "metadata": {},
   "source": [
    "### 1.1.1 List Comprehension ###"
   ]
  },
  {
   "cell_type": "markdown",
   "metadata": {},
   "source": [
    "- List Comprehension is the tactic of iterating through a list without constructing\n",
    "an explicit for loop. It is a good alternative to lambda based statements.\n",
    "- Example:\n",
    "    - [x**2 for x in lst]\n",
    "    - Would square each item in a list and return the list of squares.\n",
    "- Syntax:\n",
    "     - [Thing to be done ; for item; in list]\n",
    "- Good uses:\n",
    "     - Manipulating long lists\n",
    "     - Working with strings.\n",
    "     - Cleanly performing repetitive calculations"
   ]
  },
  {
   "cell_type": "code",
   "execution_count": 76,
   "metadata": {},
   "outputs": [
    {
     "data": {
      "text/plain": [
       "[1, 9, 25]"
      ]
     },
     "execution_count": 76,
     "metadata": {},
     "output_type": "execute_result"
    }
   ],
   "source": [
    "lst = [1,3,5]\n",
    "[x**2 for x in lst]"
   ]
  },
  {
   "cell_type": "markdown",
   "metadata": {},
   "source": [
    "### 1.2 Tuple ###"
   ]
  },
  {
   "cell_type": "code",
   "execution_count": 79,
   "metadata": {},
   "outputs": [
    {
     "ename": "TypeError",
     "evalue": "'tuple' object does not support item assignment",
     "output_type": "error",
     "traceback": [
      "\u001b[0;31m--------------------\u001b[0m",
      "\u001b[0;31mTypeError\u001b[0mTraceback (most recent call last)",
      "\u001b[0;32m<ipython-input-79-413348abf0cb>\u001b[0m in \u001b[0;36m<module>\u001b[0;34m\u001b[0m\n\u001b[1;32m      1\u001b[0m \u001b[0ma\u001b[0m \u001b[0;34m=\u001b[0m \u001b[0;34m(\u001b[0m\u001b[0;36m1\u001b[0m\u001b[0;34m,\u001b[0m\u001b[0;36m2\u001b[0m\u001b[0;34m,\u001b[0m\u001b[0;36m3\u001b[0m\u001b[0;34m)\u001b[0m\u001b[0;34m\u001b[0m\u001b[0;34m\u001b[0m\u001b[0m\n\u001b[1;32m      2\u001b[0m \u001b[0;31m# a[0]\u001b[0m\u001b[0;34m\u001b[0m\u001b[0;34m\u001b[0m\u001b[0;34m\u001b[0m\u001b[0m\n\u001b[0;32m----> 3\u001b[0;31m \u001b[0ma\u001b[0m\u001b[0;34m[\u001b[0m\u001b[0;36m1\u001b[0m\u001b[0;34m]\u001b[0m \u001b[0;34m=\u001b[0m \u001b[0;36m2\u001b[0m\u001b[0;34m\u001b[0m\u001b[0;34m\u001b[0m\u001b[0m\n\u001b[0m\u001b[1;32m      4\u001b[0m \u001b[0ma\u001b[0m\u001b[0;34m\u001b[0m\u001b[0;34m\u001b[0m\u001b[0m\n",
      "\u001b[0;31mTypeError\u001b[0m: 'tuple' object does not support item assignment"
     ]
    }
   ],
   "source": [
    "a = (1,2,3)\n",
    "# a[0]\n",
    "a[1] = 2\n",
    "a"
   ]
  },
  {
   "cell_type": "markdown",
   "metadata": {},
   "source": [
    "### 1.3 Dict ###"
   ]
  },
  {
   "cell_type": "markdown",
   "metadata": {},
   "source": [
    "- Dictionaries are a useful data storage technique prominently used in python.\n",
    "- A dictionary can be viewed as a set of key:value pairs stored together\n",
    "- It is initialized as follows:\n",
    "- Dict = {key:value, “apple”:7, “pear”:22, 17: “tuesdays”, 22:45}\n",
    "- These values are accessed like in a list, except with a key instead of an index\n",
    "- Dict[“apple”] => 7\n",
    "- Keys can only be mutable"
   ]
  },
  {
   "cell_type": "code",
   "execution_count": 14,
   "metadata": {},
   "outputs": [
    {
     "data": {
      "text/plain": [
       "{'jack': 4098, 'guido': 4127}"
      ]
     },
     "execution_count": 14,
     "metadata": {},
     "output_type": "execute_result"
    }
   ],
   "source": [
    "tel = {'jack': 4098, 'sape': 4139}\n",
    "tel['guido'] = 4127\n",
    "tel['jack']\n",
    "del tel['sape']\n",
    "tel"
   ]
  },
  {
   "cell_type": "code",
   "execution_count": 85,
   "metadata": {},
   "outputs": [
    {
     "data": {
      "text/plain": [
       "['guido', 'jack']"
      ]
     },
     "execution_count": 85,
     "metadata": {},
     "output_type": "execute_result"
    }
   ],
   "source": [
    "list(tel)\n",
    "sorted(tel)"
   ]
  },
  {
   "cell_type": "code",
   "execution_count": 16,
   "metadata": {},
   "outputs": [
    {
     "name": "stdout",
     "output_type": "stream",
     "text": [
      "the pure\n",
      "the brave\n"
     ]
    }
   ],
   "source": [
    "knights = {'gallahad': 'the pure', 'robin': 'the brave'}\n",
    "for k,v in knights.items():\n",
    "#     print(k, v)\n",
    "    print(knights[k])"
   ]
  },
  {
   "cell_type": "code",
   "execution_count": 89,
   "metadata": {},
   "outputs": [
    {
     "name": "stdout",
     "output_type": "stream",
     "text": [
      "gallahad\n",
      "robin\n"
     ]
    }
   ],
   "source": [
    "for k in knights.keys():\n",
    "    print(k)"
   ]
  },
  {
   "cell_type": "code",
   "execution_count": 90,
   "metadata": {},
   "outputs": [
    {
     "data": {
      "text/plain": [
       "{'GALLAHAD': 'the pure', 'ROBIN': 'the brave'}"
      ]
     },
     "execution_count": 90,
     "metadata": {},
     "output_type": "execute_result"
    }
   ],
   "source": [
    "#dict comprehension\n",
    "{k.upper():v for k,v in knights.items()}"
   ]
  },
  {
   "cell_type": "markdown",
   "metadata": {},
   "source": [
    "### 1.4 String"
   ]
  },
  {
   "cell_type": "markdown",
   "metadata": {},
   "source": [
    "- Python represents sequences of characters,\n",
    "including 0 and 1 character sequences, as strings\n",
    "- Other sequence types are lists and tuples\n",
    "- String literals are defined using single or double\n",
    "quotes\n",
    "'hello'\n",
    "\"hello\"\n",
    "- The str class provides a variety of common\n",
    "operations accessed with operators\n",
    "- Other common sequence operations are provided\n",
    "by methods to which a string (or other sequence\n",
    "type) may be passed"
   ]
  },
  {
   "cell_type": "code",
   "execution_count": 25,
   "metadata": {},
   "outputs": [
    {
     "name": "stdout",
     "output_type": "stream",
     "text": [
      "Is \"an\" in apple orange? True\n",
      "Is \"cherry\" not in apple orange? True\n",
      "Concatenated val+val: apple orangeapple orange\n",
      "3 occurrences of val: apple orangeapple orangeapple orange\n",
      "Positions 1, 3, 5, and 7 of val: p,l, ,r\n",
      "Positions 3 through 7 of val: le or\n",
      "Positions 0-10 by 2 of val: apeoag\n",
      "Length of \"apple orange\" = 12\n",
      "Smallest value in val[0:5]? a\n",
      "Largest value in val? r\n"
     ]
    }
   ],
   "source": [
    "# Demonstrate several str class operations\n",
    "val = 'apple orange'\n",
    "# Character sequence is in the string\n",
    "res = 'an' in val\n",
    "print('Is \"an\" in ' + val + '? ' + str(res))\n",
    "# Character sequence is not in the string\n",
    "res = 'cherry' not in val\n",
    "print('Is \"cherry\" not in ' + val + '? ' + str(res))\n",
    "# Concatenation\n",
    "res = val + val\n",
    "print('Concatenated val+val: ' + res)\n",
    "# Multiple occurrences\n",
    "res = val * 3\n",
    "print('3 occurrences of val: ' + res)\n",
    "# Substring, one character; Note: 0 origin\n",
    "print('Positions 1, 3, 5, and 7 of val: '\n",
    "+ val[1] + ',' + val[3] + ','\n",
    "+ val[5] + ',' + val[7])\n",
    "# Substring (slice); Note: start <= posit < end\n",
    "print('Positions 3 through 7 of val: ' + val[3:8])\n",
    "# Substring with step; every other character from 0-10\n",
    "print('Positions 0-10 by 2 of val: ' + val[0:11:2])\n",
    "# Length of string\n",
    "res = len(val)\n",
    "print('Length of \"' + val + '\" = ' + str(res))\n",
    "# Smallest value in string\n",
    "res = min(val[0:5])\n",
    "print('Smallest value in val[0:5]? ' + str(res))\n",
    "# Largest value in string\n",
    "res = max(val)\n",
    "print('Largest value in val? ' + str(res))"
   ]
  },
  {
   "cell_type": "markdown",
   "metadata": {},
   "source": [
    "### 2 Basic Function ###"
   ]
  },
  {
   "cell_type": "markdown",
   "metadata": {},
   "source": [
    "### 2.1 built in function ###"
   ]
  },
  {
   "cell_type": "code",
   "execution_count": null,
   "metadata": {},
   "outputs": [],
   "source": [
    "#built in function\n",
    "print()\n",
    "range() #creates numeric sequenes, used in for loop\n",
    "#range(stop)\n",
    "#range(start, stop, increment)\n",
    "#Starts at start (or 0) and ends before stop\n",
    "#(e.g. start <= val < stop)"
   ]
  },
  {
   "cell_type": "code",
   "execution_count": 97,
   "metadata": {},
   "outputs": [
    {
     "name": "stdout",
     "output_type": "stream",
     "text": [
      "1\n",
      "3\n",
      "5\n",
      "7\n",
      "9\n",
      "11\n",
      "13\n"
     ]
    }
   ],
   "source": [
    "for item in range(1,14,2):\n",
    "    print(item)"
   ]
  },
  {
   "cell_type": "code",
   "execution_count": 102,
   "metadata": {},
   "outputs": [
    {
     "data": {
      "text/plain": [
       "[0, 1, 0, 1, 2, 3, 4]"
      ]
     },
     "execution_count": 102,
     "metadata": {},
     "output_type": "execute_result"
    }
   ],
   "source": [
    "list(range(2)) + list(range(5))"
   ]
  },
  {
   "cell_type": "code",
   "execution_count": 27,
   "metadata": {},
   "outputs": [
    {
     "data": {
      "text/plain": [
       "14"
      ]
     },
     "execution_count": 27,
     "metadata": {},
     "output_type": "execute_result"
    }
   ],
   "source": [
    "#define a function\n",
    "def count(n):\n",
    "    result = 0\n",
    "    for i in n:\n",
    "        result+= i\n",
    "    return result\n",
    "r = count([1,3,4,6])\n",
    "r"
   ]
  },
  {
   "cell_type": "code",
   "execution_count": 31,
   "metadata": {},
   "outputs": [
    {
     "name": "stdout",
     "output_type": "stream",
     "text": [
      "14\n"
     ]
    },
    {
     "data": {
      "text/plain": [
       "NoneType"
      ]
     },
     "execution_count": 31,
     "metadata": {},
     "output_type": "execute_result"
    }
   ],
   "source": [
    "def count1(n):\n",
    "    result = 0\n",
    "    for i in n:\n",
    "        result+= i\n",
    "    print(result)\n",
    "r = count1([1,3,4,6])\n",
    "type(r)"
   ]
  },
  {
   "cell_type": "code",
   "execution_count": 35,
   "metadata": {},
   "outputs": [
    {
     "name": "stdout",
     "output_type": "stream",
     "text": [
      "14\n"
     ]
    },
    {
     "data": {
      "text/plain": [
       "False"
      ]
     },
     "execution_count": 35,
     "metadata": {},
     "output_type": "execute_result"
    }
   ],
   "source": [
    "count([1,3,4,6]) == count1([1,3,4,6])"
   ]
  },
  {
   "cell_type": "markdown",
   "metadata": {},
   "source": [
    "### 2.2 doctest ###"
   ]
  },
  {
   "cell_type": "code",
   "execution_count": 36,
   "metadata": {},
   "outputs": [
    {
     "name": "stdout",
     "output_type": "stream",
     "text": [
      "**********************************************************************\n",
      "File \"__main__\", line 5, in __main__.mult_digits\n",
      "Failed example:\n",
      "    mult_digits(10) # 1 * 0 = 0\n",
      "Exception raised:\n",
      "    Traceback (most recent call last):\n",
      "      File \"C:\\Users\\DELL\\AppData\\Local\\Programs\\Python\\Python310\\lib\\doctest.py\", line 1346, in __run\n",
      "        exec(compile(example.source, filename, \"single\",\n",
      "      File \"<doctest __main__.mult_digits[0]>\", line 1, in <module>\n",
      "        mult_digits(10) # 1 * 0 = 0\n",
      "      File \"C:\\Users\\DELL\\AppData\\Local\\Temp\\ipykernel_20248\\1489161830.py\", line 17, in mult_digits\n",
      "        for i in np.arange(length):\n",
      "    NameError: name 'np' is not defined\n",
      "**********************************************************************\n",
      "File \"__main__\", line 7, in __main__.mult_digits\n",
      "Failed example:\n",
      "    mult_digits(4224) # 4 * 2 * 2 * 4 = 64\n",
      "Exception raised:\n",
      "    Traceback (most recent call last):\n",
      "      File \"C:\\Users\\DELL\\AppData\\Local\\Programs\\Python\\Python310\\lib\\doctest.py\", line 1346, in __run\n",
      "        exec(compile(example.source, filename, \"single\",\n",
      "      File \"<doctest __main__.mult_digits[1]>\", line 1, in <module>\n",
      "        mult_digits(4224) # 4 * 2 * 2 * 4 = 64\n",
      "      File \"C:\\Users\\DELL\\AppData\\Local\\Temp\\ipykernel_20248\\1489161830.py\", line 17, in mult_digits\n",
      "        for i in np.arange(length):\n",
      "    NameError: name 'np' is not defined\n",
      "**********************************************************************\n",
      "File \"__main__\", line 9, in __main__.mult_digits\n",
      "Failed example:\n",
      "    mult_digits(123456789)\n",
      "Exception raised:\n",
      "    Traceback (most recent call last):\n",
      "      File \"C:\\Users\\DELL\\AppData\\Local\\Programs\\Python\\Python310\\lib\\doctest.py\", line 1346, in __run\n",
      "        exec(compile(example.source, filename, \"single\",\n",
      "      File \"<doctest __main__.mult_digits[2]>\", line 1, in <module>\n",
      "        mult_digits(123456789)\n",
      "      File \"C:\\Users\\DELL\\AppData\\Local\\Temp\\ipykernel_20248\\1489161830.py\", line 17, in mult_digits\n",
      "        for i in np.arange(length):\n",
      "    NameError: name 'np' is not defined\n",
      "**********************************************************************\n",
      "1 items had failures:\n",
      "   3 of   3 in __main__.mult_digits\n",
      "***Test Failed*** 3 failures.\n"
     ]
    },
    {
     "data": {
      "text/plain": [
       "TestResults(failed=3, attempted=3)"
      ]
     },
     "execution_count": 36,
     "metadata": {},
     "output_type": "execute_result"
    }
   ],
   "source": [
    "#doctest\n",
    "def mult_digits(n):\n",
    "    \"\"\"Multiply all the digits of n.\n",
    "\n",
    "    >>> mult_digits(10) # 1 * 0 = 0\n",
    "    0\n",
    "    >>> mult_digits(4224) # 4 * 2 * 2 * 4 = 64\n",
    "    6\n",
    "    >>> mult_digits(123456789)\n",
    "    362880\n",
    "    \"\"\"\n",
    "\n",
    "    #Your code goes here#\n",
    "    result = 1\n",
    "    string_n = str(n)\n",
    "    length = len(string_n)\n",
    "    for i in np.arange(length):\n",
    "        module = 10\n",
    "        result = result*(n%module)\n",
    "        n = n//module\n",
    "    return result\n",
    "import doctest\n",
    "doctest.testmod()\n",
    "#test in terminal\n",
    "#python -m doctest xxx.py   "
   ]
  },
  {
   "cell_type": "markdown",
   "metadata": {},
   "source": [
    "### 2.3 Lambda function ###"
   ]
  },
  {
   "cell_type": "markdown",
   "metadata": {},
   "source": [
    "- Lambdas are an alternative way to define simple functions in python.\n",
    "- Instead of defining a function in python using:\n",
    "- Def some_func(x):\n",
    "      Do something.\n",
    "- You can instead do:\n",
    "      Some_func = Lambda x: do something.\n",
    "      \n",
    "- Why?\n",
    "    - Lambdas are an efficient way to compress helper functions\n",
    "    - They make simple code more readable\n",
    "    - They are pythonic in their methodology and succinctness\n",
    "    - They can easily be assigned and treated as objects in comparison to regular functions.\n",
    "- When?\n",
    "    - Lambdas should be used when you need to make a small method that will be used for 1 or 2 specific purposes.\n",
    "    - They are primarily used in conjunction with Map, Filter, and Reduce.\n",
    "    - If you need a real helper that does multiple things, it is better to make a proper helper function."
   ]
  },
  {
   "cell_type": "code",
   "execution_count": 122,
   "metadata": {},
   "outputs": [
    {
     "data": {
      "text/plain": [
       "7"
      ]
     },
     "execution_count": 122,
     "metadata": {},
     "output_type": "execute_result"
    }
   ],
   "source": [
    "#basic lambda function\n",
    "f = lambda x: x+1\n",
    "f(2)\n",
    "f = lambda x,y : x+y\n",
    "f(5,2)"
   ]
  },
  {
   "cell_type": "markdown",
   "metadata": {},
   "source": [
    "Map: Convert a List to another List\n",
    "- Map is a function that takes in a list and a function and returns a map with the\n",
    "function applied to each element in the list.\n",
    "- Syntax:\n",
    "     - Input : map(function, list)\n",
    "     - Returns: a map iterator with the function applied to each element of the list.\n",
    "- Important note!\n",
    "     - Map does NOT return a list. It returns an iterator. An easy solution is to just convert it to a list using:\n",
    "     - list(map(function,list)), which will give you a list as output\n",
    "- Simple Example:\n",
    "     - list(map(square,input_list))\n",
    "     - Square each element in the list."
   ]
  },
  {
   "cell_type": "code",
   "execution_count": 127,
   "metadata": {},
   "outputs": [
    {
     "data": {
      "text/plain": [
       "[2, 4, 6]"
      ]
     },
     "execution_count": 127,
     "metadata": {},
     "output_type": "execute_result"
    }
   ],
   "source": [
    "# list(map(lambda x:x*2,[1,2,3]))\n",
    "[2*item for item in [1,2,3]]"
   ]
  },
  {
   "cell_type": "markdown",
   "metadata": {},
   "source": [
    "### 3 Create Class ###"
   ]
  },
  {
   "cell_type": "code",
   "execution_count": 135,
   "metadata": {},
   "outputs": [
    {
     "name": "stdout",
     "output_type": "stream",
     "text": [
      "the person named John, age is 36\n"
     ]
    }
   ],
   "source": [
    "#initiate a class\n",
    "class Person:\n",
    "    #constructor\n",
    "    def __init__(self, name, age):\n",
    "        self.name = name\n",
    "        self.age = age\n",
    "        \n",
    "    def myfunc(self):\n",
    "        print(\"Hello my name is \" + self.name)\n",
    "    \n",
    "    def get_name(self):\n",
    "        return self.name\n",
    "    \n",
    "    def __str__(self):\n",
    "        return \"the person named {}, age is {}\".format(self.name,self.age)\n",
    "    \n",
    "    @staticmethod\n",
    "    def isadult(age):\n",
    "        # note... no self!\n",
    "        return age > 18\n",
    "    \n",
    "p1 = Person(\"John\", 36)\n",
    "print(p1)\n",
    "# print(p1.name)\n",
    "# print(p1.age)\n",
    "# print(p1.get_name())"
   ]
  },
  {
   "cell_type": "code",
   "execution_count": 136,
   "metadata": {},
   "outputs": [
    {
     "name": "stdout",
     "output_type": "stream",
     "text": [
      "the person named John, age is 36\n"
     ]
    }
   ],
   "source": [
    "print(p1)"
   ]
  },
  {
   "cell_type": "code",
   "execution_count": 140,
   "metadata": {},
   "outputs": [
    {
     "data": {
      "text/plain": [
       "True"
      ]
     },
     "execution_count": 140,
     "metadata": {},
     "output_type": "execute_result"
    }
   ],
   "source": [
    "Person.isadult(19)"
   ]
  },
  {
   "cell_type": "code",
   "execution_count": null,
   "metadata": {},
   "outputs": [],
   "source": []
  }
 ],
 "metadata": {
  "kernelspec": {
   "display_name": "Python 3 (ipykernel)",
   "language": "python",
   "name": "python3"
  },
  "language_info": {
   "codemirror_mode": {
    "name": "ipython",
    "version": 3
   },
   "file_extension": ".py",
   "mimetype": "text/x-python",
   "name": "python",
   "nbconvert_exporter": "python",
   "pygments_lexer": "ipython3",
   "version": "3.10.2"
  }
 },
 "nbformat": 4,
 "nbformat_minor": 2
}
